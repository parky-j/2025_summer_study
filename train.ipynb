{
 "cells": [
  {
   "cell_type": "code",
   "execution_count": 2,
   "id": "90e5037f",
   "metadata": {},
   "outputs": [
    {
     "ename": "NameError",
     "evalue": "name '_C' is not defined",
     "output_type": "error",
     "traceback": [
      "\u001b[1;31m---------------------------------------------------------------------------\u001b[0m",
      "\u001b[1;31mNameError\u001b[0m                                 Traceback (most recent call last)",
      "Cell \u001b[1;32mIn[2], line 1\u001b[0m\n\u001b[1;32m----> 1\u001b[0m \u001b[38;5;28;01mimport\u001b[39;00m \u001b[38;5;21;01mtorch\u001b[39;00m\n\u001b[0;32m      2\u001b[0m \u001b[38;5;28;01mimport\u001b[39;00m \u001b[38;5;21;01mtorch\u001b[39;00m\u001b[38;5;21;01m.\u001b[39;00m\u001b[38;5;21;01mnn\u001b[39;00m \u001b[38;5;28;01mas\u001b[39;00m \u001b[38;5;21;01mnn\u001b[39;00m\n\u001b[0;32m      4\u001b[0m x \u001b[38;5;241m=\u001b[39m torch\u001b[38;5;241m.\u001b[39mrandn(\u001b[38;5;241m2\u001b[39m, \u001b[38;5;241m32\u001b[39m, \u001b[38;5;241m32\u001b[39m, \u001b[38;5;241m96\u001b[39m)  \u001b[38;5;66;03m# (N, H, W, C)\u001b[39;00m\n",
      "File \u001b[1;32mc:\\Users\\Genius Park\\AppData\\Local\\anaconda3\\envs\\cuda12_1\\lib\\site-packages\\torch\\__init__.py:764\u001b[0m\n\u001b[0;32m    761\u001b[0m     \u001b[38;5;28;01mraise\u001b[39;00m  \u001b[38;5;66;03m# If __file__ is not None the cause is unknown, so just re-raise.\u001b[39;00m\n\u001b[0;32m    763\u001b[0m __name, __obj \u001b[38;5;241m=\u001b[39m \u001b[38;5;124m'\u001b[39m\u001b[38;5;124m'\u001b[39m, \u001b[38;5;28;01mNone\u001b[39;00m\n\u001b[1;32m--> 764\u001b[0m \u001b[38;5;28;01mfor\u001b[39;00m __name \u001b[38;5;129;01min\u001b[39;00m \u001b[38;5;28mdir\u001b[39m(\u001b[43m_C\u001b[49m):\n\u001b[0;32m    765\u001b[0m     \u001b[38;5;28;01mif\u001b[39;00m __name[\u001b[38;5;241m0\u001b[39m] \u001b[38;5;241m!=\u001b[39m \u001b[38;5;124m'\u001b[39m\u001b[38;5;124m_\u001b[39m\u001b[38;5;124m'\u001b[39m \u001b[38;5;129;01mand\u001b[39;00m \u001b[38;5;129;01mnot\u001b[39;00m __name\u001b[38;5;241m.\u001b[39mendswith(\u001b[38;5;124m'\u001b[39m\u001b[38;5;124mBase\u001b[39m\u001b[38;5;124m'\u001b[39m):\n\u001b[0;32m    766\u001b[0m         __all__\u001b[38;5;241m.\u001b[39mappend(__name)\n",
      "\u001b[1;31mNameError\u001b[0m: name '_C' is not defined"
     ]
    }
   ],
   "source": [
    "import torch\n",
    "import torch.nn as nn\n",
    "\n",
    "x = torch.randn(2, 32, 32, 96)  # (N, H, W, C)\n",
    "ln = nn.LayerNorm(normalized_shape=96)\n",
    "out = ln(x)\n",
    "\n",
    "print(out.shape)"
   ]
  },
  {
   "cell_type": "code",
   "execution_count": null,
   "id": "7010e41e",
   "metadata": {},
   "outputs": [],
   "source": [
    "from inception import Inception, InceptionBlock\n",
    "import torch.nn as nn\n",
    "\n",
    "class Flatten(nn.Module):\n",
    "\tdef __init__(self, out_features):\n",
    "\t\tsuper(Flatten, self).__init__()\n",
    "\t\tself.output_dim = out_features\n",
    "\n",
    "\tdef forward(self, x):\n",
    "\t\treturn x.view(-1, self.output_dim)\n",
    "    \n",
    "class Reshape(nn.Module):\n",
    "\tdef __init__(self, out_shape):\n",
    "\t\tsuper(Reshape, self).__init__()\n",
    "\t\tself.out_shape = out_shape\n",
    "\n",
    "\tdef forward(self, x):\n",
    "\t\treturn x.view(-1, *self.out_shape)\n",
    "\t\n",
    "InceptionTime = nn.Sequential(\n",
    "                Reshape(out_shape=(1,160)),\n",
    "                InceptionBlock(\n",
    "                    in_channels=1, \n",
    "                    n_filters=32, \n",
    "                    kernel_sizes=[5, 11, 23],\n",
    "                    bottleneck_channels=32,\n",
    "                    use_residual=True,\n",
    "                    activation=nn.ReLU()\n",
    "                ),\n",
    "                InceptionBlock(\n",
    "                    in_channels=32*4, \n",
    "                    n_filters=32, \n",
    "                    kernel_sizes=[5, 11, 23],\n",
    "                    bottleneck_channels=32,\n",
    "                    use_residual=True,\n",
    "                    activation=nn.ReLU()\n",
    "                ),\n",
    "                nn.AdaptiveAvgPool1d(output_size=1),\n",
    "                Flatten(out_features=32*4*1),\n",
    "                nn.Linear(in_features=4*32*1, out_features=3)\n",
    "    )"
   ]
  },
  {
   "cell_type": "code",
   "execution_count": 2,
   "id": "b556c430",
   "metadata": {},
   "outputs": [
    {
     "data": {
      "text/plain": [
       "torch.Size([30, 1, 75, 75])"
      ]
     },
     "execution_count": 2,
     "metadata": {},
     "output_type": "execute_result"
    }
   ],
   "source": [
    "train_dataset[2][0].shape"
   ]
  },
  {
   "cell_type": "code",
   "execution_count": 3,
   "id": "b1fc2ffd",
   "metadata": {},
   "outputs": [
    {
     "name": "stderr",
     "output_type": "stream",
     "text": [
      "c:\\Users\\Genius Park\\AppData\\Local\\anaconda3\\envs\\cuda12_1\\lib\\site-packages\\matplotlib\\cbook\\__init__.py:719: FutureWarning: The input object of type 'Tensor' is an array-like implementing one of the corresponding protocols (`__array__`, `__array_interface__` or `__array_struct__`); but not a sequence (or 0-D). In the future, this object will be coerced as if it was first converted using `np.array(obj)`. To retain the old behaviour, you have to either modify the type 'Tensor', or assign to an empty array created with `np.empty(correct_shape, dtype=object)`.\n",
      "  x = np.array(x, subok=True, copy=copy)\n"
     ]
    },
    {
     "ename": "TypeError",
     "evalue": "Image data of dtype <U69 cannot be converted to float",
     "output_type": "error",
     "traceback": [
      "\u001b[1;31m---------------------------------------------------------------------------\u001b[0m",
      "\u001b[1;31mTypeError\u001b[0m                                 Traceback (most recent call last)",
      "Cell \u001b[1;32mIn[3], line 6\u001b[0m\n\u001b[0;32m      4\u001b[0m train_dataset \u001b[38;5;241m=\u001b[39m DROZY_FACE_Dataset(split_dir\u001b[38;5;241m=\u001b[39m\u001b[38;5;124m\"\u001b[39m\u001b[38;5;124m./DROZY/gaeMuRan/face_cropped_videos_npy/test\u001b[39m\u001b[38;5;124m\"\u001b[39m)\n\u001b[0;32m      5\u001b[0m mean_face \u001b[38;5;241m=\u001b[39m train_dataset[\u001b[38;5;241m2\u001b[39m]\n\u001b[1;32m----> 6\u001b[0m \u001b[43mplt\u001b[49m\u001b[38;5;241;43m.\u001b[39;49m\u001b[43mimshow\u001b[49m\u001b[43m(\u001b[49m\u001b[43mmean_face\u001b[49m\u001b[43m,\u001b[49m\u001b[43m \u001b[49m\u001b[43mcmap\u001b[49m\u001b[38;5;241;43m=\u001b[39;49m\u001b[38;5;124;43m'\u001b[39;49m\u001b[38;5;124;43mgray\u001b[39;49m\u001b[38;5;124;43m'\u001b[39;49m\u001b[43m)\u001b[49m\n\u001b[0;32m      7\u001b[0m plt\u001b[38;5;241m.\u001b[39mtitle(\u001b[38;5;124m\"\u001b[39m\u001b[38;5;124m정규화 평균 얼굴 (0~1 스케일)\u001b[39m\u001b[38;5;124m\"\u001b[39m)\n\u001b[0;32m      8\u001b[0m plt\u001b[38;5;241m.\u001b[39maxis(\u001b[38;5;124m'\u001b[39m\u001b[38;5;124moff\u001b[39m\u001b[38;5;124m'\u001b[39m)\n",
      "File \u001b[1;32mc:\\Users\\Genius Park\\AppData\\Local\\anaconda3\\envs\\cuda12_1\\lib\\site-packages\\matplotlib\\pyplot.py:2695\u001b[0m, in \u001b[0;36mimshow\u001b[1;34m(X, cmap, norm, aspect, interpolation, alpha, vmin, vmax, origin, extent, interpolation_stage, filternorm, filterrad, resample, url, data, **kwargs)\u001b[0m\n\u001b[0;32m   2689\u001b[0m \u001b[38;5;129m@_copy_docstring_and_deprecators\u001b[39m(Axes\u001b[38;5;241m.\u001b[39mimshow)\n\u001b[0;32m   2690\u001b[0m \u001b[38;5;28;01mdef\u001b[39;00m \u001b[38;5;21mimshow\u001b[39m(\n\u001b[0;32m   2691\u001b[0m         X, cmap\u001b[38;5;241m=\u001b[39m\u001b[38;5;28;01mNone\u001b[39;00m, norm\u001b[38;5;241m=\u001b[39m\u001b[38;5;28;01mNone\u001b[39;00m, \u001b[38;5;241m*\u001b[39m, aspect\u001b[38;5;241m=\u001b[39m\u001b[38;5;28;01mNone\u001b[39;00m, interpolation\u001b[38;5;241m=\u001b[39m\u001b[38;5;28;01mNone\u001b[39;00m,\n\u001b[0;32m   2692\u001b[0m         alpha\u001b[38;5;241m=\u001b[39m\u001b[38;5;28;01mNone\u001b[39;00m, vmin\u001b[38;5;241m=\u001b[39m\u001b[38;5;28;01mNone\u001b[39;00m, vmax\u001b[38;5;241m=\u001b[39m\u001b[38;5;28;01mNone\u001b[39;00m, origin\u001b[38;5;241m=\u001b[39m\u001b[38;5;28;01mNone\u001b[39;00m, extent\u001b[38;5;241m=\u001b[39m\u001b[38;5;28;01mNone\u001b[39;00m,\n\u001b[0;32m   2693\u001b[0m         interpolation_stage\u001b[38;5;241m=\u001b[39m\u001b[38;5;28;01mNone\u001b[39;00m, filternorm\u001b[38;5;241m=\u001b[39m\u001b[38;5;28;01mTrue\u001b[39;00m, filterrad\u001b[38;5;241m=\u001b[39m\u001b[38;5;241m4.0\u001b[39m,\n\u001b[0;32m   2694\u001b[0m         resample\u001b[38;5;241m=\u001b[39m\u001b[38;5;28;01mNone\u001b[39;00m, url\u001b[38;5;241m=\u001b[39m\u001b[38;5;28;01mNone\u001b[39;00m, data\u001b[38;5;241m=\u001b[39m\u001b[38;5;28;01mNone\u001b[39;00m, \u001b[38;5;241m*\u001b[39m\u001b[38;5;241m*\u001b[39mkwargs):\n\u001b[1;32m-> 2695\u001b[0m     __ret \u001b[38;5;241m=\u001b[39m \u001b[43mgca\u001b[49m\u001b[43m(\u001b[49m\u001b[43m)\u001b[49m\u001b[38;5;241;43m.\u001b[39;49m\u001b[43mimshow\u001b[49m\u001b[43m(\u001b[49m\n\u001b[0;32m   2696\u001b[0m \u001b[43m        \u001b[49m\u001b[43mX\u001b[49m\u001b[43m,\u001b[49m\u001b[43m \u001b[49m\u001b[43mcmap\u001b[49m\u001b[38;5;241;43m=\u001b[39;49m\u001b[43mcmap\u001b[49m\u001b[43m,\u001b[49m\u001b[43m \u001b[49m\u001b[43mnorm\u001b[49m\u001b[38;5;241;43m=\u001b[39;49m\u001b[43mnorm\u001b[49m\u001b[43m,\u001b[49m\u001b[43m \u001b[49m\u001b[43maspect\u001b[49m\u001b[38;5;241;43m=\u001b[39;49m\u001b[43maspect\u001b[49m\u001b[43m,\u001b[49m\n\u001b[0;32m   2697\u001b[0m \u001b[43m        \u001b[49m\u001b[43minterpolation\u001b[49m\u001b[38;5;241;43m=\u001b[39;49m\u001b[43minterpolation\u001b[49m\u001b[43m,\u001b[49m\u001b[43m \u001b[49m\u001b[43malpha\u001b[49m\u001b[38;5;241;43m=\u001b[39;49m\u001b[43malpha\u001b[49m\u001b[43m,\u001b[49m\u001b[43m \u001b[49m\u001b[43mvmin\u001b[49m\u001b[38;5;241;43m=\u001b[39;49m\u001b[43mvmin\u001b[49m\u001b[43m,\u001b[49m\n\u001b[0;32m   2698\u001b[0m \u001b[43m        \u001b[49m\u001b[43mvmax\u001b[49m\u001b[38;5;241;43m=\u001b[39;49m\u001b[43mvmax\u001b[49m\u001b[43m,\u001b[49m\u001b[43m \u001b[49m\u001b[43morigin\u001b[49m\u001b[38;5;241;43m=\u001b[39;49m\u001b[43morigin\u001b[49m\u001b[43m,\u001b[49m\u001b[43m \u001b[49m\u001b[43mextent\u001b[49m\u001b[38;5;241;43m=\u001b[39;49m\u001b[43mextent\u001b[49m\u001b[43m,\u001b[49m\n\u001b[0;32m   2699\u001b[0m \u001b[43m        \u001b[49m\u001b[43minterpolation_stage\u001b[49m\u001b[38;5;241;43m=\u001b[39;49m\u001b[43minterpolation_stage\u001b[49m\u001b[43m,\u001b[49m\n\u001b[0;32m   2700\u001b[0m \u001b[43m        \u001b[49m\u001b[43mfilternorm\u001b[49m\u001b[38;5;241;43m=\u001b[39;49m\u001b[43mfilternorm\u001b[49m\u001b[43m,\u001b[49m\u001b[43m \u001b[49m\u001b[43mfilterrad\u001b[49m\u001b[38;5;241;43m=\u001b[39;49m\u001b[43mfilterrad\u001b[49m\u001b[43m,\u001b[49m\u001b[43m \u001b[49m\u001b[43mresample\u001b[49m\u001b[38;5;241;43m=\u001b[39;49m\u001b[43mresample\u001b[49m\u001b[43m,\u001b[49m\n\u001b[0;32m   2701\u001b[0m \u001b[43m        \u001b[49m\u001b[43murl\u001b[49m\u001b[38;5;241;43m=\u001b[39;49m\u001b[43murl\u001b[49m\u001b[43m,\u001b[49m\u001b[43m \u001b[49m\u001b[38;5;241;43m*\u001b[39;49m\u001b[38;5;241;43m*\u001b[39;49m\u001b[43m(\u001b[49m\u001b[43m{\u001b[49m\u001b[38;5;124;43m\"\u001b[39;49m\u001b[38;5;124;43mdata\u001b[39;49m\u001b[38;5;124;43m\"\u001b[39;49m\u001b[43m:\u001b[49m\u001b[43m \u001b[49m\u001b[43mdata\u001b[49m\u001b[43m}\u001b[49m\u001b[43m \u001b[49m\u001b[38;5;28;43;01mif\u001b[39;49;00m\u001b[43m \u001b[49m\u001b[43mdata\u001b[49m\u001b[43m \u001b[49m\u001b[38;5;129;43;01mis\u001b[39;49;00m\u001b[43m \u001b[49m\u001b[38;5;129;43;01mnot\u001b[39;49;00m\u001b[43m \u001b[49m\u001b[38;5;28;43;01mNone\u001b[39;49;00m\u001b[43m \u001b[49m\u001b[38;5;28;43;01melse\u001b[39;49;00m\u001b[43m \u001b[49m\u001b[43m{\u001b[49m\u001b[43m}\u001b[49m\u001b[43m)\u001b[49m\u001b[43m,\u001b[49m\n\u001b[0;32m   2702\u001b[0m \u001b[43m        \u001b[49m\u001b[38;5;241;43m*\u001b[39;49m\u001b[38;5;241;43m*\u001b[39;49m\u001b[43mkwargs\u001b[49m\u001b[43m)\u001b[49m\n\u001b[0;32m   2703\u001b[0m     sci(__ret)\n\u001b[0;32m   2704\u001b[0m     \u001b[38;5;28;01mreturn\u001b[39;00m __ret\n",
      "File \u001b[1;32mc:\\Users\\Genius Park\\AppData\\Local\\anaconda3\\envs\\cuda12_1\\lib\\site-packages\\matplotlib\\__init__.py:1474\u001b[0m, in \u001b[0;36m_preprocess_data.<locals>.inner\u001b[1;34m(ax, data, *args, **kwargs)\u001b[0m\n\u001b[0;32m   1471\u001b[0m \u001b[38;5;129m@functools\u001b[39m\u001b[38;5;241m.\u001b[39mwraps(func)\n\u001b[0;32m   1472\u001b[0m \u001b[38;5;28;01mdef\u001b[39;00m \u001b[38;5;21minner\u001b[39m(ax, \u001b[38;5;241m*\u001b[39margs, data\u001b[38;5;241m=\u001b[39m\u001b[38;5;28;01mNone\u001b[39;00m, \u001b[38;5;241m*\u001b[39m\u001b[38;5;241m*\u001b[39mkwargs):\n\u001b[0;32m   1473\u001b[0m     \u001b[38;5;28;01mif\u001b[39;00m data \u001b[38;5;129;01mis\u001b[39;00m \u001b[38;5;28;01mNone\u001b[39;00m:\n\u001b[1;32m-> 1474\u001b[0m         \u001b[38;5;28;01mreturn\u001b[39;00m \u001b[43mfunc\u001b[49m\u001b[43m(\u001b[49m\u001b[43max\u001b[49m\u001b[43m,\u001b[49m\u001b[43m \u001b[49m\u001b[38;5;241;43m*\u001b[39;49m\u001b[38;5;28;43mmap\u001b[39;49m\u001b[43m(\u001b[49m\u001b[43msanitize_sequence\u001b[49m\u001b[43m,\u001b[49m\u001b[43m \u001b[49m\u001b[43margs\u001b[49m\u001b[43m)\u001b[49m\u001b[43m,\u001b[49m\u001b[43m \u001b[49m\u001b[38;5;241;43m*\u001b[39;49m\u001b[38;5;241;43m*\u001b[39;49m\u001b[43mkwargs\u001b[49m\u001b[43m)\u001b[49m\n\u001b[0;32m   1476\u001b[0m     bound \u001b[38;5;241m=\u001b[39m new_sig\u001b[38;5;241m.\u001b[39mbind(ax, \u001b[38;5;241m*\u001b[39margs, \u001b[38;5;241m*\u001b[39m\u001b[38;5;241m*\u001b[39mkwargs)\n\u001b[0;32m   1477\u001b[0m     auto_label \u001b[38;5;241m=\u001b[39m (bound\u001b[38;5;241m.\u001b[39marguments\u001b[38;5;241m.\u001b[39mget(label_namer)\n\u001b[0;32m   1478\u001b[0m                   \u001b[38;5;129;01mor\u001b[39;00m bound\u001b[38;5;241m.\u001b[39mkwargs\u001b[38;5;241m.\u001b[39mget(label_namer))\n",
      "File \u001b[1;32mc:\\Users\\Genius Park\\AppData\\Local\\anaconda3\\envs\\cuda12_1\\lib\\site-packages\\matplotlib\\axes\\_axes.py:5663\u001b[0m, in \u001b[0;36mAxes.imshow\u001b[1;34m(self, X, cmap, norm, aspect, interpolation, alpha, vmin, vmax, origin, extent, interpolation_stage, filternorm, filterrad, resample, url, **kwargs)\u001b[0m\n\u001b[0;32m   5655\u001b[0m \u001b[38;5;28mself\u001b[39m\u001b[38;5;241m.\u001b[39mset_aspect(aspect)\n\u001b[0;32m   5656\u001b[0m im \u001b[38;5;241m=\u001b[39m mimage\u001b[38;5;241m.\u001b[39mAxesImage(\u001b[38;5;28mself\u001b[39m, cmap\u001b[38;5;241m=\u001b[39mcmap, norm\u001b[38;5;241m=\u001b[39mnorm,\n\u001b[0;32m   5657\u001b[0m                       interpolation\u001b[38;5;241m=\u001b[39minterpolation, origin\u001b[38;5;241m=\u001b[39morigin,\n\u001b[0;32m   5658\u001b[0m                       extent\u001b[38;5;241m=\u001b[39mextent, filternorm\u001b[38;5;241m=\u001b[39mfilternorm,\n\u001b[0;32m   5659\u001b[0m                       filterrad\u001b[38;5;241m=\u001b[39mfilterrad, resample\u001b[38;5;241m=\u001b[39mresample,\n\u001b[0;32m   5660\u001b[0m                       interpolation_stage\u001b[38;5;241m=\u001b[39minterpolation_stage,\n\u001b[0;32m   5661\u001b[0m                       \u001b[38;5;241m*\u001b[39m\u001b[38;5;241m*\u001b[39mkwargs)\n\u001b[1;32m-> 5663\u001b[0m \u001b[43mim\u001b[49m\u001b[38;5;241;43m.\u001b[39;49m\u001b[43mset_data\u001b[49m\u001b[43m(\u001b[49m\u001b[43mX\u001b[49m\u001b[43m)\u001b[49m\n\u001b[0;32m   5664\u001b[0m im\u001b[38;5;241m.\u001b[39mset_alpha(alpha)\n\u001b[0;32m   5665\u001b[0m \u001b[38;5;28;01mif\u001b[39;00m im\u001b[38;5;241m.\u001b[39mget_clip_path() \u001b[38;5;129;01mis\u001b[39;00m \u001b[38;5;28;01mNone\u001b[39;00m:\n\u001b[0;32m   5666\u001b[0m     \u001b[38;5;66;03m# image does not already have clipping set, clip to axes patch\u001b[39;00m\n",
      "File \u001b[1;32mc:\\Users\\Genius Park\\AppData\\Local\\anaconda3\\envs\\cuda12_1\\lib\\site-packages\\matplotlib\\image.py:701\u001b[0m, in \u001b[0;36m_ImageBase.set_data\u001b[1;34m(self, A)\u001b[0m\n\u001b[0;32m    697\u001b[0m \u001b[38;5;28mself\u001b[39m\u001b[38;5;241m.\u001b[39m_A \u001b[38;5;241m=\u001b[39m cbook\u001b[38;5;241m.\u001b[39msafe_masked_invalid(A, copy\u001b[38;5;241m=\u001b[39m\u001b[38;5;28;01mTrue\u001b[39;00m)\n\u001b[0;32m    699\u001b[0m \u001b[38;5;28;01mif\u001b[39;00m (\u001b[38;5;28mself\u001b[39m\u001b[38;5;241m.\u001b[39m_A\u001b[38;5;241m.\u001b[39mdtype \u001b[38;5;241m!=\u001b[39m np\u001b[38;5;241m.\u001b[39muint8 \u001b[38;5;129;01mand\u001b[39;00m\n\u001b[0;32m    700\u001b[0m         \u001b[38;5;129;01mnot\u001b[39;00m np\u001b[38;5;241m.\u001b[39mcan_cast(\u001b[38;5;28mself\u001b[39m\u001b[38;5;241m.\u001b[39m_A\u001b[38;5;241m.\u001b[39mdtype, \u001b[38;5;28mfloat\u001b[39m, \u001b[38;5;124m\"\u001b[39m\u001b[38;5;124msame_kind\u001b[39m\u001b[38;5;124m\"\u001b[39m)):\n\u001b[1;32m--> 701\u001b[0m     \u001b[38;5;28;01mraise\u001b[39;00m \u001b[38;5;167;01mTypeError\u001b[39;00m(\u001b[38;5;124m\"\u001b[39m\u001b[38;5;124mImage data of dtype \u001b[39m\u001b[38;5;132;01m{}\u001b[39;00m\u001b[38;5;124m cannot be converted to \u001b[39m\u001b[38;5;124m\"\u001b[39m\n\u001b[0;32m    702\u001b[0m                     \u001b[38;5;124m\"\u001b[39m\u001b[38;5;124mfloat\u001b[39m\u001b[38;5;124m\"\u001b[39m\u001b[38;5;241m.\u001b[39mformat(\u001b[38;5;28mself\u001b[39m\u001b[38;5;241m.\u001b[39m_A\u001b[38;5;241m.\u001b[39mdtype))\n\u001b[0;32m    704\u001b[0m \u001b[38;5;28;01mif\u001b[39;00m \u001b[38;5;28mself\u001b[39m\u001b[38;5;241m.\u001b[39m_A\u001b[38;5;241m.\u001b[39mndim \u001b[38;5;241m==\u001b[39m \u001b[38;5;241m3\u001b[39m \u001b[38;5;129;01mand\u001b[39;00m \u001b[38;5;28mself\u001b[39m\u001b[38;5;241m.\u001b[39m_A\u001b[38;5;241m.\u001b[39mshape[\u001b[38;5;241m-\u001b[39m\u001b[38;5;241m1\u001b[39m] \u001b[38;5;241m==\u001b[39m \u001b[38;5;241m1\u001b[39m:\n\u001b[0;32m    705\u001b[0m     \u001b[38;5;66;03m# If just one dimension assume scalar and apply colormap\u001b[39;00m\n\u001b[0;32m    706\u001b[0m     \u001b[38;5;28mself\u001b[39m\u001b[38;5;241m.\u001b[39m_A \u001b[38;5;241m=\u001b[39m \u001b[38;5;28mself\u001b[39m\u001b[38;5;241m.\u001b[39m_A[:, :, \u001b[38;5;241m0\u001b[39m]\n",
      "\u001b[1;31mTypeError\u001b[0m: Image data of dtype <U69 cannot be converted to float"
     ]
    },
    {
     "data": {
      "image/png": "[encoded data removed]",
      "text/plain": [
       "<Figure size 640x480 with 1 Axes>"
      ]
     },
     "metadata": {},
     "output_type": "display_data"
    }
   ],
   "source": [
    "import matplotlib.pyplot as plt\n",
    "from datatset import DROZY_FACE_Dataset\n",
    "\n",
    "train_dataset = DROZY_FACE_Dataset(split_dir=\"./DROZY/gaeMuRan/face_cropped_videos_npy/test\")\n",
    "mean_face = train_dataset[2]\n",
    "plt.imshow(mean_face, cmap='gray')\n",
    "plt.title(\"정규화 평균 얼굴 (0~1 스케일)\")\n",
    "plt.axis('off')\n",
    "plt.show()"
   ]
  },
  {
   "cell_type": "code",
   "execution_count": null,
   "id": "612bb6c7",
   "metadata": {},
   "outputs": [],
   "source": []
  },
  {
   "cell_type": "code",
   "execution_count": 1,
   "id": "d69f7ac1",
   "metadata": {},
   "outputs": [
    {
     "name": "stderr",
     "output_type": "stream",
     "text": [
      "c:\\Users\\Genius Park\\AppData\\Local\\anaconda3\\envs\\cuda12_1\\lib\\site-packages\\tqdm\\auto.py:21: TqdmWarning: IProgress not found. Please update jupyter and ipywidgets. See https://ipywidgets.readthedocs.io/en/stable/user_install.html\n",
      "  from .autonotebook import tqdm as notebook_tqdm\n",
      "c:\\Users\\Genius Park\\AppData\\Local\\anaconda3\\envs\\cuda12_1\\lib\\site-packages\\albumentations\\__init__.py:13: UserWarning: A new version of Albumentations is available: 2.0.8 (you have 1.4.18). Upgrade using: pip install -U albumentations. To disable automatic update checks, set the environment variable NO_ALBUMENTATIONS_UPDATE to 1.\n",
      "  check_for_updates()\n"
     ]
    },
    {
     "name": "stdout",
     "output_type": "stream",
     "text": [
      "<class 'numpy.ndarray'>\n"
     ]
    },
    {
     "ename": "TypeError",
     "evalue": "'NoneType' object is not callable",
     "output_type": "error",
     "traceback": [
      "\u001b[1;31m---------------------------------------------------------------------------\u001b[0m",
      "\u001b[1;31mTypeError\u001b[0m                                 Traceback (most recent call last)",
      "Cell \u001b[1;32mIn[1], line 40\u001b[0m\n\u001b[0;32m     32\u001b[0m transform_video_seg \u001b[38;5;241m=\u001b[39m A\u001b[38;5;241m.\u001b[39mCompose([\n\u001b[0;32m     33\u001b[0m     A\u001b[38;5;241m.\u001b[39mHorizontalFlip(p\u001b[38;5;241m=\u001b[39m\u001b[38;5;241m0.8\u001b[39m),\n\u001b[0;32m     34\u001b[0m     A\u001b[38;5;241m.\u001b[39mRandomBrightnessContrast(p\u001b[38;5;241m=\u001b[39m\u001b[38;5;241m0.8\u001b[39m),\n\u001b[1;32m   (...)\u001b[0m\n\u001b[0;32m     37\u001b[0m     A\u001b[38;5;241m.\u001b[39mRandomScale(p\u001b[38;5;241m=\u001b[39m\u001b[38;5;241m0.8\u001b[39m),\n\u001b[0;32m     38\u001b[0m ])\n\u001b[0;32m     39\u001b[0m \u001b[38;5;66;03m# 첫 번째 샘플의 모든 프레임 시각화\u001b[39;00m\n\u001b[1;32m---> 40\u001b[0m img_tensor_seq \u001b[38;5;241m=\u001b[39m \u001b[43mtrain_dataset\u001b[49m\u001b[43m[\u001b[49m\u001b[38;5;241;43m0\u001b[39;49m\u001b[43m]\u001b[49m[\u001b[38;5;241m0\u001b[39m]  \u001b[38;5;66;03m# (T, H, W) 또는 (C, H, W) 또는 (T, C, H, W) 형태일 수 있음\u001b[39;00m\n\u001b[0;32m     42\u001b[0m \u001b[38;5;28;01mimport\u001b[39;00m \u001b[38;5;21;01mnumpy\u001b[39;00m \u001b[38;5;28;01mas\u001b[39;00m \u001b[38;5;21;01mnp\u001b[39;00m\n\u001b[0;32m     44\u001b[0m \u001b[38;5;66;03m# img_tensor_seq가 torch.Tensor라면 numpy array의 list로 변환 필요\u001b[39;00m\n",
      "File \u001b[1;32mc:\\Users\\Genius Park\\Desktop\\work\\2025_Summer_Study\\rrsp_drozy\\datatset.py:323\u001b[0m, in \u001b[0;36mDROZY_FACE_Dataset.__getitem__\u001b[1;34m(self, idx)\u001b[0m\n\u001b[0;32m    319\u001b[0m frame_array \u001b[38;5;241m=\u001b[39m np\u001b[38;5;241m.\u001b[39mload(sample_path)\n\u001b[0;32m    321\u001b[0m \u001b[38;5;28mprint\u001b[39m(\u001b[38;5;28mtype\u001b[39m(frame_array))\n\u001b[1;32m--> 323\u001b[0m frame_array \u001b[38;5;241m=\u001b[39m \u001b[38;5;28;43mself\u001b[39;49m\u001b[38;5;241;43m.\u001b[39;49m\u001b[43mtransform\u001b[49m\u001b[43m(\u001b[49m\u001b[43mimages\u001b[49m\u001b[38;5;241;43m=\u001b[39;49m\u001b[43mframe_array\u001b[49m\u001b[43m,\u001b[49m\u001b[43m \u001b[49m\u001b[43mmasks\u001b[49m\u001b[38;5;241;43m=\u001b[39;49m\u001b[43mframe_array\u001b[49m\u001b[43m)\u001b[49m\n\u001b[0;32m    325\u001b[0m \u001b[38;5;66;03m# (5) (frame, 1, H, W) → (frame, H, W)\u001b[39;00m\n\u001b[0;32m    326\u001b[0m \u001b[38;5;28;01mif\u001b[39;00m frame_array\u001b[38;5;241m.\u001b[39mndim \u001b[38;5;241m==\u001b[39m \u001b[38;5;241m4\u001b[39m \u001b[38;5;129;01mand\u001b[39;00m frame_array\u001b[38;5;241m.\u001b[39mshape[\u001b[38;5;241m1\u001b[39m] \u001b[38;5;241m==\u001b[39m \u001b[38;5;241m1\u001b[39m:\n",
      "\u001b[1;31mTypeError\u001b[0m: 'NoneType' object is not callable"
     ]
    }
   ],
   "source": [
    "import matplotlib.pyplot as plt\n",
    "import albumentations as A\n",
    "import torch\n",
    "import torch.nn as nn\n",
    "import torch.nn.functional as F\n",
    "from torchvision import transforms\n",
    "from torchvision.models import efficientnet_b0\n",
    "from torch.utils.data import DataLoader\n",
    "from tqdm import tqdm\n",
    "from datatset import DROZY_FACE_Dataset\n",
    "import scipy.ndimage\n",
    "import torchvision\n",
    "import albumentations as A\n",
    "\n",
    "# ============================\n",
    "# 1. 시퀀스 단위 동일 증강\n",
    "# ============================\n",
    "import random\n",
    "import time\n",
    "\n",
    "train_transform = transforms.Compose([\n",
    "    transforms.ToTensor()\n",
    "])\n",
    "train_dataset = DROZY_FACE_Dataset(\n",
    "    split_dir=\"./DROZY/gaeMuRan/face_cropped_videos_npy_112/train\",\n",
    ")\n",
    "test_dataset = DROZY_FACE_Dataset(\n",
    "    split_dir=\"./DROZY/gaeMuRan/face_cropped_videos_npy_112/test\",\n",
    "    # test에는 증강 미적용\n",
    ")\n",
    "\n",
    "transform_video_seg = A.Compose([\n",
    "    A.HorizontalFlip(p=0.8),\n",
    "    A.RandomBrightnessContrast(p=0.8),\n",
    "    A.RandomGamma(p=0.8),\n",
    "    A.RandomRotate90(p=0.8),\n",
    "    A.RandomScale(p=0.8),\n",
    "])\n",
    "# 첫 번째 샘플의 모든 프레임 시각화\n",
    "img_tensor_seq = train_dataset[0][0]  # (T, H, W) 또는 (C, H, W) 또는 (T, C, H, W) 형태일 수 있음\n",
    "\n",
    "import numpy as np\n",
    "\n",
    "# img_tensor_seq가 torch.Tensor라면 numpy array의 list로 변환 필요\n",
    "if isinstance(img_tensor_seq, torch.Tensor):\n",
    "    # (T, H, W) 또는 (C, H, W) 또는 (T, C, H, W) 형태일 수 있음\n",
    "    # (T, H, W) 또는 (T, C, H, W)만 처리한다고 가정\n",
    "    if img_tensor_seq.ndim == 3:\n",
    "        # (T, H, W) 또는 (C, H, W)\n",
    "        if img_tensor_seq.shape[0] <= 4:  # (C, H, W)일 가능성\n",
    "            # (C, H, W)라면 albumentations에 바로 넘길 수 없음\n",
    "            # (T, H, W)로 가정\n",
    "            img_list = [img_tensor_seq[i].cpu().numpy() for i in range(img_tensor_seq.shape[0])]\n",
    "        else:\n",
    "            # (T, H, W)\n",
    "            img_list = [img_tensor_seq[i].cpu().numpy() for i in range(img_tensor_seq.shape[0])]\n",
    "    elif img_tensor_seq.ndim == 4:\n",
    "        # (T, C, H, W)\n",
    "        img_list = [np.transpose(img_tensor_seq[i].cpu().numpy(), (1, 2, 0)) for i in range(img_tensor_seq.shape[0])]\n",
    "    else:\n",
    "        raise ValueError(\"지원하지 않는 텐서 shape입니다: {}\".format(img_tensor_seq.shape))\n",
    "else:\n",
    "    img_list = img_tensor_seq\n",
    "\n",
    "augmented = transform_video_seg(images=img_list, masks=img_list)\n",
    "print(img_list[0].shape)\n",
    "\n",
    "import matplotlib.pyplot as plt\n",
    "\n",
    "# augmented[\"images\"]는 증강된 프레임들의 리스트임\n",
    "fig, axes = plt.subplots(1, len(augmented[\"images\"]), figsize=(3 * len(augmented[\"images\"]), 3))\n",
    "if len(augmented[\"images\"]) == 1:\n",
    "    axes = [axes]\n",
    "for i, img in enumerate(augmented[\"images\"]):\n",
    "    ax = axes[i]\n",
    "    # img가 (H, W) 또는 (H, W, C) 형태일 수 있음\n",
    "    if img.ndim == 2:\n",
    "        ax.imshow(img, cmap='gray')\n",
    "    else:\n",
    "        # (H, W, C)일 경우\n",
    "        ax.imshow(img)\n",
    "    ax.axis('off')\n",
    "    ax.set_title(f'프레임 {i}')\n",
    "plt.tight_layout()\n",
    "plt.show()\n"
   ]
  },
  {
   "cell_type": "code",
   "execution_count": 3,
   "id": "03dddc71",
   "metadata": {},
   "outputs": [
    {
     "data": {
      "text/plain": [
       "0"
      ]
     },
     "execution_count": 3,
     "metadata": {},
     "output_type": "execute_result"
    }
   ],
   "source": [
    "import gc\n",
    "import torch\n",
    "\n",
    "gc.collect()\n"
   ]
  },
  {
   "cell_type": "code",
   "execution_count": null,
   "id": "26cb2727",
   "metadata": {},
   "outputs": [],
   "source": []
  },
  {
   "cell_type": "code",
   "execution_count": 17,
   "id": "d3fa6db6",
   "metadata": {},
   "outputs": [
    {
     "name": "stderr",
     "output_type": "stream",
     "text": [
      "C:\\Users\\Genius Park\\AppData\\Local\\Temp\\ipykernel_28008\\408948120.py:142: FutureWarning: `torch.cuda.amp.GradScaler(args...)` is deprecated. Please use `torch.amp.GradScaler('cuda', args...)` instead.\n",
      "  scaler = torch.cuda.amp.GradScaler()  # AMP 사용\n",
      "Epoch [1/30]: 100%|██████████| 1866/1866 [03:33<00:00,  8.75it/s, acc=60.5, loss=0.939]\n",
      "Test: 100%|██████████| 821/821 [00:34<00:00, 23.48it/s, acc=51.5, loss=1.25] \n"
     ]
    },
    {
     "name": "stdout",
     "output_type": "stream",
     "text": [
      "Test Acc: 51.45%\n"
     ]
    },
    {
     "name": "stderr",
     "output_type": "stream",
     "text": [
      "Epoch [2/30]: 100%|██████████| 1866/1866 [03:36<00:00,  8.61it/s, acc=77.5, loss=0.691]\n",
      "Test: 100%|██████████| 821/821 [00:33<00:00, 24.25it/s, acc=27.3, loss=15]  \n"
     ]
    },
    {
     "name": "stdout",
     "output_type": "stream",
     "text": [
      "Test Acc: 27.27%\n"
     ]
    },
    {
     "name": "stderr",
     "output_type": "stream",
     "text": [
      "Epoch [3/30]: 100%|██████████| 1866/1866 [03:36<00:00,  8.61it/s, acc=88.2, loss=0.534]\n",
      "Test: 100%|██████████| 821/821 [00:33<00:00, 24.43it/s, acc=46.5, loss=3.9] \n"
     ]
    },
    {
     "name": "stdout",
     "output_type": "stream",
     "text": [
      "Test Acc: 46.54%\n"
     ]
    },
    {
     "name": "stderr",
     "output_type": "stream",
     "text": [
      "Epoch [4/30]: 100%|██████████| 1866/1866 [03:35<00:00,  8.64it/s, acc=93.2, loss=0.454]\n",
      "Test: 100%|██████████| 821/821 [00:34<00:00, 24.14it/s, acc=27.3, loss=28.8]\n"
     ]
    },
    {
     "name": "stdout",
     "output_type": "stream",
     "text": [
      "Test Acc: 27.27%\n"
     ]
    },
    {
     "name": "stderr",
     "output_type": "stream",
     "text": [
      "Epoch [5/30]: 100%|██████████| 1866/1866 [03:36<00:00,  8.62it/s, acc=95.1, loss=0.419]\n",
      "Test: 100%|██████████| 821/821 [00:36<00:00, 22.73it/s, acc=27.3, loss=20.3]\n"
     ]
    },
    {
     "name": "stdout",
     "output_type": "stream",
     "text": [
      "Test Acc: 27.27%\n"
     ]
    },
    {
     "name": "stderr",
     "output_type": "stream",
     "text": [
      "Epoch [6/30]: 100%|██████████| 1866/1866 [03:35<00:00,  8.65it/s, acc=96.5, loss=0.396]\n",
      "Test: 100%|██████████| 821/821 [00:33<00:00, 24.24it/s, acc=39.4, loss=2.14] \n"
     ]
    },
    {
     "name": "stdout",
     "output_type": "stream",
     "text": [
      "Test Acc: 39.42%\n"
     ]
    },
    {
     "name": "stderr",
     "output_type": "stream",
     "text": [
      "Epoch [7/30]: 100%|██████████| 1866/1866 [03:35<00:00,  8.65it/s, acc=97.8, loss=0.375]\n",
      "Test: 100%|██████████| 821/821 [00:34<00:00, 24.11it/s, acc=40.6, loss=3.89] \n"
     ]
    },
    {
     "name": "stdout",
     "output_type": "stream",
     "text": [
      "Test Acc: 40.64%\n"
     ]
    },
    {
     "name": "stderr",
     "output_type": "stream",
     "text": [
      "Epoch [8/30]: 100%|██████████| 1866/1866 [03:34<00:00,  8.71it/s, acc=98.5, loss=0.364]\n",
      "Test: 100%|██████████| 821/821 [00:33<00:00, 24.33it/s, acc=32.5, loss=2.76] \n"
     ]
    },
    {
     "name": "stdout",
     "output_type": "stream",
     "text": [
      "Test Acc: 32.47%\n"
     ]
    },
    {
     "name": "stderr",
     "output_type": "stream",
     "text": [
      "Epoch [9/30]: 100%|██████████| 1866/1866 [03:32<00:00,  8.77it/s, acc=98.6, loss=0.356]\n",
      "Test: 100%|██████████| 821/821 [00:32<00:00, 25.38it/s, acc=68.1, loss=1.09] \n"
     ]
    },
    {
     "name": "stdout",
     "output_type": "stream",
     "text": [
      "Test Acc: 68.13%\n"
     ]
    },
    {
     "name": "stderr",
     "output_type": "stream",
     "text": [
      "Epoch [10/30]: 100%|██████████| 1866/1866 [03:34<00:00,  8.68it/s, acc=98.9, loss=0.352]\n",
      "Test: 100%|██████████| 821/821 [00:33<00:00, 24.55it/s, acc=75.3, loss=0.942]\n"
     ]
    },
    {
     "name": "stdout",
     "output_type": "stream",
     "text": [
      "Test Acc: 75.32%\n"
     ]
    },
    {
     "name": "stderr",
     "output_type": "stream",
     "text": [
      "Epoch [11/30]: 100%|██████████| 1866/1866 [03:33<00:00,  8.74it/s, acc=99, loss=0.351]  \n",
      "Test: 100%|██████████| 821/821 [00:32<00:00, 24.90it/s, acc=69.8, loss=0.946]\n"
     ]
    },
    {
     "name": "stdout",
     "output_type": "stream",
     "text": [
      "Test Acc: 69.83%\n"
     ]
    },
    {
     "name": "stderr",
     "output_type": "stream",
     "text": [
      "Epoch [12/30]: 100%|██████████| 1866/1866 [03:32<00:00,  8.78it/s, acc=99.1, loss=0.351]\n",
      "Test: 100%|██████████| 821/821 [00:33<00:00, 24.55it/s, acc=69.5, loss=0.924]\n"
     ]
    },
    {
     "name": "stdout",
     "output_type": "stream",
     "text": [
      "Test Acc: 69.53%\n"
     ]
    },
    {
     "name": "stderr",
     "output_type": "stream",
     "text": [
      "Epoch [13/30]: 100%|██████████| 1866/1866 [03:30<00:00,  8.86it/s, acc=99, loss=0.352]  \n",
      "Test: 100%|██████████| 821/821 [00:33<00:00, 24.73it/s, acc=57.1, loss=1.57] \n"
     ]
    },
    {
     "name": "stdout",
     "output_type": "stream",
     "text": [
      "Test Acc: 57.09%\n"
     ]
    },
    {
     "name": "stderr",
     "output_type": "stream",
     "text": [
      "Epoch [14/30]: 100%|██████████| 1866/1866 [03:32<00:00,  8.78it/s, acc=98.8, loss=0.355]\n",
      "Test: 100%|██████████| 821/821 [00:32<00:00, 24.98it/s, acc=68.6, loss=1.15] \n"
     ]
    },
    {
     "name": "stdout",
     "output_type": "stream",
     "text": [
      "Test Acc: 68.57%\n"
     ]
    },
    {
     "name": "stderr",
     "output_type": "stream",
     "text": [
      "Epoch [15/30]: 100%|██████████| 1866/1866 [03:30<00:00,  8.87it/s, acc=98.7, loss=0.36] \n",
      "Test: 100%|██████████| 821/821 [00:32<00:00, 24.99it/s, acc=27.3, loss=3.8] \n"
     ]
    },
    {
     "name": "stdout",
     "output_type": "stream",
     "text": [
      "Test Acc: 27.27%\n"
     ]
    },
    {
     "name": "stderr",
     "output_type": "stream",
     "text": [
      "Epoch [16/30]: 100%|██████████| 1866/1866 [03:29<00:00,  8.90it/s, acc=98.5, loss=0.361]\n",
      "Test: 100%|██████████| 821/821 [00:32<00:00, 24.93it/s, acc=61.1, loss=1.08] \n"
     ]
    },
    {
     "name": "stdout",
     "output_type": "stream",
     "text": [
      "Test Acc: 61.09%\n"
     ]
    },
    {
     "name": "stderr",
     "output_type": "stream",
     "text": [
      "Epoch [17/30]: 100%|██████████| 1866/1866 [03:30<00:00,  8.88it/s, acc=98, loss=0.368]  \n",
      "Test: 100%|██████████| 821/821 [00:32<00:00, 24.93it/s, acc=27.3, loss=10.2]\n"
     ]
    },
    {
     "name": "stdout",
     "output_type": "stream",
     "text": [
      "Test Acc: 27.27%\n"
     ]
    },
    {
     "name": "stderr",
     "output_type": "stream",
     "text": [
      "Epoch [18/30]: 100%|██████████| 1866/1866 [03:29<00:00,  8.89it/s, acc=97.9, loss=0.371]\n",
      "Test: 100%|██████████| 821/821 [00:33<00:00, 24.85it/s, acc=60.7, loss=1.43] \n"
     ]
    },
    {
     "name": "stdout",
     "output_type": "stream",
     "text": [
      "Test Acc: 60.71%\n"
     ]
    },
    {
     "name": "stderr",
     "output_type": "stream",
     "text": [
      "Epoch [19/30]: 100%|██████████| 1866/1866 [03:30<00:00,  8.87it/s, acc=97.9, loss=0.368]\n",
      "Test: 100%|██████████| 821/821 [00:32<00:00, 25.01it/s, acc=27.3, loss=10.2]\n"
     ]
    },
    {
     "name": "stdout",
     "output_type": "stream",
     "text": [
      "Test Acc: 27.27%\n"
     ]
    },
    {
     "name": "stderr",
     "output_type": "stream",
     "text": [
      "Epoch [20/30]: 100%|██████████| 1866/1866 [03:29<00:00,  8.89it/s, acc=98.2, loss=0.366]\n",
      "Test: 100%|██████████| 821/821 [00:32<00:00, 24.96it/s, acc=27.3, loss=5.31]\n"
     ]
    },
    {
     "name": "stdout",
     "output_type": "stream",
     "text": [
      "Test Acc: 27.27%\n"
     ]
    },
    {
     "name": "stderr",
     "output_type": "stream",
     "text": [
      "Epoch [21/30]: 100%|██████████| 1866/1866 [03:30<00:00,  8.88it/s, acc=98.2, loss=0.364]\n",
      "Test: 100%|██████████| 821/821 [00:32<00:00, 25.02it/s, acc=64.2, loss=0.944]\n"
     ]
    },
    {
     "name": "stdout",
     "output_type": "stream",
     "text": [
      "Test Acc: 64.23%\n"
     ]
    },
    {
     "name": "stderr",
     "output_type": "stream",
     "text": [
      "Epoch [22/30]: 100%|██████████| 1866/1866 [03:29<00:00,  8.90it/s, acc=98.3, loss=0.361]\n",
      "Test: 100%|██████████| 821/821 [00:32<00:00, 25.06it/s, acc=57.8, loss=1.39] \n"
     ]
    },
    {
     "name": "stdout",
     "output_type": "stream",
     "text": [
      "Test Acc: 57.79%\n"
     ]
    },
    {
     "name": "stderr",
     "output_type": "stream",
     "text": [
      "Epoch [23/30]: 100%|██████████| 1866/1866 [03:30<00:00,  8.87it/s, acc=99, loss=0.349]  \n",
      "Test: 100%|██████████| 821/821 [00:32<00:00, 25.03it/s, acc=41, loss=1.56]   \n"
     ]
    },
    {
     "name": "stdout",
     "output_type": "stream",
     "text": [
      "Test Acc: 41.02%\n"
     ]
    },
    {
     "name": "stderr",
     "output_type": "stream",
     "text": [
      "Epoch [24/30]: 100%|██████████| 1866/1866 [03:31<00:00,  8.84it/s, acc=99, loss=0.344]  \n",
      "Test: 100%|██████████| 821/821 [00:32<00:00, 25.00it/s, acc=30.5, loss=2.64]\n"
     ]
    },
    {
     "name": "stdout",
     "output_type": "stream",
     "text": [
      "Test Acc: 30.49%\n"
     ]
    },
    {
     "name": "stderr",
     "output_type": "stream",
     "text": [
      "Epoch [25/30]: 100%|██████████| 1866/1866 [03:31<00:00,  8.83it/s, acc=99.2, loss=0.34] \n",
      "Test: 100%|██████████| 821/821 [00:32<00:00, 25.08it/s, acc=48.2, loss=1.87]\n"
     ]
    },
    {
     "name": "stdout",
     "output_type": "stream",
     "text": [
      "Test Acc: 48.23%\n"
     ]
    },
    {
     "name": "stderr",
     "output_type": "stream",
     "text": [
      "Epoch [26/30]: 100%|██████████| 1866/1866 [03:30<00:00,  8.87it/s, acc=99.3, loss=0.336]\n",
      "Test: 100%|██████████| 821/821 [00:33<00:00, 24.81it/s, acc=69.6, loss=0.984]\n"
     ]
    },
    {
     "name": "stdout",
     "output_type": "stream",
     "text": [
      "Test Acc: 69.64%\n"
     ]
    },
    {
     "name": "stderr",
     "output_type": "stream",
     "text": [
      "Epoch [27/30]: 100%|██████████| 1866/1866 [03:30<00:00,  8.85it/s, acc=99.5, loss=0.331]\n",
      "Test: 100%|██████████| 821/821 [00:33<00:00, 24.51it/s, acc=54.3, loss=1.03]\n"
     ]
    },
    {
     "name": "stdout",
     "output_type": "stream",
     "text": [
      "Test Acc: 54.35%\n"
     ]
    },
    {
     "name": "stderr",
     "output_type": "stream",
     "text": [
      "Epoch [28/30]: 100%|██████████| 1866/1866 [03:31<00:00,  8.82it/s, acc=99.7, loss=0.326]\n",
      "Test: 100%|██████████| 821/821 [00:32<00:00, 24.99it/s, acc=46.1, loss=1.24] \n"
     ]
    },
    {
     "name": "stdout",
     "output_type": "stream",
     "text": [
      "Test Acc: 46.09%\n"
     ]
    },
    {
     "name": "stderr",
     "output_type": "stream",
     "text": [
      "Epoch [29/30]: 100%|██████████| 1866/1866 [03:31<00:00,  8.81it/s, acc=99.8, loss=0.325]\n",
      "Test: 100%|██████████| 821/821 [00:32<00:00, 25.12it/s, acc=65.8, loss=0.994]\n"
     ]
    },
    {
     "name": "stdout",
     "output_type": "stream",
     "text": [
      "Test Acc: 65.78%\n"
     ]
    },
    {
     "name": "stderr",
     "output_type": "stream",
     "text": [
      "Epoch [30/30]: 100%|██████████| 1866/1866 [03:29<00:00,  8.93it/s, acc=99.8, loss=0.324]\n",
      "Test: 100%|██████████| 821/821 [00:33<00:00, 24.84it/s, acc=65.6, loss=0.931]"
     ]
    },
    {
     "name": "stdout",
     "output_type": "stream",
     "text": [
      "Test Acc: 65.63%\n"
     ]
    },
    {
     "name": "stderr",
     "output_type": "stream",
     "text": [
      "\n"
     ]
    }
   ],
   "source": [
    "import torch\n",
    "import torch.nn as nn\n",
    "import torch.nn.functional as F\n",
    "from torchvision import transforms\n",
    "from torchvision.models import efficientnet_b0\n",
    "from torch.utils.data import DataLoader\n",
    "from tqdm import tqdm\n",
    "from datatset import DROZY_FACE_Dataset\n",
    "import scipy.ndimage\n",
    "import torchvision\n",
    "import albumentations as A\n",
    "\n",
    "# ============================\n",
    "# 1. 시퀀스 단위 동일 증강\n",
    "# ============================\n",
    "import random\n",
    "import time\n",
    "\n",
    "# albumentations의 Normalize를 추가하여 데이터 정규화 적용\n",
    "transform_video_seg = A.Compose([\n",
    "    A.HorizontalFlip(p=0.5),\n",
    "    A.Rotate(limit=15, p=0.5),\n",
    "    # A.GaussNoise(p=0.3),\n",
    "    # A.RandomBrightnessContrast(p=0.5, brightness_limit=0.2, contrast_limit=0.2),\n",
    "    A.Normalize(mean=(0.5,), std=(0.5,)),  # 1채널 흑백 기준 정규화\n",
    "])\n",
    "\n",
    "train_dataset = DROZY_FACE_Dataset(\n",
    "    split_dir=\"./DROZY/gaeMuRan/face_cropped_videos_npy_112/train\",\n",
    "    transform=transform_video_seg\n",
    ")\n",
    "test_dataset = DROZY_FACE_Dataset(\n",
    "    split_dir=\"./DROZY/gaeMuRan/face_cropped_videos_npy_112/test\",\n",
    "    transform=A.Compose([A.Normalize(mean=(0.5,), std=(0.5,))])  # test도 정규화만 적용\n",
    ")\n",
    "\n",
    "# num_workers=0으로 변경 (메모리/환경에 따라 0 또는 2 추천)\n",
    "train_dataloader = DataLoader(train_dataset, batch_size=8, shuffle=True, pin_memory=True, num_workers=4)\n",
    "test_dataloader = DataLoader(test_dataset, batch_size=8, shuffle=False, pin_memory=True, num_workers=4)\n",
    "\n",
    "# ============================\n",
    "# 2. EfficientNetB0 백본 + Self-Attention\n",
    "# ============================\n",
    "import torchvision.models as models\n",
    "\n",
    "# 구조 단순화 및 Dropout/정규화/활성화 함수 개선\n",
    "class CNN2D1D(nn.Module):\n",
    "    def __init__(self, num_classes=3):\n",
    "        super().__init__()\n",
    "        # 2D CNN 백본: 각 프레임별 특징 추출\n",
    "        self.cnn2d = nn.Sequential(\n",
    "            nn.Conv2d(1, 32, kernel_size=3, stride=1, padding=1, bias=False),\n",
    "            nn.BatchNorm2d(32),\n",
    "            nn.GELU(),\n",
    "            nn.Conv2d(32, 64, kernel_size=3, stride=2, padding=1, bias=False),\n",
    "            nn.BatchNorm2d(64),\n",
    "            nn.GELU(),\n",
    "            nn.Conv2d(64, 128, kernel_size=3, stride=2, padding=1, bias=False),\n",
    "            nn.BatchNorm2d(128),\n",
    "            nn.GELU(),\n",
    "            nn.Conv2d(128, 256, kernel_size=3, stride=2, padding=1, bias=False),\n",
    "            nn.BatchNorm2d(256),\n",
    "            nn.GELU(),\n",
    "        )\n",
    "        self.cnn2d_out_dim = 256  # 마지막 채널 수\n",
    "\n",
    "        # 1D CNN: 시퀀스(프레임) 간 특징 추출\n",
    "        self.cnn1d = nn.Sequential(\n",
    "            nn.Conv1d(self.cnn2d_out_dim, 128, kernel_size=3, stride=1, padding=1, bias=False),\n",
    "            nn.BatchNorm1d(128),\n",
    "            nn.GELU(),\n",
    "            nn.Conv1d(128, 128, kernel_size=3, stride=1, padding=1, bias=False),\n",
    "            nn.BatchNorm1d(128),\n",
    "            nn.GELU(),\n",
    "        )\n",
    "        self.cnn1d_out_dim = 128\n",
    "\n",
    "        # 전역 평균 풀링 (시퀀스 차원)\n",
    "        self.global_pool = nn.AdaptiveAvgPool1d(1)\n",
    "\n",
    "        # Classifier\n",
    "        self.classifier = nn.Sequential(\n",
    "            nn.Linear(self.cnn1d_out_dim, 256),\n",
    "            nn.BatchNorm1d(256),\n",
    "            nn.GELU(),\n",
    "            nn.Dropout(0.3),\n",
    "            nn.Linear(256, num_classes)\n",
    "        )\n",
    "\n",
    "        self.apply(self._init_weights)\n",
    "\n",
    "    def _init_weights(self, m):\n",
    "        if isinstance(m, nn.Conv2d) or isinstance(m, nn.Conv1d):\n",
    "            nn.init.kaiming_normal_(m.weight, nonlinearity='relu')\n",
    "            if m.bias is not None:\n",
    "                nn.init.zeros_(m.bias)\n",
    "        elif isinstance(m, nn.Linear):\n",
    "            nn.init.xavier_uniform_(m.weight)\n",
    "            if m.bias is not None:\n",
    "                nn.init.zeros_(m.bias)\n",
    "        elif isinstance(m, nn.BatchNorm2d) or isinstance(m, nn.BatchNorm1d):\n",
    "            nn.init.ones_(m.weight)\n",
    "            nn.init.zeros_(m.bias)\n",
    "\n",
    "    def forward(self, x):\n",
    "        # x: (B, T, H, W) 또는 (B, 1, T, H, W)\n",
    "        if x.ndim == 4:\n",
    "            # (B, T, H, W) -> (B, 1, T, H, W)\n",
    "            x = x.unsqueeze(1)\n",
    "        if x.shape[1] == 1:\n",
    "            x = x.squeeze(1)  # (B, T, H, W)\n",
    "        # (B, T, H, W) -> (B, T, 1, H, W) -> (B*T, 1, H, W)\n",
    "        B, T, C, H, W = x.shape\n",
    "        x = x.reshape(B * T, 1, H, W)\n",
    "        feats2d = self.cnn2d(x)  # (B*T, C, H', W')\n",
    "        feats2d = feats2d.mean(dim=[2, 3])  # (B*T, C), 공간 평균\n",
    "        feats2d = feats2d.view(B, T, self.cnn2d_out_dim)  # (B, T, C)\n",
    "        feats2d = feats2d.permute(0, 2, 1)  # (B, C, T) - 1D CNN 입력\n",
    "\n",
    "        feats1d = self.cnn1d(feats2d)  # (B, C', T)\n",
    "        feats1d = self.global_pool(feats1d)  # (B, C', 1)\n",
    "        feats1d = feats1d.squeeze(-1)  # (B, C')\n",
    "\n",
    "        out = self.classifier(feats1d)\n",
    "        return out\n",
    "\n",
    "# ============================\n",
    "# 3. 학습 루프\n",
    "# ============================\n",
    "\n",
    "device = torch.device(\"cuda\" if torch.cuda.is_available() else \"cpu\")\n",
    "model = CNN2D1D(num_classes=3).to(device)\n",
    "\n",
    "# CrossEntropyLoss에 label smoothing 적용 (로스 안정화)\n",
    "criterion = nn.CrossEntropyLoss(label_smoothing=0.1)\n",
    "# AdamW 대신 Adam 사용, 러닝레이트 3e-4로 조정, weight_decay 1e-4로 증가\n",
    "optimizer = torch.optim.Adam(model.parameters(), lr=3e-4, weight_decay=1e-4)\n",
    "# CosineAnnealingLR로 단순화\n",
    "scheduler = torch.optim.lr_scheduler.CosineAnnealingLR(optimizer, T_max=10)\n",
    "\n",
    "num_epochs = 30  # 에폭 증가\n",
    "scaler = torch.cuda.amp.GradScaler()  # AMP 사용\n",
    "\n",
    "for epoch in range(num_epochs):\n",
    "    model.train()\n",
    "    running_loss, correct, total = 0, 0, 0\n",
    "    pbar = tqdm(train_dataloader, desc=f\"Epoch [{epoch+1}/{num_epochs}]\")\n",
    "    for batch in pbar:\n",
    "        images, labels, _ = batch\n",
    "        images = images.to(device, dtype=torch.float)\n",
    "        labels = labels.to(device)\n",
    "        optimizer.zero_grad()\n",
    "        # with torch.cuda.amp.autocast():\n",
    "        outputs = model(images)\n",
    "        loss = criterion(outputs, labels)\n",
    "        scaler.scale(loss).backward()\n",
    "        # gradient clipping 적용\n",
    "        scaler.unscale_(optimizer)\n",
    "        torch.nn.utils.clip_grad_norm_(model.parameters(), max_norm=5.0)\n",
    "        scaler.step(optimizer)\n",
    "        scaler.update()\n",
    "\n",
    "        running_loss += loss.item() * images.size(0)\n",
    "        _, predicted = outputs.max(1)\n",
    "        total += labels.size(0)\n",
    "        correct += predicted.eq(labels).sum().item()\n",
    "        pbar.set_postfix(loss=running_loss/total, acc=100.*correct/total)\n",
    "    scheduler.step()\n",
    "\n",
    "    # 테스트\n",
    "    model.eval()\n",
    "    test_loss, test_correct, test_total = 0, 0, 0\n",
    "    with torch.no_grad():\n",
    "        pbar = tqdm(test_dataloader, desc=\"Test\")\n",
    "        for batch in pbar:\n",
    "            images, labels, _ = batch\n",
    "            images = images.to(device, dtype=torch.float)\n",
    "            labels = labels.to(device)\n",
    "            # with torch.cuda.amp.autocast():\n",
    "            outputs = model(images)\n",
    "            loss = criterion(outputs, labels)\n",
    "            test_loss += loss.item() * images.size(0)\n",
    "            _, predicted = outputs.max(1)\n",
    "            test_total += labels.size(0)\n",
    "            test_correct += predicted.eq(labels).sum().item()\n",
    "            pbar.set_postfix(loss=test_loss/test_total, acc=100.*test_correct/test_total)\n",
    "    print(f\"Test Acc: {100.*test_correct/test_total:.2f}%\")"
   ]
  },
  {
   "cell_type": "code",
   "execution_count": 14,
   "id": "88a0ec36",
   "metadata": {},
   "outputs": [],
   "source": [
    "import gc\n",
    "\n",
    "gc.collect()\n",
    "torch.cuda.empty_cache()"
   ]
  },
  {
   "cell_type": "code",
   "execution_count": 3,
   "id": "066145e0",
   "metadata": {},
   "outputs": [
    {
     "data": {
      "text/plain": [
       "0"
      ]
     },
     "execution_count": 3,
     "metadata": {},
     "output_type": "execute_result"
    }
   ],
   "source": [
    "import gc\n",
    "import torch\n",
    "\n",
    "gc.collect()\n"
   ]
  },
  {
   "cell_type": "code",
   "execution_count": 18,
   "id": "07431199",
   "metadata": {},
   "outputs": [
    {
     "data": {
      "text/plain": [
       "(104, 104, 1)"
      ]
     },
     "execution_count": 18,
     "metadata": {},
     "output_type": "execute_result"
    }
   ],
   "source": [
    "augmented['images'][2].shape"
   ]
  },
  {
   "cell_type": "code",
   "execution_count": 2,
   "id": "ad1e7dc3",
   "metadata": {},
   "outputs": [
    {
     "name": "stdout",
     "output_type": "stream",
     "text": [
      "Test Acc: 56.43%\n"
     ]
    }
   ],
   "source": [
    "# 테스트\n",
    "model.train()\n",
    "test_loss, test_correct, test_total = 0, 0, 0\n",
    "with torch.no_grad():\n",
    "    for batch in test_dataloader:\n",
    "        images, labels, _ = batch\n",
    "        images = images.to(device, dtype=torch.float)\n",
    "        labels = labels.to(device)\n",
    "        # 모델도 항상 올바른 device에 있도록 명시 (이미 위에서 .to(device) 했지만, 혹시 모르니 재확인)\n",
    "        model = model.to(device)\n",
    "        outputs = model(images)\n",
    "        loss = criterion(outputs, labels)\n",
    "        test_loss += loss.item() * images.size(0)\n",
    "        _, predicted = outputs.max(1)\n",
    "        test_total += labels.size(0)\n",
    "        test_correct += predicted.eq(labels).sum().item()\n",
    "print(f\"Test Acc: {100.*test_correct/test_total:.2f}%\")"
   ]
  },
  {
   "cell_type": "code",
   "execution_count": 2,
   "id": "85872209",
   "metadata": {},
   "outputs": [
    {
     "name": "stderr",
     "output_type": "stream",
     "text": [
      "Epoch [1/5]: 100%|██████████| 936/936 [02:57<00:00,  5.26it/s, acc=97.9, loss=0.346]\n"
     ]
    },
    {
     "name": "stdout",
     "output_type": "stream",
     "text": [
      "Test Acc: 46.79%\n"
     ]
    },
    {
     "name": "stderr",
     "output_type": "stream",
     "text": [
      "Epoch [2/5]:   0%|          | 0/936 [00:05<?, ?it/s]\n"
     ]
    },
    {
     "ename": "KeyboardInterrupt",
     "evalue": "",
     "output_type": "error",
     "traceback": [
      "\u001b[1;31m---------------------------------------------------------------------------\u001b[0m",
      "\u001b[1;31mKeyboardInterrupt\u001b[0m                         Traceback (most recent call last)",
      "Cell \u001b[1;32mIn[2], line 99\u001b[0m\n\u001b[0;32m     97\u001b[0m running_loss, correct, total \u001b[38;5;241m=\u001b[39m \u001b[38;5;241m0\u001b[39m, \u001b[38;5;241m0\u001b[39m, \u001b[38;5;241m0\u001b[39m\n\u001b[0;32m     98\u001b[0m pbar \u001b[38;5;241m=\u001b[39m tqdm(train_dataloader, desc\u001b[38;5;241m=\u001b[39m\u001b[38;5;124mf\u001b[39m\u001b[38;5;124m\"\u001b[39m\u001b[38;5;124mEpoch [\u001b[39m\u001b[38;5;132;01m{\u001b[39;00mepoch\u001b[38;5;241m+\u001b[39m\u001b[38;5;241m1\u001b[39m\u001b[38;5;132;01m}\u001b[39;00m\u001b[38;5;124m/\u001b[39m\u001b[38;5;132;01m{\u001b[39;00mnum_epochs\u001b[38;5;132;01m}\u001b[39;00m\u001b[38;5;124m]\u001b[39m\u001b[38;5;124m\"\u001b[39m)\n\u001b[1;32m---> 99\u001b[0m \u001b[38;5;28;01mfor\u001b[39;00m images, labels, _ \u001b[38;5;129;01min\u001b[39;00m pbar:\n\u001b[0;32m    100\u001b[0m     images, labels \u001b[38;5;241m=\u001b[39m images\u001b[38;5;241m.\u001b[39mto(device, dtype\u001b[38;5;241m=\u001b[39mtorch\u001b[38;5;241m.\u001b[39mfloat), labels\u001b[38;5;241m.\u001b[39mto(device)\n\u001b[0;32m    102\u001b[0m     optimizer\u001b[38;5;241m.\u001b[39mzero_grad()\n",
      "File \u001b[1;32mc:\\Users\\Genius Park\\AppData\\Local\\anaconda3\\envs\\cuda12_1\\lib\\site-packages\\tqdm\\std.py:1181\u001b[0m, in \u001b[0;36mtqdm.__iter__\u001b[1;34m(self)\u001b[0m\n\u001b[0;32m   1178\u001b[0m time \u001b[38;5;241m=\u001b[39m \u001b[38;5;28mself\u001b[39m\u001b[38;5;241m.\u001b[39m_time\n\u001b[0;32m   1180\u001b[0m \u001b[38;5;28;01mtry\u001b[39;00m:\n\u001b[1;32m-> 1181\u001b[0m     \u001b[38;5;28;01mfor\u001b[39;00m obj \u001b[38;5;129;01min\u001b[39;00m iterable:\n\u001b[0;32m   1182\u001b[0m         \u001b[38;5;28;01myield\u001b[39;00m obj\n\u001b[0;32m   1183\u001b[0m         \u001b[38;5;66;03m# Update and possibly print the progressbar.\u001b[39;00m\n\u001b[0;32m   1184\u001b[0m         \u001b[38;5;66;03m# Note: does not call self.update(1) for speed optimisation.\u001b[39;00m\n",
      "File \u001b[1;32mc:\\Users\\Genius Park\\AppData\\Local\\anaconda3\\envs\\cuda12_1\\lib\\site-packages\\torch\\utils\\data\\dataloader.py:440\u001b[0m, in \u001b[0;36mDataLoader.__iter__\u001b[1;34m(self)\u001b[0m\n\u001b[0;32m    438\u001b[0m     \u001b[38;5;28;01mreturn\u001b[39;00m \u001b[38;5;28mself\u001b[39m\u001b[38;5;241m.\u001b[39m_iterator\n\u001b[0;32m    439\u001b[0m \u001b[38;5;28;01melse\u001b[39;00m:\n\u001b[1;32m--> 440\u001b[0m     \u001b[38;5;28;01mreturn\u001b[39;00m \u001b[38;5;28;43mself\u001b[39;49m\u001b[38;5;241;43m.\u001b[39;49m\u001b[43m_get_iterator\u001b[49m\u001b[43m(\u001b[49m\u001b[43m)\u001b[49m\n",
      "File \u001b[1;32mc:\\Users\\Genius Park\\AppData\\Local\\anaconda3\\envs\\cuda12_1\\lib\\site-packages\\torch\\utils\\data\\dataloader.py:388\u001b[0m, in \u001b[0;36mDataLoader._get_iterator\u001b[1;34m(self)\u001b[0m\n\u001b[0;32m    386\u001b[0m \u001b[38;5;28;01melse\u001b[39;00m:\n\u001b[0;32m    387\u001b[0m     \u001b[38;5;28mself\u001b[39m\u001b[38;5;241m.\u001b[39mcheck_worker_number_rationality()\n\u001b[1;32m--> 388\u001b[0m     \u001b[38;5;28;01mreturn\u001b[39;00m \u001b[43m_MultiProcessingDataLoaderIter\u001b[49m\u001b[43m(\u001b[49m\u001b[38;5;28;43mself\u001b[39;49m\u001b[43m)\u001b[49m\n",
      "File \u001b[1;32mc:\\Users\\Genius Park\\AppData\\Local\\anaconda3\\envs\\cuda12_1\\lib\\site-packages\\torch\\utils\\data\\dataloader.py:1038\u001b[0m, in \u001b[0;36m_MultiProcessingDataLoaderIter.__init__\u001b[1;34m(self, loader)\u001b[0m\n\u001b[0;32m   1031\u001b[0m w\u001b[38;5;241m.\u001b[39mdaemon \u001b[38;5;241m=\u001b[39m \u001b[38;5;28;01mTrue\u001b[39;00m\n\u001b[0;32m   1032\u001b[0m \u001b[38;5;66;03m# NB: Process.start() actually take some time as it needs to\u001b[39;00m\n\u001b[0;32m   1033\u001b[0m \u001b[38;5;66;03m#     start a process and pass the arguments over via a pipe.\u001b[39;00m\n\u001b[0;32m   1034\u001b[0m \u001b[38;5;66;03m#     Therefore, we only add a worker to self._workers list after\u001b[39;00m\n\u001b[0;32m   1035\u001b[0m \u001b[38;5;66;03m#     it started, so that we do not call .join() if program dies\u001b[39;00m\n\u001b[0;32m   1036\u001b[0m \u001b[38;5;66;03m#     before it starts, and __del__ tries to join but will get:\u001b[39;00m\n\u001b[0;32m   1037\u001b[0m \u001b[38;5;66;03m#     AssertionError: can only join a started process.\u001b[39;00m\n\u001b[1;32m-> 1038\u001b[0m \u001b[43mw\u001b[49m\u001b[38;5;241;43m.\u001b[39;49m\u001b[43mstart\u001b[49m\u001b[43m(\u001b[49m\u001b[43m)\u001b[49m\n\u001b[0;32m   1039\u001b[0m \u001b[38;5;28mself\u001b[39m\u001b[38;5;241m.\u001b[39m_index_queues\u001b[38;5;241m.\u001b[39mappend(index_queue)\n\u001b[0;32m   1040\u001b[0m \u001b[38;5;28mself\u001b[39m\u001b[38;5;241m.\u001b[39m_workers\u001b[38;5;241m.\u001b[39mappend(w)\n",
      "File \u001b[1;32mc:\\Users\\Genius Park\\AppData\\Local\\anaconda3\\envs\\cuda12_1\\lib\\multiprocessing\\process.py:121\u001b[0m, in \u001b[0;36mBaseProcess.start\u001b[1;34m(self)\u001b[0m\n\u001b[0;32m    118\u001b[0m \u001b[38;5;28;01massert\u001b[39;00m \u001b[38;5;129;01mnot\u001b[39;00m _current_process\u001b[38;5;241m.\u001b[39m_config\u001b[38;5;241m.\u001b[39mget(\u001b[38;5;124m'\u001b[39m\u001b[38;5;124mdaemon\u001b[39m\u001b[38;5;124m'\u001b[39m), \\\n\u001b[0;32m    119\u001b[0m        \u001b[38;5;124m'\u001b[39m\u001b[38;5;124mdaemonic processes are not allowed to have children\u001b[39m\u001b[38;5;124m'\u001b[39m\n\u001b[0;32m    120\u001b[0m _cleanup()\n\u001b[1;32m--> 121\u001b[0m \u001b[38;5;28mself\u001b[39m\u001b[38;5;241m.\u001b[39m_popen \u001b[38;5;241m=\u001b[39m \u001b[38;5;28;43mself\u001b[39;49m\u001b[38;5;241;43m.\u001b[39;49m\u001b[43m_Popen\u001b[49m\u001b[43m(\u001b[49m\u001b[38;5;28;43mself\u001b[39;49m\u001b[43m)\u001b[49m\n\u001b[0;32m    122\u001b[0m \u001b[38;5;28mself\u001b[39m\u001b[38;5;241m.\u001b[39m_sentinel \u001b[38;5;241m=\u001b[39m \u001b[38;5;28mself\u001b[39m\u001b[38;5;241m.\u001b[39m_popen\u001b[38;5;241m.\u001b[39msentinel\n\u001b[0;32m    123\u001b[0m \u001b[38;5;66;03m# Avoid a refcycle if the target function holds an indirect\u001b[39;00m\n\u001b[0;32m    124\u001b[0m \u001b[38;5;66;03m# reference to the process object (see bpo-30775)\u001b[39;00m\n",
      "File \u001b[1;32mc:\\Users\\Genius Park\\AppData\\Local\\anaconda3\\envs\\cuda12_1\\lib\\multiprocessing\\context.py:224\u001b[0m, in \u001b[0;36mProcess._Popen\u001b[1;34m(process_obj)\u001b[0m\n\u001b[0;32m    222\u001b[0m \u001b[38;5;129m@staticmethod\u001b[39m\n\u001b[0;32m    223\u001b[0m \u001b[38;5;28;01mdef\u001b[39;00m \u001b[38;5;21m_Popen\u001b[39m(process_obj):\n\u001b[1;32m--> 224\u001b[0m     \u001b[38;5;28;01mreturn\u001b[39;00m \u001b[43m_default_context\u001b[49m\u001b[38;5;241;43m.\u001b[39;49m\u001b[43mget_context\u001b[49m\u001b[43m(\u001b[49m\u001b[43m)\u001b[49m\u001b[38;5;241;43m.\u001b[39;49m\u001b[43mProcess\u001b[49m\u001b[38;5;241;43m.\u001b[39;49m\u001b[43m_Popen\u001b[49m\u001b[43m(\u001b[49m\u001b[43mprocess_obj\u001b[49m\u001b[43m)\u001b[49m\n",
      "File \u001b[1;32mc:\\Users\\Genius Park\\AppData\\Local\\anaconda3\\envs\\cuda12_1\\lib\\multiprocessing\\context.py:327\u001b[0m, in \u001b[0;36mSpawnProcess._Popen\u001b[1;34m(process_obj)\u001b[0m\n\u001b[0;32m    324\u001b[0m \u001b[38;5;129m@staticmethod\u001b[39m\n\u001b[0;32m    325\u001b[0m \u001b[38;5;28;01mdef\u001b[39;00m \u001b[38;5;21m_Popen\u001b[39m(process_obj):\n\u001b[0;32m    326\u001b[0m     \u001b[38;5;28;01mfrom\u001b[39;00m \u001b[38;5;21;01m.\u001b[39;00m\u001b[38;5;21;01mpopen_spawn_win32\u001b[39;00m \u001b[38;5;28;01mimport\u001b[39;00m Popen\n\u001b[1;32m--> 327\u001b[0m     \u001b[38;5;28;01mreturn\u001b[39;00m \u001b[43mPopen\u001b[49m\u001b[43m(\u001b[49m\u001b[43mprocess_obj\u001b[49m\u001b[43m)\u001b[49m\n",
      "File \u001b[1;32mc:\\Users\\Genius Park\\AppData\\Local\\anaconda3\\envs\\cuda12_1\\lib\\multiprocessing\\popen_spawn_win32.py:93\u001b[0m, in \u001b[0;36mPopen.__init__\u001b[1;34m(self, process_obj)\u001b[0m\n\u001b[0;32m     91\u001b[0m \u001b[38;5;28;01mtry\u001b[39;00m:\n\u001b[0;32m     92\u001b[0m     reduction\u001b[38;5;241m.\u001b[39mdump(prep_data, to_child)\n\u001b[1;32m---> 93\u001b[0m     \u001b[43mreduction\u001b[49m\u001b[38;5;241;43m.\u001b[39;49m\u001b[43mdump\u001b[49m\u001b[43m(\u001b[49m\u001b[43mprocess_obj\u001b[49m\u001b[43m,\u001b[49m\u001b[43m \u001b[49m\u001b[43mto_child\u001b[49m\u001b[43m)\u001b[49m\n\u001b[0;32m     94\u001b[0m \u001b[38;5;28;01mfinally\u001b[39;00m:\n\u001b[0;32m     95\u001b[0m     set_spawning_popen(\u001b[38;5;28;01mNone\u001b[39;00m)\n",
      "File \u001b[1;32mc:\\Users\\Genius Park\\AppData\\Local\\anaconda3\\envs\\cuda12_1\\lib\\multiprocessing\\reduction.py:60\u001b[0m, in \u001b[0;36mdump\u001b[1;34m(obj, file, protocol)\u001b[0m\n\u001b[0;32m     58\u001b[0m \u001b[38;5;28;01mdef\u001b[39;00m \u001b[38;5;21mdump\u001b[39m(obj, file, protocol\u001b[38;5;241m=\u001b[39m\u001b[38;5;28;01mNone\u001b[39;00m):\n\u001b[0;32m     59\u001b[0m \u001b[38;5;250m    \u001b[39m\u001b[38;5;124;03m'''Replacement for pickle.dump() using ForkingPickler.'''\u001b[39;00m\n\u001b[1;32m---> 60\u001b[0m     \u001b[43mForkingPickler\u001b[49m\u001b[43m(\u001b[49m\u001b[43mfile\u001b[49m\u001b[43m,\u001b[49m\u001b[43m \u001b[49m\u001b[43mprotocol\u001b[49m\u001b[43m)\u001b[49m\u001b[38;5;241;43m.\u001b[39;49m\u001b[43mdump\u001b[49m\u001b[43m(\u001b[49m\u001b[43mobj\u001b[49m\u001b[43m)\u001b[49m\n",
      "\u001b[1;31mKeyboardInterrupt\u001b[0m: "
     ]
    }
   ],
   "source": [
    "import torch\n",
    "import torch.nn as nn\n",
    "import torch.nn.functional as F\n",
    "from torchvision.models import efficientnet_b0\n",
    "from torch.utils.data import DataLoader\n",
    "from tqdm import tqdm\n",
    "from datatset import DROZY_FACE_Dataset\n",
    "\n",
    "# ============================\n",
    "# 1. Dataset & DataLoader\n",
    "# ============================\n",
    "train_dataset = DROZY_FACE_Dataset(\n",
    "    split_dir=\"./DROZY/gaeMuRan/interpolated_videos_npy/train\",\n",
    ")\n",
    "test_dataset = DROZY_FACE_Dataset(\n",
    "    split_dir=\"./DROZY/gaeMuRan/interpolated_videos_npy/test\",\n",
    ")\n",
    "\n",
    "train_dataloader = DataLoader(train_dataset, batch_size=16, shuffle=True, pin_memory=True, num_workers=4)\n",
    "test_dataloader = DataLoader(test_dataset, batch_size=16, shuffle=False, pin_memory=True, num_workers=4)\n",
    "\n",
    "# ============================\n",
    "# 2. EfficientNetB0 + BiGRU + MultiheadAttention\n",
    "# ============================\n",
    "class EfficientNet_GRU_Attn(nn.Module):\n",
    "    def __init__(self, num_classes=3, embed_dim=1280, gru_hidden=512, num_heads=4):\n",
    "        super().__init__()\n",
    "        # EfficientNetB0 백본 (1채널 수정)\n",
    "        effnet = efficientnet_b0(weights=True)\n",
    "        effnet.features[0][0] = nn.Conv2d(1, 32, kernel_size=3, stride=2, padding=1, bias=False)\n",
    "        self.cnn2d = effnet.features\n",
    "        self.avgpool = nn.AdaptiveAvgPool2d((1, 1))\n",
    "        cnn2d_out_dim = embed_dim\n",
    "\n",
    "        # Bi-GRU (시간 정보 강화)\n",
    "        self.temporal_rnn = nn.GRU(\n",
    "            input_size=cnn2d_out_dim,\n",
    "            hidden_size=gru_hidden,\n",
    "            num_layers=2,\n",
    "            batch_first=True,\n",
    "            bidirectional=True\n",
    "        )\n",
    "\n",
    "        # Linear projection back to original dim\n",
    "        self.temporal_fc = nn.Linear(gru_hidden * 2, cnn2d_out_dim)\n",
    "\n",
    "        # Multihead Attention\n",
    "        self.temporal_attn = nn.MultiheadAttention(embed_dim=cnn2d_out_dim, num_heads=num_heads, batch_first=True)\n",
    "\n",
    "        # Classifier\n",
    "        self.classifier = nn.Sequential(\n",
    "            nn.Linear(cnn2d_out_dim, 256),\n",
    "            nn.ReLU(),\n",
    "            nn.Dropout(0.5),\n",
    "            nn.Linear(256, num_classes)\n",
    "        )\n",
    "\n",
    "    def forward(self, x):\n",
    "        # x: (B, T, H, W) or (B, 1, T, H, W)\n",
    "        if x.ndim == 5:\n",
    "            x = x.squeeze(1)  # (B, T, H, W)\n",
    "        B, T, H, W = x.shape\n",
    "\n",
    "        # Frame-wise CNN feature extraction\n",
    "        x = x.reshape(B * T, 1, H, W)\n",
    "        feats = self.cnn2d(x)\n",
    "        feats = self.avgpool(feats).flatten(1)  # (B*T, 1280)\n",
    "        feats = feats.view(B, T, -1)  # (B, T, 1280)\n",
    "\n",
    "        # Bi-GRU\n",
    "        feats_rnn, _ = self.temporal_rnn(feats)\n",
    "        feats_rnn = self.temporal_fc(feats_rnn)  # (B, T, 1280)\n",
    "\n",
    "        # Multihead Attention\n",
    "        attn_out, _ = self.temporal_attn(feats_rnn, feats_rnn, feats_rnn)\n",
    "\n",
    "        # Attention Pooling (Mean)\n",
    "        context = attn_out.mean(dim=1)\n",
    "\n",
    "        out = self.classifier(context)\n",
    "        return out\n",
    "\n",
    "# ============================\n",
    "# 3. Training Loop\n",
    "# ============================\n",
    "\n",
    "device = torch.device(\"cuda\" if torch.cuda.is_available() else \"cpu\")\n",
    "model = EfficientNet_GRU_Attn().to(device)\n",
    "\n",
    "criterion = nn.CrossEntropyLoss(label_smoothing=0.1)\n",
    "optimizer = torch.optim.AdamW(model.parameters(), lr=3e-4, weight_decay=5e-5)\n",
    "scheduler = torch.optim.lr_scheduler.CosineAnnealingWarmRestarts(optimizer, T_0=5)\n",
    "\n",
    "num_epochs = 5\n",
    "for epoch in range(num_epochs):\n",
    "    model.train()\n",
    "    running_loss, correct, total = 0, 0, 0\n",
    "    pbar = tqdm(train_dataloader, desc=f\"Epoch [{epoch+1}/{num_epochs}]\")\n",
    "    for images, labels, _ in pbar:\n",
    "        images, labels = images.to(device, dtype=torch.float), labels.to(device)\n",
    "\n",
    "        optimizer.zero_grad()\n",
    "        outputs = model(images)\n",
    "        loss = criterion(outputs, labels)\n",
    "        loss.backward()\n",
    "        torch.nn.utils.clip_grad_norm_(model.parameters(), 1.0)\n",
    "        optimizer.step()\n",
    "\n",
    "        running_loss += loss.item() * images.size(0)\n",
    "        _, predicted = outputs.max(1)\n",
    "        total += labels.size(0)\n",
    "        correct += predicted.eq(labels).sum().item()\n",
    "        pbar.set_postfix(loss=running_loss/total, acc=100.*correct/total)\n",
    "\n",
    "    scheduler.step()\n",
    "\n",
    "    # Validation\n",
    "    model.eval()\n",
    "    test_loss, test_correct, test_total = 0, 0, 0\n",
    "    with torch.no_grad():\n",
    "        for images, labels, _ in test_dataloader:\n",
    "            images, labels = images.to(device, dtype=torch.float), labels.to(device)\n",
    "            outputs = model(images)\n",
    "            loss = criterion(outputs, labels)\n",
    "            test_loss += loss.item() * images.size(0)\n",
    "            _, predicted = outputs.max(1)\n",
    "            test_total += labels.size(0)\n",
    "            test_correct += predicted.eq(labels).sum().item()\n",
    "\n",
    "    print(f\"Test Acc: {100.*test_correct/test_total:.2f}%\")\n"
   ]
  },
  {
   "cell_type": "code",
   "execution_count": null,
   "id": "178b2328",
   "metadata": {},
   "outputs": [
    {
     "name": "stderr",
     "output_type": "stream",
     "text": [
      "Epoch [1/5]: 100%|██████████| 1866/1866 [02:24<00:00, 12.91it/s, acc=94.9, loss=0.489]\n"
     ]
    },
    {
     "name": "stdout",
     "output_type": "stream",
     "text": [
      "Test Acc: 38.05%\n"
     ]
    },
    {
     "name": "stderr",
     "output_type": "stream",
     "text": [
      "Epoch [2/5]:   5%|▍         | 84/1866 [00:13<04:35,  6.46it/s, acc=99.3, loss=0.419]\n"
     ]
    },
    {
     "ename": "KeyboardInterrupt",
     "evalue": "",
     "output_type": "error",
     "traceback": [
      "\u001b[1;31m---------------------------------------------------------------------------\u001b[0m",
      "\u001b[1;31mKeyboardInterrupt\u001b[0m                         Traceback (most recent call last)",
      "Cell \u001b[1;32mIn[16], line 159\u001b[0m\n\u001b[0;32m    156\u001b[0m optimizer\u001b[38;5;241m.\u001b[39mstep()\n\u001b[0;32m    157\u001b[0m \u001b[38;5;66;03m# scheduler.step()\u001b[39;00m\n\u001b[1;32m--> 159\u001b[0m running_loss \u001b[38;5;241m+\u001b[39m\u001b[38;5;241m=\u001b[39m \u001b[43mloss\u001b[49m\u001b[38;5;241;43m.\u001b[39;49m\u001b[43mitem\u001b[49m\u001b[43m(\u001b[49m\u001b[43m)\u001b[49m \u001b[38;5;241m*\u001b[39m images\u001b[38;5;241m.\u001b[39msize(\u001b[38;5;241m0\u001b[39m)\n\u001b[0;32m    160\u001b[0m _, predicted \u001b[38;5;241m=\u001b[39m outputs\u001b[38;5;241m.\u001b[39mmax(\u001b[38;5;241m1\u001b[39m)\n\u001b[0;32m    161\u001b[0m total \u001b[38;5;241m+\u001b[39m\u001b[38;5;241m=\u001b[39m labels\u001b[38;5;241m.\u001b[39msize(\u001b[38;5;241m0\u001b[39m)\n",
      "\u001b[1;31mKeyboardInterrupt\u001b[0m: "
     ]
    }
   ],
   "source": []
  },
  {
   "cell_type": "code",
   "execution_count": 14,
   "id": "f610b568",
   "metadata": {},
   "outputs": [],
   "source": [
    "import gc\n",
    "\n",
    "# 가비지 컬렉션을 강제로 실행하여 불필요한 메모리를 해제합니다.\n",
    "gc.collect()\n",
    "if torch.cuda.is_available():\n",
    "    torch.cuda.empty_cache()\n",
    "    torch.cuda.ipc_collect()\n"
   ]
  },
  {
   "cell_type": "code",
   "execution_count": 7,
   "id": "414398f9",
   "metadata": {},
   "outputs": [
    {
     "name": "stderr",
     "output_type": "stream",
     "text": [
      "Epoch [1/5]: 100%|██████████| 1866/1866 [11:12<00:00,  2.77it/s, acc=72, loss=0.812]  \n"
     ]
    },
    {
     "name": "stdout",
     "output_type": "stream",
     "text": [
      "Test Acc: 27.27%\n"
     ]
    },
    {
     "name": "stderr",
     "output_type": "stream",
     "text": [
      "Epoch [2/5]: 100%|██████████| 1866/1866 [10:45<00:00,  2.89it/s, acc=86.8, loss=0.647]\n"
     ]
    },
    {
     "name": "stdout",
     "output_type": "stream",
     "text": [
      "Test Acc: 27.27%\n"
     ]
    },
    {
     "name": "stderr",
     "output_type": "stream",
     "text": [
      "Epoch [3/5]: 100%|██████████| 1866/1866 [10:37<00:00,  2.93it/s, acc=88.7, loss=0.614]\n"
     ]
    },
    {
     "name": "stdout",
     "output_type": "stream",
     "text": [
      "Test Acc: 27.27%\n"
     ]
    },
    {
     "name": "stderr",
     "output_type": "stream",
     "text": [
      "Epoch [4/5]: 100%|██████████| 1866/1866 [10:38<00:00,  2.92it/s, acc=88.8, loss=0.612]\n"
     ]
    },
    {
     "name": "stdout",
     "output_type": "stream",
     "text": [
      "Test Acc: 27.30%\n"
     ]
    },
    {
     "name": "stderr",
     "output_type": "stream",
     "text": [
      "Epoch [5/5]: 100%|██████████| 1866/1866 [10:48<00:00,  2.88it/s, acc=89.1, loss=0.603]\n"
     ]
    },
    {
     "name": "stdout",
     "output_type": "stream",
     "text": [
      "Test Acc: 27.27%\n"
     ]
    }
   ],
   "source": [
    "import torch\n",
    "import torch.nn as nn\n",
    "import torch.nn.functional as F\n",
    "from torchvision import transforms\n",
    "from torchvision.models import efficientnet_b0\n",
    "from torch.utils.data import DataLoader\n",
    "from tqdm import tqdm\n",
    "import random\n",
    "import numpy as np\n",
    "from datatset import DROZY_FACE_Dataset\n",
    "\n",
    "# ============================\n",
    "# 1. Consistent Sequence Augmentation\n",
    "# ============================\n",
    "class ConsistentTransform:\n",
    "    def __init__(self):\n",
    "        self.color_jitter = transforms.ColorJitter(0.4, 0.4, 0.4, 0.1)\n",
    "        self.random_affine = transforms.RandomAffine(degrees=15, translate=(0.1, 0.1), scale=(0.9, 1.1))\n",
    "        self.hflip = transforms.RandomHorizontalFlip(p=0.5)\n",
    "        self.gaussian_blur = transforms.GaussianBlur(kernel_size=3, sigma=(0.1, 2.0))\n",
    "        self.to_tensor = transforms.ToTensor()\n",
    "\n",
    "    def __call__(self, clip):\n",
    "        seed = random.randint(0, 99999)\n",
    "        random.seed(seed)\n",
    "        torch.manual_seed(seed)\n",
    "        clip = [self.to_tensor(\n",
    "                    self.gaussian_blur(\n",
    "                        self.hflip(\n",
    "                            self.random_affine(\n",
    "                                self.color_jitter(img)\n",
    "                            )\n",
    "                        )\n",
    "                    )\n",
    "                ) for img in clip]\n",
    "        return torch.stack(clip)  # (T, C, H, W)\n",
    "\n",
    "# ============================\n",
    "# 2. Dataset & DataLoader\n",
    "# ============================\n",
    "train_dataset = DROZY_FACE_Dataset(\n",
    "    split_dir=\"./DROZY/gaeMuRan/face_cropped_videos_npy_112/train\",\n",
    "    transform=ConsistentTransform()\n",
    ")\n",
    "test_dataset = DROZY_FACE_Dataset(\n",
    "    split_dir=\"./DROZY/gaeMuRan/face_cropped_videos_npy_112/test\",\n",
    ")\n",
    "\n",
    "train_dataloader = DataLoader(train_dataset, batch_size=8, shuffle=True, pin_memory=True)\n",
    "test_dataloader = DataLoader(test_dataset, batch_size=8, shuffle=False, pin_memory=True, num_workers=4)\n",
    "\n",
    "# ============================\n",
    "# 3. EfficientNetB0 + BiGRU + MultiheadAttention + Dropout/Norm\n",
    "# ============================\n",
    "# 2D CNN + 1D CNN 구조로 변경\n",
    "class EfficientNet_2DCNN_1DCNN(nn.Module):\n",
    "    def __init__(self, num_classes=3, embed_dim=1280, temporal_channels=512, temporal_kernel=3):\n",
    "        super().__init__()\n",
    "        # EfficientNet 대신 2D CNN 여러 층 쌓기\n",
    "        self.cnn2d = nn.Sequential(\n",
    "            nn.Conv2d(1, 32, kernel_size=3, stride=1, padding=1, bias=False),\n",
    "            nn.BatchNorm2d(32),\n",
    "            nn.ReLU(),\n",
    "            nn.Conv2d(32, 64, kernel_size=3, stride=2, padding=1, bias=False),\n",
    "            nn.BatchNorm2d(64),\n",
    "            nn.ReLU(),\n",
    "            nn.Conv2d(64, 128, kernel_size=3, stride=2, padding=1, bias=False),\n",
    "            nn.BatchNorm2d(128),\n",
    "            nn.ReLU(),\n",
    "            nn.Conv2d(128, embed_dim, kernel_size=3, stride=2, padding=1, bias=False),\n",
    "            nn.BatchNorm2d(embed_dim),\n",
    "            nn.ReLU(),\n",
    "        )\n",
    "        self.avgpool = nn.AdaptiveAvgPool2d((1, 1))\n",
    "        cnn2d_out_dim = embed_dim\n",
    "\n",
    "        # Temporal 1D CNN\n",
    "        self.temporal_cnn = nn.Sequential(\n",
    "            nn.Conv1d(cnn2d_out_dim, temporal_channels, kernel_size=temporal_kernel, padding=temporal_kernel//2),\n",
    "            nn.BatchNorm1d(temporal_channels),\n",
    "            nn.ReLU(),\n",
    "            nn.Dropout(0.3),\n",
    "            nn.Conv1d(temporal_channels, cnn2d_out_dim, kernel_size=temporal_kernel, padding=temporal_kernel//2),\n",
    "            nn.BatchNorm1d(cnn2d_out_dim),\n",
    "            nn.ReLU(),\n",
    "            nn.Dropout(0.3)\n",
    "        )\n",
    "\n",
    "        self.classifier = nn.Sequential(\n",
    "            nn.Linear(cnn2d_out_dim, 256),\n",
    "            nn.ReLU(),\n",
    "            nn.Dropout(0.5),\n",
    "            nn.Linear(256, num_classes)\n",
    "        )\n",
    "\n",
    "    def forward(self, x):\n",
    "        if x.ndim == 5:\n",
    "            if x.ndim == 5:\n",
    "                # (B, 1, T, H, W) -> (B, T, H, W)\n",
    "                x = x.squeeze(1)\n",
    "            elif x.ndim == 4:\n",
    "                # (B, T, H, W) 그대로 사용\n",
    "                pass\n",
    "            else:\n",
    "                raise ValueError(f\"입력 텐서의 shape가 올바르지 않습니다: {x.shape}\")\n",
    "            B, T, C, H, W = x.shape\n",
    "\n",
    "        # (B, T, H, W) -> (B*T, 1, H, W)\n",
    "        x = x.reshape(B * T, 1, H, W)\n",
    "        feats = self.cnn2d(x)\n",
    "        feats = self.avgpool(feats).flatten(1)  # (B*T, embed_dim)\n",
    "        feats = feats.view(B, T, -1)  # (B, T, embed_dim)\n",
    "\n",
    "        # 1D CNN: (B, T, embed_dim) -> (B, embed_dim, T)\n",
    "        feats = feats.transpose(1, 2)  # (B, embed_dim, T)\n",
    "        feats_temporal = self.temporal_cnn(feats)  # (B, embed_dim, T)\n",
    "        feats_temporal = feats_temporal.transpose(1, 2)  # (B, T, embed_dim)\n",
    "\n",
    "        # Temporal pooling (mean)\n",
    "        context = feats_temporal.mean(dim=1)  # (B, embed_dim)\n",
    "\n",
    "        out = self.classifier(context)\n",
    "        return out\n",
    "\n",
    "# ============================\n",
    "# 4. Mixup Function\n",
    "# ============================\n",
    "def mixup_data(x, y, alpha=0.4):\n",
    "    lam = np.random.beta(alpha, alpha)\n",
    "    batch_size = x.size()[0]\n",
    "    index = torch.randperm(batch_size).to(x.device)\n",
    "    mixed_x = lam * x + (1 - lam) * x[index, :]\n",
    "    y_a, y_b = y, y[index]\n",
    "    return mixed_x, y_a, y_b, lam\n",
    "\n",
    "def mixup_criterion(criterion, pred, y_a, y_b, lam):\n",
    "    return lam * criterion(pred, y_a) + (1 - lam) * criterion(pred, y_b)\n",
    "\n",
    "# ============================\n",
    "# 5. Training Loop\n",
    "# ============================\n",
    "device = torch.device(\"cuda\" if torch.cuda.is_available() else \"cpu\")\n",
    "model = EfficientNet_2DCNN_1DCNN().to(device)\n",
    "\n",
    "criterion = nn.CrossEntropyLoss(label_smoothing=0.15)\n",
    "optimizer = torch.optim.AdamW(model.parameters(), lr=1e-4, weight_decay=5e-5)\n",
    "scheduler = torch.optim.lr_scheduler.OneCycleLR(optimizer, max_lr=1e-4, total_steps=2)\n",
    "\n",
    "num_epochs = 5\n",
    "for epoch in range(num_epochs):\n",
    "    model.train()\n",
    "    running_loss, correct, total = 0, 0, 0\n",
    "    pbar = tqdm(train_dataloader, desc=f\"Epoch [{epoch+1}/{num_epochs}]\")\n",
    "    for images, labels, _ in pbar:\n",
    "        images, labels = images.to(device, dtype=torch.float), labels.to(device)\n",
    "        \n",
    "        # Mixup 적용\n",
    "        images, targets_a, targets_b, lam = mixup_data(images, labels)\n",
    "        outputs = model(images)\n",
    "        loss = mixup_criterion(criterion, outputs, targets_a, targets_b, lam)\n",
    "\n",
    "        optimizer.zero_grad()\n",
    "        loss.backward()\n",
    "        torch.nn.utils.clip_grad_norm_(model.parameters(), 1.0)\n",
    "        optimizer.step()\n",
    "        # scheduler.step()\n",
    "\n",
    "        running_loss += loss.item() * images.size(0)\n",
    "        _, predicted = outputs.max(1)\n",
    "        total += labels.size(0)\n",
    "        correct += (lam * predicted.eq(targets_a).sum().item() + (1 - lam) * predicted.eq(targets_b).sum().item())\n",
    "        pbar.set_postfix(loss=running_loss/total, acc=100.*correct/total)\n",
    "\n",
    "    # Validation\n",
    "    model.eval()\n",
    "    test_loss, test_correct, test_total = 0, 0, 0\n",
    "    with torch.no_grad():\n",
    "        for images, labels, _ in test_dataloader:\n",
    "            images, labels = images.to(device, dtype=torch.float), labels.to(device)\n",
    "            outputs = model(images)\n",
    "            loss = criterion(outputs, labels)\n",
    "            test_loss += loss.item() * images.size(0)\n",
    "            _, predicted = outputs.max(1)\n",
    "            test_total += labels.size(0)\n",
    "            test_correct += predicted.eq(labels).sum().item()\n",
    "    print(f\"Test Acc: {100.*test_correct/test_total:.2f}%\")"
   ]
  },
  {
   "cell_type": "code",
   "execution_count": 12,
   "id": "c4b468f4",
   "metadata": {},
   "outputs": [
    {
     "data": {
      "image/png": "[encoded data removed]",
      "text/plain": [
       "<Figure size 640x480 with 1 Axes>"
      ]
     },
     "metadata": {},
     "output_type": "display_data"
    },
    {
     "data": {
      "image/png": "[encoded data removed]",
      "text/plain": [
       "<Figure size 640x480 with 1 Axes>"
      ]
     },
     "metadata": {},
     "output_type": "display_data"
    }
   ],
   "source": [
    "# Grad-CAM을 위한 코드 예시 (한글 주석 포함)\n",
    "import torch\n",
    "import torch.nn.functional as F\n",
    "\n",
    "def find_last_conv_layer(model):\n",
    "    \"\"\"\n",
    "    모델에서 마지막 Conv2d 또는 Conv3d 레이어를 찾아 반환합니다.\n",
    "    \"\"\"\n",
    "    last_conv = None\n",
    "    last_name = None\n",
    "    for name, module in model.named_modules():\n",
    "        if isinstance(module, (torch.nn.Conv2d, torch.nn.Conv3d)):\n",
    "            last_conv = module\n",
    "            last_name = name\n",
    "    if last_conv is None:\n",
    "        raise ValueError(\"Conv2d/Conv3d 레이어를 찾을 수 없습니다.\")\n",
    "    return last_conv, last_name\n",
    "\n",
    "def generate_gradcam(model, input_tensor, target_class=None, target_layer_name=None):\n",
    "    \"\"\"\n",
    "    model: 학습된 모델 (CNN_LSTM)\n",
    "    input_tensor: (1, 1, T, H, W) 또는 (1, T, H, W) 형태의 입력\n",
    "    target_class: 관심있는 클래스 인덱스 (None이면 예측값 사용)\n",
    "    target_layer_name: Grad-CAM을 적용할 레이어 이름 (None이면 마지막 Conv2d/Conv3d 자동 탐색)\n",
    "    \"\"\"\n",
    "    model.eval()\n",
    "    # hook을 위한 변수\n",
    "    activations = {}\n",
    "    gradients = {}\n",
    "\n",
    "    def forward_hook(module, input, output):\n",
    "        activations['value'] = output.detach()\n",
    "\n",
    "    def backward_hook(module, grad_in, grad_out):\n",
    "        gradients['value'] = grad_out[0].detach()\n",
    "\n",
    "    # 타겟 레이어 찾기\n",
    "    if target_layer_name is not None:\n",
    "        # cnn2d, cnn3d 등 여러 네임스페이스 지원\n",
    "        found = False\n",
    "        for prefix in ['cnn2d', 'cnn3d', 'features', 'module', '']:\n",
    "            try:\n",
    "                if prefix:\n",
    "                    named_modules = dict([*getattr(model, prefix).named_modules()])\n",
    "                else:\n",
    "                    named_modules = dict([*model.named_modules()])\n",
    "                target_layer = named_modules[target_layer_name]\n",
    "                found = True\n",
    "                break\n",
    "            except (AttributeError, KeyError):\n",
    "                continue\n",
    "        if not found:\n",
    "            raise KeyError(f\"Grad-CAM 타겟 레이어 '{target_layer_name}'을(를) 찾을 수 없습니다. 모델 구조를 확인하세요.\")\n",
    "    else:\n",
    "        # 자동으로 마지막 Conv2d/Conv3d 찾기\n",
    "        target_layer, target_layer_name = find_last_conv_layer(model)\n",
    "\n",
    "    forward_handle = target_layer.register_forward_hook(forward_hook)\n",
    "    backward_handle = target_layer.register_full_backward_hook(backward_hook)\n",
    "\n",
    "    # 입력 shape 맞추기\n",
    "    if input_tensor.ndim == 4:\n",
    "        input_tensor = input_tensor.unsqueeze(1)\n",
    "    input_tensor = input_tensor.to(next(model.parameters()).device).float()\n",
    "\n",
    "    # 순전파\n",
    "    output = model(input_tensor)\n",
    "    if target_class is None:\n",
    "        target_class = output.argmax(dim=1).item()\n",
    "    score = output[0, target_class]\n",
    "\n",
    "    # 역전파\n",
    "    model.zero_grad()\n",
    "    score.backward()\n",
    "\n",
    "    # Grad-CAM 계산\n",
    "    # activation shape: (B, C, T, H, W) 또는 (B, C, H, W) 등 다양한 경우 지원\n",
    "    activation = activations['value']  # (B, C, ...)\n",
    "    grads = gradients['value']         # (B, C, ...)\n",
    "\n",
    "    # 공간 차원 자동 추출 (C, ...)\n",
    "    spatial_dims = list(range(2, activation.ndim))\n",
    "    pooled_grad = grads.mean(dim=spatial_dims, keepdim=True)  # (B, C, 1, 1, ...)\n",
    "    weights = pooled_grad[0]  # (C, 1, 1, ...)\n",
    "    act = activation[0]       # (C, ...)\n",
    "\n",
    "    # 가중합\n",
    "    gradcam = (weights * act).sum(dim=0)\n",
    "    gradcam = F.relu(gradcam)\n",
    "    gradcam = gradcam.cpu().numpy()\n",
    "    # 0~1 정규화\n",
    "    gradcam = (gradcam - gradcam.min()) / (gradcam.max() - gradcam.min() + 1e-8)\n",
    "\n",
    "    # hook 해제\n",
    "    forward_handle.remove()\n",
    "    backward_handle.remove()\n",
    "\n",
    "    # 3D일 경우(예: (T, H, W)), 가운데 프레임만 시각화\n",
    "    if gradcam.ndim == 3:\n",
    "        t = gradcam.shape[0] // 2\n",
    "        gradcam = gradcam[t]\n",
    "    elif gradcam.ndim > 2:\n",
    "        # 2D가 아닐 경우 첫 번째 차원만 사용\n",
    "        gradcam = gradcam[0]\n",
    "\n",
    "    return gradcam\n",
    "\n",
    "# 예시 사용법\n",
    "test_images, test_labels, *_ = next(iter(test_dataloader))\n",
    "gradcam_map = generate_gradcam(model, test_images[0:1], target_layer_name=None)  # 자동으로 마지막 Conv2d/Conv3d 사용\n",
    "\n",
    "import matplotlib.pyplot as plt\n",
    "plt.imshow(gradcam_map)\n",
    "plt.title(\"Grad-CAM 결과\")\n",
    "plt.axis('off')\n",
    "plt.show()\n",
    "\n",
    "plt.imshow(test_images[0][0])\n",
    "plt.show()"
   ]
  },
  {
   "cell_type": "code",
   "execution_count": 4,
   "id": "37d75d97",
   "metadata": {},
   "outputs": [
    {
     "name": "stderr",
     "output_type": "stream",
     "text": [
      "테스트 진행중: 100%|██████████| 412/412 [00:35<00:00, 11.46it/s, loss=2.0792, acc=67.84%]"
     ]
    },
    {
     "name": "stdout",
     "output_type": "stream",
     "text": [
      "테스트 Loss: 2.0792 Acc: 67.84%\n"
     ]
    },
    {
     "name": "stderr",
     "output_type": "stream",
     "text": [
      "\n"
     ]
    }
   ],
   "source": [
    "# 테스트 코드\n",
    "model.eval()\n",
    "test_loss = 0.0\n",
    "test_correct = 0\n",
    "test_total = 0\n",
    "with torch.no_grad():\n",
    "    pbar_test = tqdm(test_dataloader, desc=\"테스트 진행중\")\n",
    "    for images, labels, _ in pbar_test:\n",
    "        images = images.to(device, dtype=torch.float)\n",
    "        labels = labels.to(device)\n",
    "        if images.ndim == 5 and images.shape[1] == 1:\n",
    "            pass\n",
    "        elif images.ndim == 4:\n",
    "            images = images.unsqueeze(1)\n",
    "        else:\n",
    "            raise ValueError(f\"입력 shape 오류: {images.shape}, (B, 30, 75, 75) 또는 (B, 1, 30, 75, 75) 이어야 합니다.\")\n",
    "        outputs = model(images)\n",
    "        loss = criterion(outputs, labels)\n",
    "        test_loss += loss.item() * images.size(0)\n",
    "        _, predicted = outputs.max(1)\n",
    "        test_total += labels.size(0)\n",
    "        test_correct += predicted.eq(labels).sum().item()\n",
    "        current_test_loss = test_loss / test_total if test_total > 0 else 0\n",
    "        current_test_acc = test_correct / test_total * 100 if test_total > 0 else 0\n",
    "        pbar_test.set_postfix({'loss': f'{current_test_loss:.4f}', 'acc': f'{current_test_acc:.2f}%'})\n",
    "    test_epoch_loss = test_loss / test_total\n",
    "    test_epoch_acc = test_correct / test_total * 100\n",
    "    print(f\"테스트 Loss: {test_epoch_loss:.4f} Acc: {test_epoch_acc:.2f}%\")"
   ]
  },
  {
   "cell_type": "code",
   "execution_count": null,
   "id": "a32f48bc",
   "metadata": {},
   "outputs": [
    {
     "name": "stdout",
     "output_type": "stream",
     "text": [
      "팀 1: ['이미영', '김시진']\n",
      "팀 2: ['문지연', '이학진']\n",
      "팀 3: ['박영제', '이승건']\n",
      "팀 4: ['안병선', '안병선']\n",
      "\n",
      "점수: 105\n",
      "\n",
      "좌미우미 : 안병선\n",
      "\n",
      "[토너먼트 대진표]\n",
      "경기 1: ['이미영', '김시진'] vs ['문지연', '이학진']\n",
      "경기 2: ['박영제', '이승건'] vs ['안병선', '안병선']\n"
     ]
    }
   ],
   "source": [
    "import random\n",
    "from collections import deque\n",
    "\n",
    "def create_random_teams_by_name(names, people_per_team):\n",
    "    \"\"\"\n",
    "    참가자 명단과 팀당 인원 수를 받아 랜덤 팀을 생성하고, 좌미우미(중복 인원)도 반환합니다.\n",
    "    \"\"\"\n",
    "    total_people = len(names)\n",
    "    if total_people < people_per_team:\n",
    "        print(\"팀원 수가 전체 인원보다 많을 수 없습니다.\")\n",
    "        return [], set()\n",
    "\n",
    "    names = names[:]  # 원본 보호\n",
    "    random.shuffle(names)\n",
    "\n",
    "    num_teams = total_people // people_per_team\n",
    "    remainder = total_people % people_per_team\n",
    "    duplicated_members = set()\n",
    "\n",
    "    # 인원이 딱 맞지 않으면 중복 인원 추가\n",
    "    if remainder != 0:\n",
    "        need = people_per_team - remainder\n",
    "        extra_members = random.sample(names, k=need)\n",
    "        duplicated_members.update(extra_members)\n",
    "        names.extend(extra_members)\n",
    "        total_people = len(names)\n",
    "        num_teams = total_people // people_per_team\n",
    "\n",
    "    teams = []\n",
    "    index = 0\n",
    "    for _ in range(num_teams):\n",
    "        team = names[index:index + people_per_team]\n",
    "        teams.append(team)\n",
    "        index += people_per_team\n",
    "\n",
    "    return teams, duplicated_members\n",
    "\n",
    "def print_teams_and_score(teams, people_per_team, duplicated_members):\n",
    "    \"\"\"\n",
    "    팀 구성과 점수, 좌미우미(중복 인원)를 출력합니다.\n",
    "    \"\"\"\n",
    "    for i, team in enumerate(teams, 1):\n",
    "        print(f\"팀 {i}: {team}\")\n",
    "    print()\n",
    "    score_min = people_per_team * 3\n",
    "    score_max = people_per_team * 60\n",
    "    score = random.randint(score_min, score_max)\n",
    "    print(f\"점수: {score}\\n\")\n",
    "    if duplicated_members:\n",
    "        print(f\"좌미우미 : {', '.join(duplicated_members)}\")\n",
    "\n",
    "def make_tournament_bracket(teams):\n",
    "    \"\"\"\n",
    "    토너먼트 대진표를 출력합니다.\n",
    "    \"\"\"\n",
    "    print(\"\\n[토너먼트 대진표]\")\n",
    "    num_teams = len(teams)\n",
    "    if num_teams & (num_teams-1) != 0:\n",
    "        print(\"※ 팀 수가 2의 제곱이 아니므로 부전승이 발생할 수 있습니다.\")\n",
    "    match_num = 1\n",
    "    for i in range(0, num_teams, 2):\n",
    "        if i+1 < num_teams:\n",
    "            print(f\"경기 {match_num}: {teams[i]} vs {teams[i+1]}\")\n",
    "        else:\n",
    "            print(f\"경기 {match_num}: {teams[i]} (부전승)\")\n",
    "        match_num += 1\n",
    "\n",
    "def make_league_schedule(teams):\n",
    "    \"\"\"\n",
    "    리그전 대진표를 출력합니다.\n",
    "    \"\"\"\n",
    "    print(\"\\n[리그전 대진표]\")\n",
    "    num_teams = len(teams)\n",
    "    match_num = 1\n",
    "    first_count = [0] * num_teams\n",
    "    second_count = [0] * num_teams\n",
    "    matches = []\n",
    "    for i in range(num_teams):\n",
    "        for j in range(i+1, num_teams):\n",
    "            matches.append((i, j))\n",
    "\n",
    "    scheduled = []\n",
    "    matches = deque(matches)\n",
    "\n",
    "    while matches:\n",
    "        found = False\n",
    "        for _ in range(len(matches)):\n",
    "            i, j = matches[0]\n",
    "            if (not scheduled or (i not in scheduled[-1] and j not in scheduled[-1])):\n",
    "                scheduled.append((i, j))\n",
    "                matches.popleft()\n",
    "                found = True\n",
    "                break\n",
    "            else:\n",
    "                matches.rotate(-1)\n",
    "        if not found:\n",
    "            scheduled.append(matches.popleft())\n",
    "\n",
    "    for idx, (i, j) in enumerate(scheduled):\n",
    "        if idx % 2 == 0:\n",
    "            first, second = i, j\n",
    "        else:\n",
    "            first, second = j, i\n",
    "        first_count[first] += 1\n",
    "        second_count[second] += 1\n",
    "        print(f\"팀 {first+1} vs 팀 {second+1}\")\n",
    "        match_num += 1\n",
    "\n",
    "def make_throwing_order(names):\n",
    "    \"\"\"\n",
    "    던지는 순서를 랜덤으로 출력합니다.\n",
    "    \"\"\"\n",
    "    print(\"\\n[던지는 순서]\")\n",
    "    order = names[:]\n",
    "    random.shuffle(order)\n",
    "    for idx, name in enumerate(order, 1):\n",
    "        print(f\"{idx}번: {name}\")\n",
    "\n",
    "def main(names, people_per_team, game_type):\n",
    "    \"\"\"\n",
    "    메인 실행 함수. 게임 종류에 따라 분기합니다.\n",
    "    \"\"\"\n",
    "    if not names:\n",
    "        print(\"참가자가 없습니다.\")\n",
    "        return\n",
    "\n",
    "    if game_type == \"토너먼트\":\n",
    "        teams, duplicated_members = create_random_teams_by_name(names, people_per_team)\n",
    "        print_teams_and_score(teams, people_per_team, duplicated_members)\n",
    "        make_tournament_bracket(teams)\n",
    "    elif game_type == \"리그\":\n",
    "        teams, duplicated_members = create_random_teams_by_name(names, people_per_team)\n",
    "        print_teams_and_score(teams, people_per_team, duplicated_members)\n",
    "        make_league_schedule(teams)\n",
    "    elif game_type == \"순서대로\":\n",
    "        make_throwing_order(names)\n",
    "    else:\n",
    "        print(\"지원하지 않는 게임 종류입니다.\")\n",
    "\n",
    "# 이름 후보\n",
    "# \"문지연\", \"이미영\", \"박송희\", \"김시진\", \"안병선\", \"정세림\", \"김승현\", \"신은빈\", \"이승건\", \"황정원\", \"정승민\", \"이학진\", \"석채린\", \"박영제\", \"이정곤\"\n",
    "if __name__ == \"__main__\":\n",
    "    names = [\"문지연\", \"이미영\", \"김시진\", \"안병선\", \"박영제\", \"이승건\", \"이학진\"]\n",
    "    people_per_team = 2  # 팀당 인원 수 지정\n",
    "    game_type = \"토너먼트\"\n",
    "    main(names, people_per_team, game_type)"
   ]
  },
  {
   "cell_type": "code",
   "execution_count": null,
   "id": "4e7add75",
   "metadata": {},
   "outputs": [],
   "source": []
  },
  {
   "cell_type": "code",
   "execution_count": null,
   "id": "a7d9bfef",
   "metadata": {},
   "outputs": [],
   "source": []
  },
  {
   "cell_type": "code",
   "execution_count": null,
   "id": "2b947075",
   "metadata": {},
   "outputs": [],
   "source": []
  },
  {
   "cell_type": "code",
   "execution_count": null,
   "id": "0ace5066",
   "metadata": {},
   "outputs": [],
   "source": []
  },
  {
   "cell_type": "code",
   "execution_count": null,
   "id": "f6e890ba",
   "metadata": {},
   "outputs": [],
   "source": []
  },
  {
   "cell_type": "code",
   "execution_count": null,
   "id": "9f5107e9",
   "metadata": {},
   "outputs": [
    {
     "name": "stderr",
     "output_type": "stream",
     "text": [
      "테스트 진행중:  52%|█████▏    | 1077/2060 [04:24<04:01,  4.07it/s, loss=1.9981, acc=31.64%]\n"
     ]
    },
    {
     "ename": "KeyboardInterrupt",
     "evalue": "",
     "output_type": "error",
     "traceback": [
      "\u001b[1;31m---------------------------------------------------------------------------\u001b[0m",
      "\u001b[1;31mKeyboardInterrupt\u001b[0m                         Traceback (most recent call last)",
      "Cell \u001b[1;32mIn[17], line 8\u001b[0m\n\u001b[0;32m      6\u001b[0m \u001b[38;5;28;01mwith\u001b[39;00m torch\u001b[38;5;241m.\u001b[39mno_grad():\n\u001b[0;32m      7\u001b[0m     pbar_test \u001b[38;5;241m=\u001b[39m tqdm(test_dataloader, desc\u001b[38;5;241m=\u001b[39m\u001b[38;5;124m\"\u001b[39m\u001b[38;5;124m테스트 진행중\u001b[39m\u001b[38;5;124m\"\u001b[39m)\n\u001b[1;32m----> 8\u001b[0m     \u001b[38;5;28;01mfor\u001b[39;00m images, labels, _ \u001b[38;5;129;01min\u001b[39;00m pbar_test:\n\u001b[0;32m      9\u001b[0m         images \u001b[38;5;241m=\u001b[39m images\u001b[38;5;241m.\u001b[39mto(device)\n\u001b[0;32m     10\u001b[0m         labels \u001b[38;5;241m=\u001b[39m labels\u001b[38;5;241m.\u001b[39mto(device)\n",
      "File \u001b[1;32mc:\\Users\\Genius Park\\AppData\\Local\\anaconda3\\envs\\cuda12_1\\lib\\site-packages\\tqdm\\std.py:1181\u001b[0m, in \u001b[0;36mtqdm.__iter__\u001b[1;34m(self)\u001b[0m\n\u001b[0;32m   1178\u001b[0m time \u001b[38;5;241m=\u001b[39m \u001b[38;5;28mself\u001b[39m\u001b[38;5;241m.\u001b[39m_time\n\u001b[0;32m   1180\u001b[0m \u001b[38;5;28;01mtry\u001b[39;00m:\n\u001b[1;32m-> 1181\u001b[0m     \u001b[38;5;28;01mfor\u001b[39;00m obj \u001b[38;5;129;01min\u001b[39;00m iterable:\n\u001b[0;32m   1182\u001b[0m         \u001b[38;5;28;01myield\u001b[39;00m obj\n\u001b[0;32m   1183\u001b[0m         \u001b[38;5;66;03m# Update and possibly print the progressbar.\u001b[39;00m\n\u001b[0;32m   1184\u001b[0m         \u001b[38;5;66;03m# Note: does not call self.update(1) for speed optimisation.\u001b[39;00m\n",
      "File \u001b[1;32mc:\\Users\\Genius Park\\AppData\\Local\\anaconda3\\envs\\cuda12_1\\lib\\site-packages\\torch\\utils\\data\\dataloader.py:630\u001b[0m, in \u001b[0;36m_BaseDataLoaderIter.__next__\u001b[1;34m(self)\u001b[0m\n\u001b[0;32m    627\u001b[0m \u001b[38;5;28;01mif\u001b[39;00m \u001b[38;5;28mself\u001b[39m\u001b[38;5;241m.\u001b[39m_sampler_iter \u001b[38;5;129;01mis\u001b[39;00m \u001b[38;5;28;01mNone\u001b[39;00m:\n\u001b[0;32m    628\u001b[0m     \u001b[38;5;66;03m# TODO(https://github.com/pytorch/pytorch/issues/76750)\u001b[39;00m\n\u001b[0;32m    629\u001b[0m     \u001b[38;5;28mself\u001b[39m\u001b[38;5;241m.\u001b[39m_reset()  \u001b[38;5;66;03m# type: ignore[call-arg]\u001b[39;00m\n\u001b[1;32m--> 630\u001b[0m data \u001b[38;5;241m=\u001b[39m \u001b[38;5;28;43mself\u001b[39;49m\u001b[38;5;241;43m.\u001b[39;49m\u001b[43m_next_data\u001b[49m\u001b[43m(\u001b[49m\u001b[43m)\u001b[49m\n\u001b[0;32m    631\u001b[0m \u001b[38;5;28mself\u001b[39m\u001b[38;5;241m.\u001b[39m_num_yielded \u001b[38;5;241m+\u001b[39m\u001b[38;5;241m=\u001b[39m \u001b[38;5;241m1\u001b[39m\n\u001b[0;32m    632\u001b[0m \u001b[38;5;28;01mif\u001b[39;00m \u001b[38;5;28mself\u001b[39m\u001b[38;5;241m.\u001b[39m_dataset_kind \u001b[38;5;241m==\u001b[39m _DatasetKind\u001b[38;5;241m.\u001b[39mIterable \u001b[38;5;129;01mand\u001b[39;00m \\\n\u001b[0;32m    633\u001b[0m         \u001b[38;5;28mself\u001b[39m\u001b[38;5;241m.\u001b[39m_IterableDataset_len_called \u001b[38;5;129;01mis\u001b[39;00m \u001b[38;5;129;01mnot\u001b[39;00m \u001b[38;5;28;01mNone\u001b[39;00m \u001b[38;5;129;01mand\u001b[39;00m \\\n\u001b[0;32m    634\u001b[0m         \u001b[38;5;28mself\u001b[39m\u001b[38;5;241m.\u001b[39m_num_yielded \u001b[38;5;241m>\u001b[39m \u001b[38;5;28mself\u001b[39m\u001b[38;5;241m.\u001b[39m_IterableDataset_len_called:\n",
      "File \u001b[1;32mc:\\Users\\Genius Park\\AppData\\Local\\anaconda3\\envs\\cuda12_1\\lib\\site-packages\\torch\\utils\\data\\dataloader.py:673\u001b[0m, in \u001b[0;36m_SingleProcessDataLoaderIter._next_data\u001b[1;34m(self)\u001b[0m\n\u001b[0;32m    671\u001b[0m \u001b[38;5;28;01mdef\u001b[39;00m \u001b[38;5;21m_next_data\u001b[39m(\u001b[38;5;28mself\u001b[39m):\n\u001b[0;32m    672\u001b[0m     index \u001b[38;5;241m=\u001b[39m \u001b[38;5;28mself\u001b[39m\u001b[38;5;241m.\u001b[39m_next_index()  \u001b[38;5;66;03m# may raise StopIteration\u001b[39;00m\n\u001b[1;32m--> 673\u001b[0m     data \u001b[38;5;241m=\u001b[39m \u001b[38;5;28;43mself\u001b[39;49m\u001b[38;5;241;43m.\u001b[39;49m\u001b[43m_dataset_fetcher\u001b[49m\u001b[38;5;241;43m.\u001b[39;49m\u001b[43mfetch\u001b[49m\u001b[43m(\u001b[49m\u001b[43mindex\u001b[49m\u001b[43m)\u001b[49m  \u001b[38;5;66;03m# may raise StopIteration\u001b[39;00m\n\u001b[0;32m    674\u001b[0m     \u001b[38;5;28;01mif\u001b[39;00m \u001b[38;5;28mself\u001b[39m\u001b[38;5;241m.\u001b[39m_pin_memory:\n\u001b[0;32m    675\u001b[0m         data \u001b[38;5;241m=\u001b[39m _utils\u001b[38;5;241m.\u001b[39mpin_memory\u001b[38;5;241m.\u001b[39mpin_memory(data, \u001b[38;5;28mself\u001b[39m\u001b[38;5;241m.\u001b[39m_pin_memory_device)\n",
      "File \u001b[1;32mc:\\Users\\Genius Park\\AppData\\Local\\anaconda3\\envs\\cuda12_1\\lib\\site-packages\\torch\\utils\\data\\_utils\\fetch.py:52\u001b[0m, in \u001b[0;36m_MapDatasetFetcher.fetch\u001b[1;34m(self, possibly_batched_index)\u001b[0m\n\u001b[0;32m     50\u001b[0m         data \u001b[38;5;241m=\u001b[39m \u001b[38;5;28mself\u001b[39m\u001b[38;5;241m.\u001b[39mdataset\u001b[38;5;241m.\u001b[39m__getitems__(possibly_batched_index)\n\u001b[0;32m     51\u001b[0m     \u001b[38;5;28;01melse\u001b[39;00m:\n\u001b[1;32m---> 52\u001b[0m         data \u001b[38;5;241m=\u001b[39m [\u001b[38;5;28mself\u001b[39m\u001b[38;5;241m.\u001b[39mdataset[idx] \u001b[38;5;28;01mfor\u001b[39;00m idx \u001b[38;5;129;01min\u001b[39;00m possibly_batched_index]\n\u001b[0;32m     53\u001b[0m \u001b[38;5;28;01melse\u001b[39;00m:\n\u001b[0;32m     54\u001b[0m     data \u001b[38;5;241m=\u001b[39m \u001b[38;5;28mself\u001b[39m\u001b[38;5;241m.\u001b[39mdataset[possibly_batched_index]\n",
      "File \u001b[1;32mc:\\Users\\Genius Park\\AppData\\Local\\anaconda3\\envs\\cuda12_1\\lib\\site-packages\\torch\\utils\\data\\_utils\\fetch.py:52\u001b[0m, in \u001b[0;36m<listcomp>\u001b[1;34m(.0)\u001b[0m\n\u001b[0;32m     50\u001b[0m         data \u001b[38;5;241m=\u001b[39m \u001b[38;5;28mself\u001b[39m\u001b[38;5;241m.\u001b[39mdataset\u001b[38;5;241m.\u001b[39m__getitems__(possibly_batched_index)\n\u001b[0;32m     51\u001b[0m     \u001b[38;5;28;01melse\u001b[39;00m:\n\u001b[1;32m---> 52\u001b[0m         data \u001b[38;5;241m=\u001b[39m [\u001b[38;5;28;43mself\u001b[39;49m\u001b[38;5;241;43m.\u001b[39;49m\u001b[43mdataset\u001b[49m\u001b[43m[\u001b[49m\u001b[43midx\u001b[49m\u001b[43m]\u001b[49m \u001b[38;5;28;01mfor\u001b[39;00m idx \u001b[38;5;129;01min\u001b[39;00m possibly_batched_index]\n\u001b[0;32m     53\u001b[0m \u001b[38;5;28;01melse\u001b[39;00m:\n\u001b[0;32m     54\u001b[0m     data \u001b[38;5;241m=\u001b[39m \u001b[38;5;28mself\u001b[39m\u001b[38;5;241m.\u001b[39mdataset[possibly_batched_index]\n",
      "File \u001b[1;32mc:\\Users\\Genius Park\\Desktop\\work\\2025_Summer_Study\\rrsp_drozy\\datatset.py:310\u001b[0m, in \u001b[0;36mDROZY_FACE_Dataset.__getitem__\u001b[1;34m(self, idx)\u001b[0m\n\u001b[0;32m    306\u001b[0m kss_label \u001b[38;5;241m=\u001b[39m \u001b[38;5;28mself\u001b[39m\u001b[38;5;241m.\u001b[39mkss_dict[sample_idx]\n\u001b[0;32m    308\u001b[0m \u001b[38;5;66;03m# npy 파일에서 데이터 로드\u001b[39;00m\n\u001b[0;32m    309\u001b[0m \u001b[38;5;66;03m# sample_path는 (frame, 1, width, height) 형태의 데이터를 가짐 (real_npy_video.py 참고)\u001b[39;00m\n\u001b[1;32m--> 310\u001b[0m frame_array \u001b[38;5;241m=\u001b[39m \u001b[43mnp\u001b[49m\u001b[38;5;241;43m.\u001b[39;49m\u001b[43mload\u001b[49m\u001b[43m(\u001b[49m\u001b[43msample_path\u001b[49m\u001b[43m)\u001b[49m  \u001b[38;5;66;03m# shape: (frame, 1, width, height)\u001b[39;00m\n\u001b[0;32m    312\u001b[0m \u001b[38;5;66;03m# 평균 얼굴이 잘 안나오는 문제 해결: \u001b[39;00m\n\u001b[0;32m    313\u001b[0m \u001b[38;5;66;03m# 1. 각 프레임을 정규화한 후 평균을 내거나, \u001b[39;00m\n\u001b[0;32m    314\u001b[0m \u001b[38;5;66;03m# 2. 전체 시퀀스를 정규화 후 평균을 내는 방식으로 변경\u001b[39;00m\n\u001b[0;32m    315\u001b[0m \n\u001b[0;32m    316\u001b[0m \u001b[38;5;66;03m# (1) 각 프레임별로 정규화 후 평균\u001b[39;00m\n\u001b[0;32m    317\u001b[0m \u001b[38;5;66;03m# (frame, 1, width, height) -> (frame, width, height)\u001b[39;00m\n\u001b[0;32m    318\u001b[0m \u001b[38;5;28;01mif\u001b[39;00m frame_array\u001b[38;5;241m.\u001b[39mndim \u001b[38;5;241m==\u001b[39m \u001b[38;5;241m4\u001b[39m \u001b[38;5;129;01mand\u001b[39;00m frame_array\u001b[38;5;241m.\u001b[39mshape[\u001b[38;5;241m1\u001b[39m] \u001b[38;5;241m==\u001b[39m \u001b[38;5;241m1\u001b[39m:\n",
      "File \u001b[1;32mc:\\Users\\Genius Park\\AppData\\Local\\anaconda3\\envs\\cuda12_1\\lib\\site-packages\\numpy\\lib\\npyio.py:405\u001b[0m, in \u001b[0;36mload\u001b[1;34m(file, mmap_mode, allow_pickle, fix_imports, encoding, max_header_size)\u001b[0m\n\u001b[0;32m    403\u001b[0m     own_fid \u001b[38;5;241m=\u001b[39m \u001b[38;5;28;01mFalse\u001b[39;00m\n\u001b[0;32m    404\u001b[0m \u001b[38;5;28;01melse\u001b[39;00m:\n\u001b[1;32m--> 405\u001b[0m     fid \u001b[38;5;241m=\u001b[39m stack\u001b[38;5;241m.\u001b[39menter_context(\u001b[38;5;28;43mopen\u001b[39;49m\u001b[43m(\u001b[49m\u001b[43mos_fspath\u001b[49m\u001b[43m(\u001b[49m\u001b[43mfile\u001b[49m\u001b[43m)\u001b[49m\u001b[43m,\u001b[49m\u001b[43m \u001b[49m\u001b[38;5;124;43m\"\u001b[39;49m\u001b[38;5;124;43mrb\u001b[39;49m\u001b[38;5;124;43m\"\u001b[39;49m\u001b[43m)\u001b[49m)\n\u001b[0;32m    406\u001b[0m     own_fid \u001b[38;5;241m=\u001b[39m \u001b[38;5;28;01mTrue\u001b[39;00m\n\u001b[0;32m    408\u001b[0m \u001b[38;5;66;03m# Code to distinguish from NumPy binary files and pickles.\u001b[39;00m\n",
      "\u001b[1;31mKeyboardInterrupt\u001b[0m: "
     ]
    }
   ],
   "source": [
    "# 테스트 코드 추가\n",
    "mobilenet_v3.eval()\n",
    "test_loss = 0.0\n",
    "test_correct = 0\n",
    "test_total = 0\n",
    "with torch.no_grad():\n",
    "    pbar_test = tqdm(test_dataloader, desc=\"테스트 진행중\")\n",
    "    for images, labels, _ in pbar_test:\n",
    "        images = images.to(device)\n",
    "        labels = labels.to(device)\n",
    "        outputs = mobilenet_v3(images)\n",
    "        loss = criterion(outputs, labels)\n",
    "        test_loss += loss.item() * images.size(0)\n",
    "        _, predicted = outputs.max(1)\n",
    "        test_total += labels.size(0)\n",
    "        test_correct += predicted.eq(labels).sum().item()\n",
    "        current_test_loss = test_loss / test_total if test_total > 0 else 0\n",
    "        current_test_acc = test_correct / test_total * 100 if test_total > 0 else 0\n",
    "        pbar_test.set_postfix({'loss': f'{current_test_loss:.4f}', 'acc': f'{current_test_acc:.2f}%'})"
   ]
  },
  {
   "cell_type": "markdown",
   "id": "8dd3b4f5",
   "metadata": {},
   "source": [
    "## Signal"
   ]
  },
  {
   "cell_type": "code",
   "execution_count": 1,
   "id": "4a54cc1f",
   "metadata": {},
   "outputs": [
    {
     "name": "stderr",
     "output_type": "stream",
     "text": [
      "Epoch [1/10]: 100%|██████████| 247/247 [03:53<00:00,  1.06it/s, loss=1.08]\n",
      "테스트 진행중: 100%|██████████| 83/83 [01:14<00:00,  1.11it/s, acc=34.91%]\n"
     ]
    },
    {
     "name": "stdout",
     "output_type": "stream",
     "text": [
      "테스트 정확도: 34.91%\n"
     ]
    },
    {
     "name": "stderr",
     "output_type": "stream",
     "text": [
      "Epoch [2/10]:  48%|████▊     | 119/247 [01:03<01:08,  1.86it/s, loss=1.06]\n"
     ]
    },
    {
     "ename": "KeyboardInterrupt",
     "evalue": "",
     "output_type": "error",
     "traceback": [
      "\u001b[1;31m---------------------------------------------------------------------------\u001b[0m",
      "\u001b[1;31mKeyboardInterrupt\u001b[0m                         Traceback (most recent call last)",
      "Cell \u001b[1;32mIn[1], line 82\u001b[0m\n\u001b[0;32m     80\u001b[0m pbar \u001b[38;5;241m=\u001b[39m tqdm(train_dataloader)\n\u001b[0;32m     81\u001b[0m pbar\u001b[38;5;241m.\u001b[39mset_description(\u001b[38;5;124mf\u001b[39m\u001b[38;5;124m\"\u001b[39m\u001b[38;5;124mEpoch [\u001b[39m\u001b[38;5;132;01m{\u001b[39;00mepoch\u001b[38;5;241m+\u001b[39m\u001b[38;5;241m1\u001b[39m\u001b[38;5;132;01m}\u001b[39;00m\u001b[38;5;124m/\u001b[39m\u001b[38;5;132;01m{\u001b[39;00mnum_epochs\u001b[38;5;132;01m}\u001b[39;00m\u001b[38;5;124m]\u001b[39m\u001b[38;5;124m\"\u001b[39m)\n\u001b[1;32m---> 82\u001b[0m \u001b[38;5;28;01mfor\u001b[39;00m rrsp_bpm, kss_label, sample_path \u001b[38;5;129;01min\u001b[39;00m pbar:\n\u001b[0;32m     83\u001b[0m     \u001b[38;5;66;03m# nan이 포함된 배치는 건너뜀\u001b[39;00m\n\u001b[0;32m     85\u001b[0m     rrsp_bpm \u001b[38;5;241m=\u001b[39m rrsp_bpm\u001b[38;5;241m.\u001b[39mto(device, dtype\u001b[38;5;241m=\u001b[39mtorch\u001b[38;5;241m.\u001b[39mfloat32)\n\u001b[0;32m     86\u001b[0m     kss_label \u001b[38;5;241m=\u001b[39m kss_label\u001b[38;5;241m.\u001b[39mto(device)\n",
      "File \u001b[1;32mc:\\Users\\Genius Park\\AppData\\Local\\anaconda3\\envs\\cuda12_1\\lib\\site-packages\\tqdm\\std.py:1181\u001b[0m, in \u001b[0;36mtqdm.__iter__\u001b[1;34m(self)\u001b[0m\n\u001b[0;32m   1178\u001b[0m time \u001b[38;5;241m=\u001b[39m \u001b[38;5;28mself\u001b[39m\u001b[38;5;241m.\u001b[39m_time\n\u001b[0;32m   1180\u001b[0m \u001b[38;5;28;01mtry\u001b[39;00m:\n\u001b[1;32m-> 1181\u001b[0m     \u001b[38;5;28;01mfor\u001b[39;00m obj \u001b[38;5;129;01min\u001b[39;00m iterable:\n\u001b[0;32m   1182\u001b[0m         \u001b[38;5;28;01myield\u001b[39;00m obj\n\u001b[0;32m   1183\u001b[0m         \u001b[38;5;66;03m# Update and possibly print the progressbar.\u001b[39;00m\n\u001b[0;32m   1184\u001b[0m         \u001b[38;5;66;03m# Note: does not call self.update(1) for speed optimisation.\u001b[39;00m\n",
      "File \u001b[1;32mc:\\Users\\Genius Park\\AppData\\Local\\anaconda3\\envs\\cuda12_1\\lib\\site-packages\\torch\\utils\\data\\dataloader.py:630\u001b[0m, in \u001b[0;36m_BaseDataLoaderIter.__next__\u001b[1;34m(self)\u001b[0m\n\u001b[0;32m    627\u001b[0m \u001b[38;5;28;01mif\u001b[39;00m \u001b[38;5;28mself\u001b[39m\u001b[38;5;241m.\u001b[39m_sampler_iter \u001b[38;5;129;01mis\u001b[39;00m \u001b[38;5;28;01mNone\u001b[39;00m:\n\u001b[0;32m    628\u001b[0m     \u001b[38;5;66;03m# TODO(https://github.com/pytorch/pytorch/issues/76750)\u001b[39;00m\n\u001b[0;32m    629\u001b[0m     \u001b[38;5;28mself\u001b[39m\u001b[38;5;241m.\u001b[39m_reset()  \u001b[38;5;66;03m# type: ignore[call-arg]\u001b[39;00m\n\u001b[1;32m--> 630\u001b[0m data \u001b[38;5;241m=\u001b[39m \u001b[38;5;28;43mself\u001b[39;49m\u001b[38;5;241;43m.\u001b[39;49m\u001b[43m_next_data\u001b[49m\u001b[43m(\u001b[49m\u001b[43m)\u001b[49m\n\u001b[0;32m    631\u001b[0m \u001b[38;5;28mself\u001b[39m\u001b[38;5;241m.\u001b[39m_num_yielded \u001b[38;5;241m+\u001b[39m\u001b[38;5;241m=\u001b[39m \u001b[38;5;241m1\u001b[39m\n\u001b[0;32m    632\u001b[0m \u001b[38;5;28;01mif\u001b[39;00m \u001b[38;5;28mself\u001b[39m\u001b[38;5;241m.\u001b[39m_dataset_kind \u001b[38;5;241m==\u001b[39m _DatasetKind\u001b[38;5;241m.\u001b[39mIterable \u001b[38;5;129;01mand\u001b[39;00m \\\n\u001b[0;32m    633\u001b[0m         \u001b[38;5;28mself\u001b[39m\u001b[38;5;241m.\u001b[39m_IterableDataset_len_called \u001b[38;5;129;01mis\u001b[39;00m \u001b[38;5;129;01mnot\u001b[39;00m \u001b[38;5;28;01mNone\u001b[39;00m \u001b[38;5;129;01mand\u001b[39;00m \\\n\u001b[0;32m    634\u001b[0m         \u001b[38;5;28mself\u001b[39m\u001b[38;5;241m.\u001b[39m_num_yielded \u001b[38;5;241m>\u001b[39m \u001b[38;5;28mself\u001b[39m\u001b[38;5;241m.\u001b[39m_IterableDataset_len_called:\n",
      "File \u001b[1;32mc:\\Users\\Genius Park\\AppData\\Local\\anaconda3\\envs\\cuda12_1\\lib\\site-packages\\torch\\utils\\data\\dataloader.py:673\u001b[0m, in \u001b[0;36m_SingleProcessDataLoaderIter._next_data\u001b[1;34m(self)\u001b[0m\n\u001b[0;32m    671\u001b[0m \u001b[38;5;28;01mdef\u001b[39;00m \u001b[38;5;21m_next_data\u001b[39m(\u001b[38;5;28mself\u001b[39m):\n\u001b[0;32m    672\u001b[0m     index \u001b[38;5;241m=\u001b[39m \u001b[38;5;28mself\u001b[39m\u001b[38;5;241m.\u001b[39m_next_index()  \u001b[38;5;66;03m# may raise StopIteration\u001b[39;00m\n\u001b[1;32m--> 673\u001b[0m     data \u001b[38;5;241m=\u001b[39m \u001b[38;5;28;43mself\u001b[39;49m\u001b[38;5;241;43m.\u001b[39;49m\u001b[43m_dataset_fetcher\u001b[49m\u001b[38;5;241;43m.\u001b[39;49m\u001b[43mfetch\u001b[49m\u001b[43m(\u001b[49m\u001b[43mindex\u001b[49m\u001b[43m)\u001b[49m  \u001b[38;5;66;03m# may raise StopIteration\u001b[39;00m\n\u001b[0;32m    674\u001b[0m     \u001b[38;5;28;01mif\u001b[39;00m \u001b[38;5;28mself\u001b[39m\u001b[38;5;241m.\u001b[39m_pin_memory:\n\u001b[0;32m    675\u001b[0m         data \u001b[38;5;241m=\u001b[39m _utils\u001b[38;5;241m.\u001b[39mpin_memory\u001b[38;5;241m.\u001b[39mpin_memory(data, \u001b[38;5;28mself\u001b[39m\u001b[38;5;241m.\u001b[39m_pin_memory_device)\n",
      "File \u001b[1;32mc:\\Users\\Genius Park\\AppData\\Local\\anaconda3\\envs\\cuda12_1\\lib\\site-packages\\torch\\utils\\data\\_utils\\fetch.py:52\u001b[0m, in \u001b[0;36m_MapDatasetFetcher.fetch\u001b[1;34m(self, possibly_batched_index)\u001b[0m\n\u001b[0;32m     50\u001b[0m         data \u001b[38;5;241m=\u001b[39m \u001b[38;5;28mself\u001b[39m\u001b[38;5;241m.\u001b[39mdataset\u001b[38;5;241m.\u001b[39m__getitems__(possibly_batched_index)\n\u001b[0;32m     51\u001b[0m     \u001b[38;5;28;01melse\u001b[39;00m:\n\u001b[1;32m---> 52\u001b[0m         data \u001b[38;5;241m=\u001b[39m [\u001b[38;5;28mself\u001b[39m\u001b[38;5;241m.\u001b[39mdataset[idx] \u001b[38;5;28;01mfor\u001b[39;00m idx \u001b[38;5;129;01min\u001b[39;00m possibly_batched_index]\n\u001b[0;32m     53\u001b[0m \u001b[38;5;28;01melse\u001b[39;00m:\n\u001b[0;32m     54\u001b[0m     data \u001b[38;5;241m=\u001b[39m \u001b[38;5;28mself\u001b[39m\u001b[38;5;241m.\u001b[39mdataset[possibly_batched_index]\n",
      "File \u001b[1;32mc:\\Users\\Genius Park\\AppData\\Local\\anaconda3\\envs\\cuda12_1\\lib\\site-packages\\torch\\utils\\data\\_utils\\fetch.py:52\u001b[0m, in \u001b[0;36m<listcomp>\u001b[1;34m(.0)\u001b[0m\n\u001b[0;32m     50\u001b[0m         data \u001b[38;5;241m=\u001b[39m \u001b[38;5;28mself\u001b[39m\u001b[38;5;241m.\u001b[39mdataset\u001b[38;5;241m.\u001b[39m__getitems__(possibly_batched_index)\n\u001b[0;32m     51\u001b[0m     \u001b[38;5;28;01melse\u001b[39;00m:\n\u001b[1;32m---> 52\u001b[0m         data \u001b[38;5;241m=\u001b[39m [\u001b[38;5;28;43mself\u001b[39;49m\u001b[38;5;241;43m.\u001b[39;49m\u001b[43mdataset\u001b[49m\u001b[43m[\u001b[49m\u001b[43midx\u001b[49m\u001b[43m]\u001b[49m \u001b[38;5;28;01mfor\u001b[39;00m idx \u001b[38;5;129;01min\u001b[39;00m possibly_batched_index]\n\u001b[0;32m     53\u001b[0m \u001b[38;5;28;01melse\u001b[39;00m:\n\u001b[0;32m     54\u001b[0m     data \u001b[38;5;241m=\u001b[39m \u001b[38;5;28mself\u001b[39m\u001b[38;5;241m.\u001b[39mdataset[possibly_batched_index]\n",
      "File \u001b[1;32mc:\\Users\\Genius Park\\Desktop\\work\\2025_Summer_Study\\rrsp_drozy\\datatset.py:240\u001b[0m, in \u001b[0;36mDROZY_EYELANDMARK_Dataset.__getitem__\u001b[1;34m(self, idx)\u001b[0m\n\u001b[0;32m    237\u001b[0m df \u001b[38;5;241m=\u001b[39m pd\u001b[38;5;241m.\u001b[39mread_csv(sample_path)\n\u001b[0;32m    239\u001b[0m landmark_cols \u001b[38;5;241m=\u001b[39m [col \u001b[38;5;28;01mfor\u001b[39;00m col \u001b[38;5;129;01min\u001b[39;00m df\u001b[38;5;241m.\u001b[39mcolumns \u001b[38;5;28;01mif\u001b[39;00m \u001b[38;5;124m\"\u001b[39m\u001b[38;5;124mlandmark_\u001b[39m\u001b[38;5;124m\"\u001b[39m \u001b[38;5;129;01min\u001b[39;00m col]\n\u001b[1;32m--> 240\u001b[0m landmark_array \u001b[38;5;241m=\u001b[39m \u001b[43mnp\u001b[49m\u001b[38;5;241;43m.\u001b[39;49m\u001b[43marray\u001b[49m\u001b[43m(\u001b[49m\u001b[43mdf\u001b[49m\u001b[43m[\u001b[49m\u001b[43mlandmark_cols\u001b[49m\u001b[43m]\u001b[49m\u001b[38;5;241;43m.\u001b[39;49m\u001b[43mvalues\u001b[49m\u001b[43m,\u001b[49m\u001b[43m \u001b[49m\u001b[43mdtype\u001b[49m\u001b[38;5;241;43m=\u001b[39;49m\u001b[43mnp\u001b[49m\u001b[38;5;241;43m.\u001b[39;49m\u001b[43mfloat32\u001b[49m\u001b[43m)\u001b[49m\n\u001b[0;32m    241\u001b[0m \u001b[38;5;66;03m######### 학 체크\u001b[39;00m\n\u001b[0;32m    242\u001b[0m \u001b[38;5;28;01mif\u001b[39;00m landmark_array\u001b[38;5;241m.\u001b[39msize \u001b[38;5;241m==\u001b[39m \u001b[38;5;241m0\u001b[39m:\n",
      "\u001b[1;31mKeyboardInterrupt\u001b[0m: "
     ]
    }
   ],
   "source": [
    "from datatset import DROZY_EYELANDMARK_Dataset\n",
    "from torch.utils.data import DataLoader\n",
    "from tqdm import tqdm\n",
    "\n",
    "train_dataset = DROZY_EYELANDMARK_Dataset(split_dir=\"./DROZY/gaeMuRan/split_eye_landmark/train\")\n",
    "test_dataset = DROZY_EYELANDMARK_Dataset(split_dir=\"./DROZY/gaeMuRan/split_eye_landmark/test\")\n",
    "\n",
    "train_dataloader = DataLoader(train_dataset, batch_size=64, shuffle=True, pin_memory=True)\n",
    "test_dataloader = DataLoader(test_dataset, batch_size=64, shuffle=False, pin_memory=True)\n",
    "\n",
    "import torch\n",
    "import torch.nn as nn\n",
    "import torch.optim as optim\n",
    "from importlib import import_module\n",
    "\n",
    "ResNet1D = getattr(import_module(\"1dresnet\"), \"ResNet1D\")\n",
    "def check_batch(rrsp_bpm, kss_label, sample_path):\n",
    "    # sample_path는 rrsp_bpm, kss_label과 순서가 대응되는 path의 리스트임\n",
    "    if not torch.isfinite(rrsp_bpm).all():\n",
    "        idxs = (~torch.isfinite(rrsp_bpm)).any(dim=1) if rrsp_bpm.dim() > 1 else ~torch.isfinite(rrsp_bpm)\n",
    "        for i in torch.where(idxs)[0]:\n",
    "            print(f\"[!] rrsp_bpm 이상치 있음 - sample_path: {sample_path[i]}\")\n",
    "    if not torch.isfinite(kss_label).all():\n",
    "        idxs = ~torch.isfinite(kss_label)\n",
    "        for i in torch.where(idxs)[0]:\n",
    "            print(f\"[!] label 이상치 있음 - sample_path: {sample_path[i]}\")\n",
    "# rrsp_bpm의 shape: (batch, 96, 600)z\n",
    "# 96: feature 개수, 600: 프레임 개수\n",
    "# Conv1d의 in_channels=feature 개수(96), seq_len=600\n",
    "class RRSP_1DCNN(nn.Module):\n",
    "    def __init__(self, num_classes=3, input_size=150):\n",
    "        super(RRSP_1DCNN, self).__init__()\n",
    "        # 입력: (batch, 96, 600)\n",
    "        # Conv1d 입력: (batch, in_channels=96, seq_len=600)\n",
    "        self.conv1 = nn.Conv1d(in_channels=input_size, out_channels=128, kernel_size=7, padding=3)\n",
    "        self.bn1 = nn.BatchNorm1d(128)\n",
    "        self.relu1 = nn.ReLU()\n",
    "        self.conv2 = nn.Conv1d(in_channels=128, out_channels=256, kernel_size=5, padding=2)\n",
    "        self.bn2 = nn.BatchNorm1d(256)\n",
    "        self.relu2 = nn.ReLU()\n",
    "        self.conv3 = nn.Conv1d(in_channels=256, out_channels=128, kernel_size=3, padding=1)\n",
    "        self.bn3 = nn.BatchNorm1d(128)\n",
    "        self.relu3 = nn.ReLU()\n",
    "        self.global_pool = nn.AdaptiveAvgPool1d(1)  # (batch, channel, 1)\n",
    "        self.fc = nn.Linear(128, num_classes)\n",
    "\n",
    "    def forward(self, x):\n",
    "        # x: (batch, 96, 600)\n",
    "        # 만약 x가 (batch, 96, 600)이 아니고 (batch, 600, 96)이면 permute 필요\n",
    "        if x.shape[1] != 96:\n",
    "            # (batch, 600, 96) -> (batch, 96, 600)\n",
    "            x = x.permute(0, 2, 1)\n",
    "        x = self.conv1(x)\n",
    "        x = self.bn1(x)\n",
    "        x = self.relu1(x)\n",
    "        x = self.conv2(x)\n",
    "        x = self.bn2(x)\n",
    "        x = self.relu2(x)\n",
    "        x = self.conv3(x)\n",
    "        x = self.bn3(x)\n",
    "        x = self.relu3(x)\n",
    "        x = self.global_pool(x)  # (batch, channel, 1)\n",
    "        x = x.squeeze(-1)        # (batch, channel)\n",
    "        x = self.fc(x)           # (batch, num_classes)\n",
    "        return x\n",
    "\n",
    "# 디바이스 설정\n",
    "device = torch.device(\"cuda\" if torch.cuda.is_available() else \"cpu\")\n",
    "model = RRSP_1DCNN(num_classes=3, input_size=150).to(device)\n",
    "model = model.float()\n",
    "\n",
    "criterion = nn.CrossEntropyLoss()\n",
    "optimizer = optim.Adam(model.parameters(), lr=1e-3)\n",
    "\n",
    "num_epochs = 10\n",
    "\n",
    "for epoch in range(num_epochs):\n",
    "    model.train()\n",
    "    loss_list = []\n",
    "    pbar = tqdm(train_dataloader)\n",
    "    pbar.set_description(f\"Epoch [{epoch+1}/{num_epochs}]\")\n",
    "    for rrsp_bpm, kss_label, sample_path in pbar:\n",
    "        # nan이 포함된 배치는 건너뜀\n",
    "\n",
    "        rrsp_bpm = rrsp_bpm.to(device, dtype=torch.float32)\n",
    "        kss_label = kss_label.to(device)\n",
    "        \n",
    "        optimizer.zero_grad()\n",
    "        outputs = model(rrsp_bpm)\n",
    "        loss = criterion(outputs, kss_label)\n",
    "        check_batch(rrsp_bpm, kss_label, sample_path)\n",
    "\n",
    "        loss.backward()\n",
    "        optimizer.step()\n",
    "        \n",
    "        loss_list.append(loss.item())\n",
    "        avg_loss = sum(loss_list) / len(loss_list)\n",
    "        pbar.set_postfix(loss=avg_loss)\n",
    "\n",
    "    # 검증\n",
    "    model.eval()\n",
    "    correct = 0\n",
    "    total = 0\n",
    "    with torch.no_grad():\n",
    "        pbar = tqdm(test_dataloader)\n",
    "        pbar.set_description(\"테스트 진행중\")\n",
    "        for rrsp_bpm, kss_label,sample_path in pbar:\n",
    "            rrsp_bpm = rrsp_bpm.to(device, dtype=torch.float32)\n",
    "            kss_label = kss_label.to(device)\n",
    "            outputs = model(rrsp_bpm)\n",
    "            check_batch(rrsp_bpm, kss_label, sample_path)\n",
    "\n",
    "            _, predicted = torch.max(outputs, 1)\n",
    "            total += kss_label.size(0)\n",
    "            correct += (predicted == kss_label).sum().item()\n",
    "            acc = correct / total * 100\n",
    "            pbar.set_postfix(acc=f\"{acc:.2f}%\")\n",
    "    print(f\"테스트 정확도: {acc:.2f}%\")\n"
   ]
  },
  {
   "cell_type": "code",
   "execution_count": null,
   "id": "f0166d22",
   "metadata": {},
   "outputs": [
    {
     "name": "stderr",
     "output_type": "stream",
     "text": [
      "100%|██████████| 13754/13754 [12:27<00:00, 18.40it/s]"
     ]
    },
    {
     "name": "stdout",
     "output_type": "stream",
     "text": [
      "총 0개의 문제 있는 샘플 발견:\n"
     ]
    },
    {
     "name": "stderr",
     "output_type": "stream",
     "text": [
      "\n"
     ]
    }
   ],
   "source": [
    "from torch.utils.data import DataLoader\n",
    "from tqdm import trange\n",
    "from datatset import DROZY_EYELANDMARK_Dataset\n",
    "train_dataset = DROZY_EYELANDMARK_Dataset(split_dir=\"G:/DROZY_signals/split_eye_landmark/train\")\n",
    "test_dataset = DROZY_EYELANDMARK_Dataset(split_dir=\"G:/DROZY_signals/split_eye_landmark/test\")\n",
    "\n",
    "bad_indices = []\n",
    "for i in trange(len(train_dataset)):\n",
    "    try:\n",
    "        rrsp_bpm, kss_label = train_dataset[i]\n",
    "        if rrsp_bpm.numel() == 0 or kss_label.numel() == 0:\n",
    "            print(f\"문제 있는 샘플 발견: {i}\")\n",
    "            bad_indices.append((i, rrsp_bpm.shape, kss_label.shape))\n",
    "    except Exception as e:\n",
    "        bad_indices.append((i, \"Exception\", str(e)))\n",
    "\n",
    "print(f\"총 {len(bad_indices)}개의 문제 있는 샘플 발견:\")\n",
    "for idx, rrsp_shape, kss_shape in bad_indices:\n",
    "    print(f\"  - Index {idx}: rrsp_bpm shape = {rrsp_shape}, kss_label shape = {kss_shape}\")\n"
   ]
  },
  {
   "cell_type": "code",
   "execution_count": null,
   "id": "8dc26f6e",
   "metadata": {},
   "outputs": [
    {
     "name": "stderr",
     "output_type": "stream",
     "text": [
      "테스트 진행중:   4%|▎         | 8/216 [00:23<10:11,  2.94s/it, acc=30.66%]\n"
     ]
    },
    {
     "ename": "KeyboardInterrupt",
     "evalue": "",
     "output_type": "error",
     "traceback": [
      "\u001b[1;31m---------------------------------------------------------------------------\u001b[0m",
      "\u001b[1;31mKeyboardInterrupt\u001b[0m                         Traceback (most recent call last)",
      "Cell \u001b[1;32mIn[10], line 7\u001b[0m\n\u001b[0;32m      5\u001b[0m pbar \u001b[38;5;241m=\u001b[39m tqdm(train_dataloader)\n\u001b[0;32m      6\u001b[0m pbar\u001b[38;5;241m.\u001b[39mset_description(\u001b[38;5;124m\"\u001b[39m\u001b[38;5;124m테스트 진행중\u001b[39m\u001b[38;5;124m\"\u001b[39m)\n\u001b[1;32m----> 7\u001b[0m \u001b[38;5;28;01mfor\u001b[39;00m rrsp_bpm, kss_label \u001b[38;5;129;01min\u001b[39;00m pbar:\n\u001b[0;32m      8\u001b[0m     \u001b[38;5;66;03m# 텐서에 nan이 포함되어 있으면 해당 배치는 건너뜀\u001b[39;00m\n\u001b[0;32m      9\u001b[0m     \u001b[38;5;66;03m# if torch.isnan(rrsp_bpm).any() or torch.isnan(kss_label).any():\u001b[39;00m\n\u001b[0;32m     10\u001b[0m     \u001b[38;5;66;03m#     continue\u001b[39;00m\n\u001b[0;32m     11\u001b[0m     rrsp_bpm \u001b[38;5;241m=\u001b[39m rrsp_bpm\u001b[38;5;241m.\u001b[39mto(device, dtype\u001b[38;5;241m=\u001b[39mtorch\u001b[38;5;241m.\u001b[39mfloat32)\n\u001b[0;32m     12\u001b[0m     kss_label \u001b[38;5;241m=\u001b[39m kss_label\u001b[38;5;241m.\u001b[39mto(device)\n",
      "File \u001b[1;32mc:\\Users\\Genius Park\\AppData\\Local\\anaconda3\\envs\\cuda12_1\\lib\\site-packages\\tqdm\\std.py:1181\u001b[0m, in \u001b[0;36mtqdm.__iter__\u001b[1;34m(self)\u001b[0m\n\u001b[0;32m   1178\u001b[0m time \u001b[38;5;241m=\u001b[39m \u001b[38;5;28mself\u001b[39m\u001b[38;5;241m.\u001b[39m_time\n\u001b[0;32m   1180\u001b[0m \u001b[38;5;28;01mtry\u001b[39;00m:\n\u001b[1;32m-> 1181\u001b[0m     \u001b[38;5;28;01mfor\u001b[39;00m obj \u001b[38;5;129;01min\u001b[39;00m iterable:\n\u001b[0;32m   1182\u001b[0m         \u001b[38;5;28;01myield\u001b[39;00m obj\n\u001b[0;32m   1183\u001b[0m         \u001b[38;5;66;03m# Update and possibly print the progressbar.\u001b[39;00m\n\u001b[0;32m   1184\u001b[0m         \u001b[38;5;66;03m# Note: does not call self.update(1) for speed optimisation.\u001b[39;00m\n",
      "File \u001b[1;32mc:\\Users\\Genius Park\\AppData\\Local\\anaconda3\\envs\\cuda12_1\\lib\\site-packages\\torch\\utils\\data\\dataloader.py:630\u001b[0m, in \u001b[0;36m_BaseDataLoaderIter.__next__\u001b[1;34m(self)\u001b[0m\n\u001b[0;32m    627\u001b[0m \u001b[38;5;28;01mif\u001b[39;00m \u001b[38;5;28mself\u001b[39m\u001b[38;5;241m.\u001b[39m_sampler_iter \u001b[38;5;129;01mis\u001b[39;00m \u001b[38;5;28;01mNone\u001b[39;00m:\n\u001b[0;32m    628\u001b[0m     \u001b[38;5;66;03m# TODO(https://github.com/pytorch/pytorch/issues/76750)\u001b[39;00m\n\u001b[0;32m    629\u001b[0m     \u001b[38;5;28mself\u001b[39m\u001b[38;5;241m.\u001b[39m_reset()  \u001b[38;5;66;03m# type: ignore[call-arg]\u001b[39;00m\n\u001b[1;32m--> 630\u001b[0m data \u001b[38;5;241m=\u001b[39m \u001b[38;5;28;43mself\u001b[39;49m\u001b[38;5;241;43m.\u001b[39;49m\u001b[43m_next_data\u001b[49m\u001b[43m(\u001b[49m\u001b[43m)\u001b[49m\n\u001b[0;32m    631\u001b[0m \u001b[38;5;28mself\u001b[39m\u001b[38;5;241m.\u001b[39m_num_yielded \u001b[38;5;241m+\u001b[39m\u001b[38;5;241m=\u001b[39m \u001b[38;5;241m1\u001b[39m\n\u001b[0;32m    632\u001b[0m \u001b[38;5;28;01mif\u001b[39;00m \u001b[38;5;28mself\u001b[39m\u001b[38;5;241m.\u001b[39m_dataset_kind \u001b[38;5;241m==\u001b[39m _DatasetKind\u001b[38;5;241m.\u001b[39mIterable \u001b[38;5;129;01mand\u001b[39;00m \\\n\u001b[0;32m    633\u001b[0m         \u001b[38;5;28mself\u001b[39m\u001b[38;5;241m.\u001b[39m_IterableDataset_len_called \u001b[38;5;129;01mis\u001b[39;00m \u001b[38;5;129;01mnot\u001b[39;00m \u001b[38;5;28;01mNone\u001b[39;00m \u001b[38;5;129;01mand\u001b[39;00m \\\n\u001b[0;32m    634\u001b[0m         \u001b[38;5;28mself\u001b[39m\u001b[38;5;241m.\u001b[39m_num_yielded \u001b[38;5;241m>\u001b[39m \u001b[38;5;28mself\u001b[39m\u001b[38;5;241m.\u001b[39m_IterableDataset_len_called:\n",
      "File \u001b[1;32mc:\\Users\\Genius Park\\AppData\\Local\\anaconda3\\envs\\cuda12_1\\lib\\site-packages\\torch\\utils\\data\\dataloader.py:673\u001b[0m, in \u001b[0;36m_SingleProcessDataLoaderIter._next_data\u001b[1;34m(self)\u001b[0m\n\u001b[0;32m    671\u001b[0m \u001b[38;5;28;01mdef\u001b[39;00m \u001b[38;5;21m_next_data\u001b[39m(\u001b[38;5;28mself\u001b[39m):\n\u001b[0;32m    672\u001b[0m     index \u001b[38;5;241m=\u001b[39m \u001b[38;5;28mself\u001b[39m\u001b[38;5;241m.\u001b[39m_next_index()  \u001b[38;5;66;03m# may raise StopIteration\u001b[39;00m\n\u001b[1;32m--> 673\u001b[0m     data \u001b[38;5;241m=\u001b[39m \u001b[38;5;28;43mself\u001b[39;49m\u001b[38;5;241;43m.\u001b[39;49m\u001b[43m_dataset_fetcher\u001b[49m\u001b[38;5;241;43m.\u001b[39;49m\u001b[43mfetch\u001b[49m\u001b[43m(\u001b[49m\u001b[43mindex\u001b[49m\u001b[43m)\u001b[49m  \u001b[38;5;66;03m# may raise StopIteration\u001b[39;00m\n\u001b[0;32m    674\u001b[0m     \u001b[38;5;28;01mif\u001b[39;00m \u001b[38;5;28mself\u001b[39m\u001b[38;5;241m.\u001b[39m_pin_memory:\n\u001b[0;32m    675\u001b[0m         data \u001b[38;5;241m=\u001b[39m _utils\u001b[38;5;241m.\u001b[39mpin_memory\u001b[38;5;241m.\u001b[39mpin_memory(data, \u001b[38;5;28mself\u001b[39m\u001b[38;5;241m.\u001b[39m_pin_memory_device)\n",
      "File \u001b[1;32mc:\\Users\\Genius Park\\AppData\\Local\\anaconda3\\envs\\cuda12_1\\lib\\site-packages\\torch\\utils\\data\\_utils\\fetch.py:52\u001b[0m, in \u001b[0;36m_MapDatasetFetcher.fetch\u001b[1;34m(self, possibly_batched_index)\u001b[0m\n\u001b[0;32m     50\u001b[0m         data \u001b[38;5;241m=\u001b[39m \u001b[38;5;28mself\u001b[39m\u001b[38;5;241m.\u001b[39mdataset\u001b[38;5;241m.\u001b[39m__getitems__(possibly_batched_index)\n\u001b[0;32m     51\u001b[0m     \u001b[38;5;28;01melse\u001b[39;00m:\n\u001b[1;32m---> 52\u001b[0m         data \u001b[38;5;241m=\u001b[39m [\u001b[38;5;28mself\u001b[39m\u001b[38;5;241m.\u001b[39mdataset[idx] \u001b[38;5;28;01mfor\u001b[39;00m idx \u001b[38;5;129;01min\u001b[39;00m possibly_batched_index]\n\u001b[0;32m     53\u001b[0m \u001b[38;5;28;01melse\u001b[39;00m:\n\u001b[0;32m     54\u001b[0m     data \u001b[38;5;241m=\u001b[39m \u001b[38;5;28mself\u001b[39m\u001b[38;5;241m.\u001b[39mdataset[possibly_batched_index]\n",
      "File \u001b[1;32mc:\\Users\\Genius Park\\AppData\\Local\\anaconda3\\envs\\cuda12_1\\lib\\site-packages\\torch\\utils\\data\\_utils\\fetch.py:52\u001b[0m, in \u001b[0;36m<listcomp>\u001b[1;34m(.0)\u001b[0m\n\u001b[0;32m     50\u001b[0m         data \u001b[38;5;241m=\u001b[39m \u001b[38;5;28mself\u001b[39m\u001b[38;5;241m.\u001b[39mdataset\u001b[38;5;241m.\u001b[39m__getitems__(possibly_batched_index)\n\u001b[0;32m     51\u001b[0m     \u001b[38;5;28;01melse\u001b[39;00m:\n\u001b[1;32m---> 52\u001b[0m         data \u001b[38;5;241m=\u001b[39m [\u001b[38;5;28;43mself\u001b[39;49m\u001b[38;5;241;43m.\u001b[39;49m\u001b[43mdataset\u001b[49m\u001b[43m[\u001b[49m\u001b[43midx\u001b[49m\u001b[43m]\u001b[49m \u001b[38;5;28;01mfor\u001b[39;00m idx \u001b[38;5;129;01min\u001b[39;00m possibly_batched_index]\n\u001b[0;32m     53\u001b[0m \u001b[38;5;28;01melse\u001b[39;00m:\n\u001b[0;32m     54\u001b[0m     data \u001b[38;5;241m=\u001b[39m \u001b[38;5;28mself\u001b[39m\u001b[38;5;241m.\u001b[39mdataset[possibly_batched_index]\n",
      "File \u001b[1;32mc:\\Users\\Genius Park\\Desktop\\work\\2025_Summer_Study\\rrsp_drozy\\datatset.py:129\u001b[0m, in \u001b[0;36mDROZY_EYELANDMARK_Dataset.__getitem__\u001b[1;34m(self, idx)\u001b[0m\n\u001b[0;32m    126\u001b[0m sample_idx \u001b[38;5;241m=\u001b[39m sample_path\u001b[38;5;241m.\u001b[39msplit(\u001b[38;5;124m\"\u001b[39m\u001b[38;5;130;01m\\\\\u001b[39;00m\u001b[38;5;124m\"\u001b[39m)[\u001b[38;5;241m1\u001b[39m]\n\u001b[0;32m    127\u001b[0m kss_label \u001b[38;5;241m=\u001b[39m \u001b[38;5;28mself\u001b[39m\u001b[38;5;241m.\u001b[39mkss_dict[sample_idx]\n\u001b[1;32m--> 129\u001b[0m df \u001b[38;5;241m=\u001b[39m \u001b[43mpd\u001b[49m\u001b[38;5;241;43m.\u001b[39;49m\u001b[43mread_csv\u001b[49m\u001b[43m(\u001b[49m\u001b[43msample_path\u001b[49m\u001b[43m)\u001b[49m\n\u001b[0;32m    131\u001b[0m \u001b[38;5;66;03m# 랜드마크 인덱스별로 x, y 좌표 추출\u001b[39;00m\n\u001b[0;32m    132\u001b[0m \u001b[38;5;28;01mdef\u001b[39;00m \u001b[38;5;21mget_landmark_xy\u001b[39m(df, indices):\n",
      "File \u001b[1;32mc:\\Users\\Genius Park\\AppData\\Local\\anaconda3\\envs\\cuda12_1\\lib\\site-packages\\pandas\\io\\parsers\\readers.py:912\u001b[0m, in \u001b[0;36mread_csv\u001b[1;34m(filepath_or_buffer, sep, delimiter, header, names, index_col, usecols, dtype, engine, converters, true_values, false_values, skipinitialspace, skiprows, skipfooter, nrows, na_values, keep_default_na, na_filter, verbose, skip_blank_lines, parse_dates, infer_datetime_format, keep_date_col, date_parser, date_format, dayfirst, cache_dates, iterator, chunksize, compression, thousands, decimal, lineterminator, quotechar, quoting, doublequote, escapechar, comment, encoding, encoding_errors, dialect, on_bad_lines, delim_whitespace, low_memory, memory_map, float_precision, storage_options, dtype_backend)\u001b[0m\n\u001b[0;32m    899\u001b[0m kwds_defaults \u001b[38;5;241m=\u001b[39m _refine_defaults_read(\n\u001b[0;32m    900\u001b[0m     dialect,\n\u001b[0;32m    901\u001b[0m     delimiter,\n\u001b[1;32m   (...)\u001b[0m\n\u001b[0;32m    908\u001b[0m     dtype_backend\u001b[38;5;241m=\u001b[39mdtype_backend,\n\u001b[0;32m    909\u001b[0m )\n\u001b[0;32m    910\u001b[0m kwds\u001b[38;5;241m.\u001b[39mupdate(kwds_defaults)\n\u001b[1;32m--> 912\u001b[0m \u001b[38;5;28;01mreturn\u001b[39;00m \u001b[43m_read\u001b[49m\u001b[43m(\u001b[49m\u001b[43mfilepath_or_buffer\u001b[49m\u001b[43m,\u001b[49m\u001b[43m \u001b[49m\u001b[43mkwds\u001b[49m\u001b[43m)\u001b[49m\n",
      "File \u001b[1;32mc:\\Users\\Genius Park\\AppData\\Local\\anaconda3\\envs\\cuda12_1\\lib\\site-packages\\pandas\\io\\parsers\\readers.py:583\u001b[0m, in \u001b[0;36m_read\u001b[1;34m(filepath_or_buffer, kwds)\u001b[0m\n\u001b[0;32m    580\u001b[0m     \u001b[38;5;28;01mreturn\u001b[39;00m parser\n\u001b[0;32m    582\u001b[0m \u001b[38;5;28;01mwith\u001b[39;00m parser:\n\u001b[1;32m--> 583\u001b[0m     \u001b[38;5;28;01mreturn\u001b[39;00m \u001b[43mparser\u001b[49m\u001b[38;5;241;43m.\u001b[39;49m\u001b[43mread\u001b[49m\u001b[43m(\u001b[49m\u001b[43mnrows\u001b[49m\u001b[43m)\u001b[49m\n",
      "File \u001b[1;32mc:\\Users\\Genius Park\\AppData\\Local\\anaconda3\\envs\\cuda12_1\\lib\\site-packages\\pandas\\io\\parsers\\readers.py:1704\u001b[0m, in \u001b[0;36mTextFileReader.read\u001b[1;34m(self, nrows)\u001b[0m\n\u001b[0;32m   1697\u001b[0m nrows \u001b[38;5;241m=\u001b[39m validate_integer(\u001b[38;5;124m\"\u001b[39m\u001b[38;5;124mnrows\u001b[39m\u001b[38;5;124m\"\u001b[39m, nrows)\n\u001b[0;32m   1698\u001b[0m \u001b[38;5;28;01mtry\u001b[39;00m:\n\u001b[0;32m   1699\u001b[0m     \u001b[38;5;66;03m# error: \"ParserBase\" has no attribute \"read\"\u001b[39;00m\n\u001b[0;32m   1700\u001b[0m     (\n\u001b[0;32m   1701\u001b[0m         index,\n\u001b[0;32m   1702\u001b[0m         columns,\n\u001b[0;32m   1703\u001b[0m         col_dict,\n\u001b[1;32m-> 1704\u001b[0m     ) \u001b[38;5;241m=\u001b[39m \u001b[38;5;28;43mself\u001b[39;49m\u001b[38;5;241;43m.\u001b[39;49m\u001b[43m_engine\u001b[49m\u001b[38;5;241;43m.\u001b[39;49m\u001b[43mread\u001b[49m\u001b[43m(\u001b[49m\u001b[43m  \u001b[49m\u001b[38;5;66;43;03m# type: ignore[attr-defined]\u001b[39;49;00m\n\u001b[0;32m   1705\u001b[0m \u001b[43m        \u001b[49m\u001b[43mnrows\u001b[49m\n\u001b[0;32m   1706\u001b[0m \u001b[43m    \u001b[49m\u001b[43m)\u001b[49m\n\u001b[0;32m   1707\u001b[0m \u001b[38;5;28;01mexcept\u001b[39;00m \u001b[38;5;167;01mException\u001b[39;00m:\n\u001b[0;32m   1708\u001b[0m     \u001b[38;5;28mself\u001b[39m\u001b[38;5;241m.\u001b[39mclose()\n",
      "File \u001b[1;32mc:\\Users\\Genius Park\\AppData\\Local\\anaconda3\\envs\\cuda12_1\\lib\\site-packages\\pandas\\io\\parsers\\c_parser_wrapper.py:234\u001b[0m, in \u001b[0;36mCParserWrapper.read\u001b[1;34m(self, nrows)\u001b[0m\n\u001b[0;32m    232\u001b[0m \u001b[38;5;28;01mtry\u001b[39;00m:\n\u001b[0;32m    233\u001b[0m     \u001b[38;5;28;01mif\u001b[39;00m \u001b[38;5;28mself\u001b[39m\u001b[38;5;241m.\u001b[39mlow_memory:\n\u001b[1;32m--> 234\u001b[0m         chunks \u001b[38;5;241m=\u001b[39m \u001b[38;5;28;43mself\u001b[39;49m\u001b[38;5;241;43m.\u001b[39;49m\u001b[43m_reader\u001b[49m\u001b[38;5;241;43m.\u001b[39;49m\u001b[43mread_low_memory\u001b[49m\u001b[43m(\u001b[49m\u001b[43mnrows\u001b[49m\u001b[43m)\u001b[49m\n\u001b[0;32m    235\u001b[0m         \u001b[38;5;66;03m# destructive to chunks\u001b[39;00m\n\u001b[0;32m    236\u001b[0m         data \u001b[38;5;241m=\u001b[39m _concatenate_chunks(chunks)\n",
      "File \u001b[1;32mc:\\Users\\Genius Park\\AppData\\Local\\anaconda3\\envs\\cuda12_1\\lib\\site-packages\\pandas\\_libs\\parsers.pyx:814\u001b[0m, in \u001b[0;36mpandas._libs.parsers.TextReader.read_low_memory\u001b[1;34m()\u001b[0m\n",
      "File \u001b[1;32mc:\\Users\\Genius Park\\AppData\\Local\\anaconda3\\envs\\cuda12_1\\lib\\site-packages\\pandas\\_libs\\parsers.pyx:891\u001b[0m, in \u001b[0;36mpandas._libs.parsers.TextReader._read_rows\u001b[1;34m()\u001b[0m\n",
      "File \u001b[1;32mc:\\Users\\Genius Park\\AppData\\Local\\anaconda3\\envs\\cuda12_1\\lib\\site-packages\\pandas\\_libs\\parsers.pyx:1036\u001b[0m, in \u001b[0;36mpandas._libs.parsers.TextReader._convert_column_data\u001b[1;34m()\u001b[0m\n",
      "File \u001b[1;32mc:\\Users\\Genius Park\\AppData\\Local\\anaconda3\\envs\\cuda12_1\\lib\\site-packages\\pandas\\_libs\\parsers.pyx:1090\u001b[0m, in \u001b[0;36mpandas._libs.parsers.TextReader._convert_tokens\u001b[1;34m()\u001b[0m\n",
      "File \u001b[1;32mc:\\Users\\Genius Park\\AppData\\Local\\anaconda3\\envs\\cuda12_1\\lib\\site-packages\\pandas\\_libs\\parsers.pyx:1165\u001b[0m, in \u001b[0;36mpandas._libs.parsers.TextReader._convert_with_dtype\u001b[1;34m()\u001b[0m\n",
      "File \u001b[1;32mc:\\Users\\Genius Park\\AppData\\Local\\anaconda3\\envs\\cuda12_1\\lib\\site-packages\\pandas\\core\\dtypes\\common.py:1335\u001b[0m, in \u001b[0;36mis_extension_array_dtype\u001b[1;34m(arr_or_dtype)\u001b[0m\n\u001b[0;32m   1326\u001b[0m     \u001b[38;5;66;03m# Note: if other EA dtypes are ever held in HybridBlock, exclude those\u001b[39;00m\n\u001b[0;32m   1327\u001b[0m     \u001b[38;5;66;03m#  here too.\u001b[39;00m\n\u001b[0;32m   1328\u001b[0m     \u001b[38;5;66;03m# NB: need to check DatetimeTZDtype and not is_datetime64tz_dtype\u001b[39;00m\n\u001b[0;32m   1329\u001b[0m     \u001b[38;5;66;03m#  to exclude ArrowTimestampUSDtype\u001b[39;00m\n\u001b[0;32m   1330\u001b[0m     \u001b[38;5;28;01mreturn\u001b[39;00m \u001b[38;5;28misinstance\u001b[39m(dtype, ExtensionDtype) \u001b[38;5;129;01mand\u001b[39;00m \u001b[38;5;129;01mnot\u001b[39;00m \u001b[38;5;28misinstance\u001b[39m(\n\u001b[0;32m   1331\u001b[0m         dtype, (DatetimeTZDtype, PeriodDtype)\n\u001b[0;32m   1332\u001b[0m     )\n\u001b[1;32m-> 1335\u001b[0m \u001b[38;5;28;01mdef\u001b[39;00m \u001b[38;5;21mis_extension_array_dtype\u001b[39m(arr_or_dtype) \u001b[38;5;241m-\u001b[39m\u001b[38;5;241m>\u001b[39m \u001b[38;5;28mbool\u001b[39m:\n\u001b[0;32m   1336\u001b[0m \u001b[38;5;250m    \u001b[39m\u001b[38;5;124;03m\"\"\"\u001b[39;00m\n\u001b[0;32m   1337\u001b[0m \u001b[38;5;124;03m    Check if an object is a pandas extension array type.\u001b[39;00m\n\u001b[0;32m   1338\u001b[0m \n\u001b[1;32m   (...)\u001b[0m\n\u001b[0;32m   1378\u001b[0m \u001b[38;5;124;03m    False\u001b[39;00m\n\u001b[0;32m   1379\u001b[0m \u001b[38;5;124;03m    \"\"\"\u001b[39;00m\n\u001b[0;32m   1380\u001b[0m     dtype \u001b[38;5;241m=\u001b[39m \u001b[38;5;28mgetattr\u001b[39m(arr_or_dtype, \u001b[38;5;124m\"\u001b[39m\u001b[38;5;124mdtype\u001b[39m\u001b[38;5;124m\"\u001b[39m, arr_or_dtype)\n",
      "\u001b[1;31mKeyboardInterrupt\u001b[0m: "
     ]
    }
   ],
   "source": [
    "\n",
    "model.eval()\n",
    "correct = 0\n",
    "total = 0\n",
    "with torch.no_grad():\n",
    "    pbar = tqdm(train_dataloader)\n",
    "    pbar.set_description(\"테스트 진행중\")\n",
    "    for rrsp_bpm, kss_label in pbar:\n",
    "        # 텐서에 nan이 포함되어 있으면 해당 배치는 건너뜀\n",
    "        # if torch.isnan(rrsp_bpm).any() or torch.isnan(kss_label).any():\n",
    "        #     continue\n",
    "        rrsp_bpm = rrsp_bpm.to(device, dtype=torch.float32)\n",
    "        kss_label = kss_label.to(device)\n",
    "        outputs = model(rrsp_bpm)\n",
    "        # outputs에 nan이 포함되어 있으면 건너뜀\n",
    "        # if torch.isnan(outputs).any():\n",
    "        #     continue\n",
    "        _, predicted = torch.max(outputs, 1)\n",
    "        total += kss_label.size(0)\n",
    "        correct += (predicted == kss_label).sum().item()\n",
    "        acc = correct / total * 100\n",
    "        pbar.set_postfix(acc=f\"{acc:.2f}%\")"
   ]
  },
  {
   "cell_type": "code",
   "execution_count": null,
   "id": "bdb2ada9",
   "metadata": {},
   "outputs": [
    {
     "data": {
      "text/plain": [
       "29.83133061404476"
      ]
     },
     "execution_count": 9,
     "metadata": {},
     "output_type": "execute_result"
    }
   ],
   "source": [
    "acc"
   ]
  },
  {
   "cell_type": "code",
   "execution_count": null,
   "id": "58739cc1",
   "metadata": {},
   "outputs": [
    {
     "name": "stderr",
     "output_type": "stream",
     "text": [
      "  3%|▎         | 6/215 [00:28<16:41,  4.79s/it]\n"
     ]
    },
    {
     "ename": "KeyboardInterrupt",
     "evalue": "",
     "output_type": "error",
     "traceback": [
      "\u001b[1;31m---------------------------------------------------------------------------\u001b[0m",
      "\u001b[1;31mKeyboardInterrupt\u001b[0m                         Traceback (most recent call last)",
      "Cell \u001b[1;32mIn[6], line 11\u001b[0m\n\u001b[0;32m      8\u001b[0m train_dataloader \u001b[38;5;241m=\u001b[39m DataLoader(train_dataset, batch_size\u001b[38;5;241m=\u001b[39m\u001b[38;5;241m64\u001b[39m, shuffle\u001b[38;5;241m=\u001b[39m\u001b[38;5;28;01mFalse\u001b[39;00m, pin_memory\u001b[38;5;241m=\u001b[39m\u001b[38;5;28;01mTrue\u001b[39;00m)\n\u001b[0;32m      9\u001b[0m test_dataloader \u001b[38;5;241m=\u001b[39m DataLoader(test_dataset, batch_size\u001b[38;5;241m=\u001b[39m\u001b[38;5;241m64\u001b[39m, shuffle\u001b[38;5;241m=\u001b[39m\u001b[38;5;28;01mFalse\u001b[39;00m, pin_memory\u001b[38;5;241m=\u001b[39m\u001b[38;5;28;01mTrue\u001b[39;00m)\n\u001b[1;32m---> 11\u001b[0m \u001b[38;5;28;01mfor\u001b[39;00m data \u001b[38;5;129;01min\u001b[39;00m tqdm(train_dataloader):\n\u001b[0;32m     12\u001b[0m     \u001b[38;5;28;01mpass\u001b[39;00m  \u001b[38;5;66;03m# 모든 학습 데이터 순회\u001b[39;00m\n",
      "File \u001b[1;32mc:\\Users\\Genius Park\\AppData\\Local\\anaconda3\\envs\\cuda12_1\\lib\\site-packages\\tqdm\\std.py:1181\u001b[0m, in \u001b[0;36mtqdm.__iter__\u001b[1;34m(self)\u001b[0m\n\u001b[0;32m   1178\u001b[0m time \u001b[38;5;241m=\u001b[39m \u001b[38;5;28mself\u001b[39m\u001b[38;5;241m.\u001b[39m_time\n\u001b[0;32m   1180\u001b[0m \u001b[38;5;28;01mtry\u001b[39;00m:\n\u001b[1;32m-> 1181\u001b[0m     \u001b[38;5;28;01mfor\u001b[39;00m obj \u001b[38;5;129;01min\u001b[39;00m iterable:\n\u001b[0;32m   1182\u001b[0m         \u001b[38;5;28;01myield\u001b[39;00m obj\n\u001b[0;32m   1183\u001b[0m         \u001b[38;5;66;03m# Update and possibly print the progressbar.\u001b[39;00m\n\u001b[0;32m   1184\u001b[0m         \u001b[38;5;66;03m# Note: does not call self.update(1) for speed optimisation.\u001b[39;00m\n",
      "File \u001b[1;32mc:\\Users\\Genius Park\\AppData\\Local\\anaconda3\\envs\\cuda12_1\\lib\\site-packages\\torch\\utils\\data\\dataloader.py:630\u001b[0m, in \u001b[0;36m_BaseDataLoaderIter.__next__\u001b[1;34m(self)\u001b[0m\n\u001b[0;32m    627\u001b[0m \u001b[38;5;28;01mif\u001b[39;00m \u001b[38;5;28mself\u001b[39m\u001b[38;5;241m.\u001b[39m_sampler_iter \u001b[38;5;129;01mis\u001b[39;00m \u001b[38;5;28;01mNone\u001b[39;00m:\n\u001b[0;32m    628\u001b[0m     \u001b[38;5;66;03m# TODO(https://github.com/pytorch/pytorch/issues/76750)\u001b[39;00m\n\u001b[0;32m    629\u001b[0m     \u001b[38;5;28mself\u001b[39m\u001b[38;5;241m.\u001b[39m_reset()  \u001b[38;5;66;03m# type: ignore[call-arg]\u001b[39;00m\n\u001b[1;32m--> 630\u001b[0m data \u001b[38;5;241m=\u001b[39m \u001b[38;5;28;43mself\u001b[39;49m\u001b[38;5;241;43m.\u001b[39;49m\u001b[43m_next_data\u001b[49m\u001b[43m(\u001b[49m\u001b[43m)\u001b[49m\n\u001b[0;32m    631\u001b[0m \u001b[38;5;28mself\u001b[39m\u001b[38;5;241m.\u001b[39m_num_yielded \u001b[38;5;241m+\u001b[39m\u001b[38;5;241m=\u001b[39m \u001b[38;5;241m1\u001b[39m\n\u001b[0;32m    632\u001b[0m \u001b[38;5;28;01mif\u001b[39;00m \u001b[38;5;28mself\u001b[39m\u001b[38;5;241m.\u001b[39m_dataset_kind \u001b[38;5;241m==\u001b[39m _DatasetKind\u001b[38;5;241m.\u001b[39mIterable \u001b[38;5;129;01mand\u001b[39;00m \\\n\u001b[0;32m    633\u001b[0m         \u001b[38;5;28mself\u001b[39m\u001b[38;5;241m.\u001b[39m_IterableDataset_len_called \u001b[38;5;129;01mis\u001b[39;00m \u001b[38;5;129;01mnot\u001b[39;00m \u001b[38;5;28;01mNone\u001b[39;00m \u001b[38;5;129;01mand\u001b[39;00m \\\n\u001b[0;32m    634\u001b[0m         \u001b[38;5;28mself\u001b[39m\u001b[38;5;241m.\u001b[39m_num_yielded \u001b[38;5;241m>\u001b[39m \u001b[38;5;28mself\u001b[39m\u001b[38;5;241m.\u001b[39m_IterableDataset_len_called:\n",
      "File \u001b[1;32mc:\\Users\\Genius Park\\AppData\\Local\\anaconda3\\envs\\cuda12_1\\lib\\site-packages\\torch\\utils\\data\\dataloader.py:673\u001b[0m, in \u001b[0;36m_SingleProcessDataLoaderIter._next_data\u001b[1;34m(self)\u001b[0m\n\u001b[0;32m    671\u001b[0m \u001b[38;5;28;01mdef\u001b[39;00m \u001b[38;5;21m_next_data\u001b[39m(\u001b[38;5;28mself\u001b[39m):\n\u001b[0;32m    672\u001b[0m     index \u001b[38;5;241m=\u001b[39m \u001b[38;5;28mself\u001b[39m\u001b[38;5;241m.\u001b[39m_next_index()  \u001b[38;5;66;03m# may raise StopIteration\u001b[39;00m\n\u001b[1;32m--> 673\u001b[0m     data \u001b[38;5;241m=\u001b[39m \u001b[38;5;28;43mself\u001b[39;49m\u001b[38;5;241;43m.\u001b[39;49m\u001b[43m_dataset_fetcher\u001b[49m\u001b[38;5;241;43m.\u001b[39;49m\u001b[43mfetch\u001b[49m\u001b[43m(\u001b[49m\u001b[43mindex\u001b[49m\u001b[43m)\u001b[49m  \u001b[38;5;66;03m# may raise StopIteration\u001b[39;00m\n\u001b[0;32m    674\u001b[0m     \u001b[38;5;28;01mif\u001b[39;00m \u001b[38;5;28mself\u001b[39m\u001b[38;5;241m.\u001b[39m_pin_memory:\n\u001b[0;32m    675\u001b[0m         data \u001b[38;5;241m=\u001b[39m _utils\u001b[38;5;241m.\u001b[39mpin_memory\u001b[38;5;241m.\u001b[39mpin_memory(data, \u001b[38;5;28mself\u001b[39m\u001b[38;5;241m.\u001b[39m_pin_memory_device)\n",
      "File \u001b[1;32mc:\\Users\\Genius Park\\AppData\\Local\\anaconda3\\envs\\cuda12_1\\lib\\site-packages\\torch\\utils\\data\\_utils\\fetch.py:52\u001b[0m, in \u001b[0;36m_MapDatasetFetcher.fetch\u001b[1;34m(self, possibly_batched_index)\u001b[0m\n\u001b[0;32m     50\u001b[0m         data \u001b[38;5;241m=\u001b[39m \u001b[38;5;28mself\u001b[39m\u001b[38;5;241m.\u001b[39mdataset\u001b[38;5;241m.\u001b[39m__getitems__(possibly_batched_index)\n\u001b[0;32m     51\u001b[0m     \u001b[38;5;28;01melse\u001b[39;00m:\n\u001b[1;32m---> 52\u001b[0m         data \u001b[38;5;241m=\u001b[39m [\u001b[38;5;28mself\u001b[39m\u001b[38;5;241m.\u001b[39mdataset[idx] \u001b[38;5;28;01mfor\u001b[39;00m idx \u001b[38;5;129;01min\u001b[39;00m possibly_batched_index]\n\u001b[0;32m     53\u001b[0m \u001b[38;5;28;01melse\u001b[39;00m:\n\u001b[0;32m     54\u001b[0m     data \u001b[38;5;241m=\u001b[39m \u001b[38;5;28mself\u001b[39m\u001b[38;5;241m.\u001b[39mdataset[possibly_batched_index]\n",
      "File \u001b[1;32mc:\\Users\\Genius Park\\AppData\\Local\\anaconda3\\envs\\cuda12_1\\lib\\site-packages\\torch\\utils\\data\\_utils\\fetch.py:52\u001b[0m, in \u001b[0;36m<listcomp>\u001b[1;34m(.0)\u001b[0m\n\u001b[0;32m     50\u001b[0m         data \u001b[38;5;241m=\u001b[39m \u001b[38;5;28mself\u001b[39m\u001b[38;5;241m.\u001b[39mdataset\u001b[38;5;241m.\u001b[39m__getitems__(possibly_batched_index)\n\u001b[0;32m     51\u001b[0m     \u001b[38;5;28;01melse\u001b[39;00m:\n\u001b[1;32m---> 52\u001b[0m         data \u001b[38;5;241m=\u001b[39m [\u001b[38;5;28;43mself\u001b[39;49m\u001b[38;5;241;43m.\u001b[39;49m\u001b[43mdataset\u001b[49m\u001b[43m[\u001b[49m\u001b[43midx\u001b[49m\u001b[43m]\u001b[49m \u001b[38;5;28;01mfor\u001b[39;00m idx \u001b[38;5;129;01min\u001b[39;00m possibly_batched_index]\n\u001b[0;32m     53\u001b[0m \u001b[38;5;28;01melse\u001b[39;00m:\n\u001b[0;32m     54\u001b[0m     data \u001b[38;5;241m=\u001b[39m \u001b[38;5;28mself\u001b[39m\u001b[38;5;241m.\u001b[39mdataset[possibly_batched_index]\n",
      "File \u001b[1;32mc:\\Users\\Genius Park\\Desktop\\work\\2025_Summer_Study\\rrsp_drozy\\datatset.py:238\u001b[0m, in \u001b[0;36mDROZY_EYELANDMARK_Dataset.__getitem__\u001b[1;34m(self, idx)\u001b[0m\n\u001b[0;32m    234\u001b[0m sample_idx \u001b[38;5;241m=\u001b[39m sample_path\u001b[38;5;241m.\u001b[39msplit(\u001b[38;5;124m\"\u001b[39m\u001b[38;5;130;01m\\\\\u001b[39;00m\u001b[38;5;124m\"\u001b[39m)[\u001b[38;5;241m1\u001b[39m]\n\u001b[0;32m    236\u001b[0m kss_label \u001b[38;5;241m=\u001b[39m \u001b[38;5;28mself\u001b[39m\u001b[38;5;241m.\u001b[39mkss_dict[sample_idx]\n\u001b[1;32m--> 238\u001b[0m df \u001b[38;5;241m=\u001b[39m \u001b[43mpd\u001b[49m\u001b[38;5;241;43m.\u001b[39;49m\u001b[43mread_csv\u001b[49m\u001b[43m(\u001b[49m\u001b[43msample_path\u001b[49m\u001b[43m)\u001b[49m\n\u001b[0;32m    239\u001b[0m \u001b[38;5;28;01mif\u001b[39;00m \u001b[38;5;28mlen\u001b[39m(df) \u001b[38;5;241m<\u001b[39m\u001b[38;5;241m600\u001b[39m:\n\u001b[0;32m    240\u001b[0m     \u001b[38;5;28mprint\u001b[39m(\u001b[38;5;124mf\u001b[39m\u001b[38;5;124m'\u001b[39m\u001b[38;5;124m프레임 부족이라는데요? \u001b[39m\u001b[38;5;132;01m{\u001b[39;00msample_path\u001b[38;5;132;01m}\u001b[39;00m\u001b[38;5;124m'\u001b[39m)\n",
      "File \u001b[1;32mc:\\Users\\Genius Park\\AppData\\Local\\anaconda3\\envs\\cuda12_1\\lib\\site-packages\\pandas\\io\\parsers\\readers.py:912\u001b[0m, in \u001b[0;36mread_csv\u001b[1;34m(filepath_or_buffer, sep, delimiter, header, names, index_col, usecols, dtype, engine, converters, true_values, false_values, skipinitialspace, skiprows, skipfooter, nrows, na_values, keep_default_na, na_filter, verbose, skip_blank_lines, parse_dates, infer_datetime_format, keep_date_col, date_parser, date_format, dayfirst, cache_dates, iterator, chunksize, compression, thousands, decimal, lineterminator, quotechar, quoting, doublequote, escapechar, comment, encoding, encoding_errors, dialect, on_bad_lines, delim_whitespace, low_memory, memory_map, float_precision, storage_options, dtype_backend)\u001b[0m\n\u001b[0;32m    899\u001b[0m kwds_defaults \u001b[38;5;241m=\u001b[39m _refine_defaults_read(\n\u001b[0;32m    900\u001b[0m     dialect,\n\u001b[0;32m    901\u001b[0m     delimiter,\n\u001b[1;32m   (...)\u001b[0m\n\u001b[0;32m    908\u001b[0m     dtype_backend\u001b[38;5;241m=\u001b[39mdtype_backend,\n\u001b[0;32m    909\u001b[0m )\n\u001b[0;32m    910\u001b[0m kwds\u001b[38;5;241m.\u001b[39mupdate(kwds_defaults)\n\u001b[1;32m--> 912\u001b[0m \u001b[38;5;28;01mreturn\u001b[39;00m \u001b[43m_read\u001b[49m\u001b[43m(\u001b[49m\u001b[43mfilepath_or_buffer\u001b[49m\u001b[43m,\u001b[49m\u001b[43m \u001b[49m\u001b[43mkwds\u001b[49m\u001b[43m)\u001b[49m\n",
      "File \u001b[1;32mc:\\Users\\Genius Park\\AppData\\Local\\anaconda3\\envs\\cuda12_1\\lib\\site-packages\\pandas\\io\\parsers\\readers.py:577\u001b[0m, in \u001b[0;36m_read\u001b[1;34m(filepath_or_buffer, kwds)\u001b[0m\n\u001b[0;32m    574\u001b[0m _validate_names(kwds\u001b[38;5;241m.\u001b[39mget(\u001b[38;5;124m\"\u001b[39m\u001b[38;5;124mnames\u001b[39m\u001b[38;5;124m\"\u001b[39m, \u001b[38;5;28;01mNone\u001b[39;00m))\n\u001b[0;32m    576\u001b[0m \u001b[38;5;66;03m# Create the parser.\u001b[39;00m\n\u001b[1;32m--> 577\u001b[0m parser \u001b[38;5;241m=\u001b[39m \u001b[43mTextFileReader\u001b[49m\u001b[43m(\u001b[49m\u001b[43mfilepath_or_buffer\u001b[49m\u001b[43m,\u001b[49m\u001b[43m \u001b[49m\u001b[38;5;241;43m*\u001b[39;49m\u001b[38;5;241;43m*\u001b[39;49m\u001b[43mkwds\u001b[49m\u001b[43m)\u001b[49m\n\u001b[0;32m    579\u001b[0m \u001b[38;5;28;01mif\u001b[39;00m chunksize \u001b[38;5;129;01mor\u001b[39;00m iterator:\n\u001b[0;32m    580\u001b[0m     \u001b[38;5;28;01mreturn\u001b[39;00m parser\n",
      "File \u001b[1;32mc:\\Users\\Genius Park\\AppData\\Local\\anaconda3\\envs\\cuda12_1\\lib\\site-packages\\pandas\\io\\parsers\\readers.py:1407\u001b[0m, in \u001b[0;36mTextFileReader.__init__\u001b[1;34m(self, f, engine, **kwds)\u001b[0m\n\u001b[0;32m   1404\u001b[0m     \u001b[38;5;28mself\u001b[39m\u001b[38;5;241m.\u001b[39moptions[\u001b[38;5;124m\"\u001b[39m\u001b[38;5;124mhas_index_names\u001b[39m\u001b[38;5;124m\"\u001b[39m] \u001b[38;5;241m=\u001b[39m kwds[\u001b[38;5;124m\"\u001b[39m\u001b[38;5;124mhas_index_names\u001b[39m\u001b[38;5;124m\"\u001b[39m]\n\u001b[0;32m   1406\u001b[0m \u001b[38;5;28mself\u001b[39m\u001b[38;5;241m.\u001b[39mhandles: IOHandles \u001b[38;5;241m|\u001b[39m \u001b[38;5;28;01mNone\u001b[39;00m \u001b[38;5;241m=\u001b[39m \u001b[38;5;28;01mNone\u001b[39;00m\n\u001b[1;32m-> 1407\u001b[0m \u001b[38;5;28mself\u001b[39m\u001b[38;5;241m.\u001b[39m_engine \u001b[38;5;241m=\u001b[39m \u001b[38;5;28;43mself\u001b[39;49m\u001b[38;5;241;43m.\u001b[39;49m\u001b[43m_make_engine\u001b[49m\u001b[43m(\u001b[49m\u001b[43mf\u001b[49m\u001b[43m,\u001b[49m\u001b[43m \u001b[49m\u001b[38;5;28;43mself\u001b[39;49m\u001b[38;5;241;43m.\u001b[39;49m\u001b[43mengine\u001b[49m\u001b[43m)\u001b[49m\n",
      "File \u001b[1;32mc:\\Users\\Genius Park\\AppData\\Local\\anaconda3\\envs\\cuda12_1\\lib\\site-packages\\pandas\\io\\parsers\\readers.py:1661\u001b[0m, in \u001b[0;36mTextFileReader._make_engine\u001b[1;34m(self, f, engine)\u001b[0m\n\u001b[0;32m   1659\u001b[0m     \u001b[38;5;28;01mif\u001b[39;00m \u001b[38;5;124m\"\u001b[39m\u001b[38;5;124mb\u001b[39m\u001b[38;5;124m\"\u001b[39m \u001b[38;5;129;01mnot\u001b[39;00m \u001b[38;5;129;01min\u001b[39;00m mode:\n\u001b[0;32m   1660\u001b[0m         mode \u001b[38;5;241m+\u001b[39m\u001b[38;5;241m=\u001b[39m \u001b[38;5;124m\"\u001b[39m\u001b[38;5;124mb\u001b[39m\u001b[38;5;124m\"\u001b[39m\n\u001b[1;32m-> 1661\u001b[0m \u001b[38;5;28mself\u001b[39m\u001b[38;5;241m.\u001b[39mhandles \u001b[38;5;241m=\u001b[39m \u001b[43mget_handle\u001b[49m\u001b[43m(\u001b[49m\n\u001b[0;32m   1662\u001b[0m \u001b[43m    \u001b[49m\u001b[43mf\u001b[49m\u001b[43m,\u001b[49m\n\u001b[0;32m   1663\u001b[0m \u001b[43m    \u001b[49m\u001b[43mmode\u001b[49m\u001b[43m,\u001b[49m\n\u001b[0;32m   1664\u001b[0m \u001b[43m    \u001b[49m\u001b[43mencoding\u001b[49m\u001b[38;5;241;43m=\u001b[39;49m\u001b[38;5;28;43mself\u001b[39;49m\u001b[38;5;241;43m.\u001b[39;49m\u001b[43moptions\u001b[49m\u001b[38;5;241;43m.\u001b[39;49m\u001b[43mget\u001b[49m\u001b[43m(\u001b[49m\u001b[38;5;124;43m\"\u001b[39;49m\u001b[38;5;124;43mencoding\u001b[39;49m\u001b[38;5;124;43m\"\u001b[39;49m\u001b[43m,\u001b[49m\u001b[43m \u001b[49m\u001b[38;5;28;43;01mNone\u001b[39;49;00m\u001b[43m)\u001b[49m\u001b[43m,\u001b[49m\n\u001b[0;32m   1665\u001b[0m \u001b[43m    \u001b[49m\u001b[43mcompression\u001b[49m\u001b[38;5;241;43m=\u001b[39;49m\u001b[38;5;28;43mself\u001b[39;49m\u001b[38;5;241;43m.\u001b[39;49m\u001b[43moptions\u001b[49m\u001b[38;5;241;43m.\u001b[39;49m\u001b[43mget\u001b[49m\u001b[43m(\u001b[49m\u001b[38;5;124;43m\"\u001b[39;49m\u001b[38;5;124;43mcompression\u001b[39;49m\u001b[38;5;124;43m\"\u001b[39;49m\u001b[43m,\u001b[49m\u001b[43m \u001b[49m\u001b[38;5;28;43;01mNone\u001b[39;49;00m\u001b[43m)\u001b[49m\u001b[43m,\u001b[49m\n\u001b[0;32m   1666\u001b[0m \u001b[43m    \u001b[49m\u001b[43mmemory_map\u001b[49m\u001b[38;5;241;43m=\u001b[39;49m\u001b[38;5;28;43mself\u001b[39;49m\u001b[38;5;241;43m.\u001b[39;49m\u001b[43moptions\u001b[49m\u001b[38;5;241;43m.\u001b[39;49m\u001b[43mget\u001b[49m\u001b[43m(\u001b[49m\u001b[38;5;124;43m\"\u001b[39;49m\u001b[38;5;124;43mmemory_map\u001b[39;49m\u001b[38;5;124;43m\"\u001b[39;49m\u001b[43m,\u001b[49m\u001b[43m \u001b[49m\u001b[38;5;28;43;01mFalse\u001b[39;49;00m\u001b[43m)\u001b[49m\u001b[43m,\u001b[49m\n\u001b[0;32m   1667\u001b[0m \u001b[43m    \u001b[49m\u001b[43mis_text\u001b[49m\u001b[38;5;241;43m=\u001b[39;49m\u001b[43mis_text\u001b[49m\u001b[43m,\u001b[49m\n\u001b[0;32m   1668\u001b[0m \u001b[43m    \u001b[49m\u001b[43merrors\u001b[49m\u001b[38;5;241;43m=\u001b[39;49m\u001b[38;5;28;43mself\u001b[39;49m\u001b[38;5;241;43m.\u001b[39;49m\u001b[43moptions\u001b[49m\u001b[38;5;241;43m.\u001b[39;49m\u001b[43mget\u001b[49m\u001b[43m(\u001b[49m\u001b[38;5;124;43m\"\u001b[39;49m\u001b[38;5;124;43mencoding_errors\u001b[39;49m\u001b[38;5;124;43m\"\u001b[39;49m\u001b[43m,\u001b[49m\u001b[43m \u001b[49m\u001b[38;5;124;43m\"\u001b[39;49m\u001b[38;5;124;43mstrict\u001b[39;49m\u001b[38;5;124;43m\"\u001b[39;49m\u001b[43m)\u001b[49m\u001b[43m,\u001b[49m\n\u001b[0;32m   1669\u001b[0m \u001b[43m    \u001b[49m\u001b[43mstorage_options\u001b[49m\u001b[38;5;241;43m=\u001b[39;49m\u001b[38;5;28;43mself\u001b[39;49m\u001b[38;5;241;43m.\u001b[39;49m\u001b[43moptions\u001b[49m\u001b[38;5;241;43m.\u001b[39;49m\u001b[43mget\u001b[49m\u001b[43m(\u001b[49m\u001b[38;5;124;43m\"\u001b[39;49m\u001b[38;5;124;43mstorage_options\u001b[39;49m\u001b[38;5;124;43m\"\u001b[39;49m\u001b[43m,\u001b[49m\u001b[43m \u001b[49m\u001b[38;5;28;43;01mNone\u001b[39;49;00m\u001b[43m)\u001b[49m\u001b[43m,\u001b[49m\n\u001b[0;32m   1670\u001b[0m \u001b[43m\u001b[49m\u001b[43m)\u001b[49m\n\u001b[0;32m   1671\u001b[0m \u001b[38;5;28;01massert\u001b[39;00m \u001b[38;5;28mself\u001b[39m\u001b[38;5;241m.\u001b[39mhandles \u001b[38;5;129;01mis\u001b[39;00m \u001b[38;5;129;01mnot\u001b[39;00m \u001b[38;5;28;01mNone\u001b[39;00m\n\u001b[0;32m   1672\u001b[0m f \u001b[38;5;241m=\u001b[39m \u001b[38;5;28mself\u001b[39m\u001b[38;5;241m.\u001b[39mhandles\u001b[38;5;241m.\u001b[39mhandle\n",
      "File \u001b[1;32mc:\\Users\\Genius Park\\AppData\\Local\\anaconda3\\envs\\cuda12_1\\lib\\site-packages\\pandas\\io\\common.py:859\u001b[0m, in \u001b[0;36mget_handle\u001b[1;34m(path_or_buf, mode, encoding, compression, memory_map, is_text, errors, storage_options)\u001b[0m\n\u001b[0;32m    854\u001b[0m \u001b[38;5;28;01melif\u001b[39;00m \u001b[38;5;28misinstance\u001b[39m(handle, \u001b[38;5;28mstr\u001b[39m):\n\u001b[0;32m    855\u001b[0m     \u001b[38;5;66;03m# Check whether the filename is to be opened in binary mode.\u001b[39;00m\n\u001b[0;32m    856\u001b[0m     \u001b[38;5;66;03m# Binary mode does not support 'encoding' and 'newline'.\u001b[39;00m\n\u001b[0;32m    857\u001b[0m     \u001b[38;5;28;01mif\u001b[39;00m ioargs\u001b[38;5;241m.\u001b[39mencoding \u001b[38;5;129;01mand\u001b[39;00m \u001b[38;5;124m\"\u001b[39m\u001b[38;5;124mb\u001b[39m\u001b[38;5;124m\"\u001b[39m \u001b[38;5;129;01mnot\u001b[39;00m \u001b[38;5;129;01min\u001b[39;00m ioargs\u001b[38;5;241m.\u001b[39mmode:\n\u001b[0;32m    858\u001b[0m         \u001b[38;5;66;03m# Encoding\u001b[39;00m\n\u001b[1;32m--> 859\u001b[0m         handle \u001b[38;5;241m=\u001b[39m \u001b[38;5;28;43mopen\u001b[39;49m\u001b[43m(\u001b[49m\n\u001b[0;32m    860\u001b[0m \u001b[43m            \u001b[49m\u001b[43mhandle\u001b[49m\u001b[43m,\u001b[49m\n\u001b[0;32m    861\u001b[0m \u001b[43m            \u001b[49m\u001b[43mioargs\u001b[49m\u001b[38;5;241;43m.\u001b[39;49m\u001b[43mmode\u001b[49m\u001b[43m,\u001b[49m\n\u001b[0;32m    862\u001b[0m \u001b[43m            \u001b[49m\u001b[43mencoding\u001b[49m\u001b[38;5;241;43m=\u001b[39;49m\u001b[43mioargs\u001b[49m\u001b[38;5;241;43m.\u001b[39;49m\u001b[43mencoding\u001b[49m\u001b[43m,\u001b[49m\n\u001b[0;32m    863\u001b[0m \u001b[43m            \u001b[49m\u001b[43merrors\u001b[49m\u001b[38;5;241;43m=\u001b[39;49m\u001b[43merrors\u001b[49m\u001b[43m,\u001b[49m\n\u001b[0;32m    864\u001b[0m \u001b[43m            \u001b[49m\u001b[43mnewline\u001b[49m\u001b[38;5;241;43m=\u001b[39;49m\u001b[38;5;124;43m\"\u001b[39;49m\u001b[38;5;124;43m\"\u001b[39;49m\u001b[43m,\u001b[49m\n\u001b[0;32m    865\u001b[0m \u001b[43m        \u001b[49m\u001b[43m)\u001b[49m\n\u001b[0;32m    866\u001b[0m     \u001b[38;5;28;01melse\u001b[39;00m:\n\u001b[0;32m    867\u001b[0m         \u001b[38;5;66;03m# Binary mode\u001b[39;00m\n\u001b[0;32m    868\u001b[0m         handle \u001b[38;5;241m=\u001b[39m \u001b[38;5;28mopen\u001b[39m(handle, ioargs\u001b[38;5;241m.\u001b[39mmode)\n",
      "File \u001b[1;32mc:\\Users\\Genius Park\\AppData\\Local\\anaconda3\\envs\\cuda12_1\\lib\\codecs.py:309\u001b[0m, in \u001b[0;36mBufferedIncrementalDecoder.__init__\u001b[1;34m(self, errors)\u001b[0m\n\u001b[0;32m    303\u001b[0m \u001b[38;5;28;01mclass\u001b[39;00m \u001b[38;5;21;01mBufferedIncrementalDecoder\u001b[39;00m(IncrementalDecoder):\n\u001b[0;32m    304\u001b[0m \u001b[38;5;250m    \u001b[39m\u001b[38;5;124;03m\"\"\"\u001b[39;00m\n\u001b[0;32m    305\u001b[0m \u001b[38;5;124;03m    This subclass of IncrementalDecoder can be used as the baseclass for an\u001b[39;00m\n\u001b[0;32m    306\u001b[0m \u001b[38;5;124;03m    incremental decoder if the decoder must be able to handle incomplete\u001b[39;00m\n\u001b[0;32m    307\u001b[0m \u001b[38;5;124;03m    byte sequences.\u001b[39;00m\n\u001b[0;32m    308\u001b[0m \u001b[38;5;124;03m    \"\"\"\u001b[39;00m\n\u001b[1;32m--> 309\u001b[0m     \u001b[38;5;28;01mdef\u001b[39;00m \u001b[38;5;21m__init__\u001b[39m(\u001b[38;5;28mself\u001b[39m, errors\u001b[38;5;241m=\u001b[39m\u001b[38;5;124m'\u001b[39m\u001b[38;5;124mstrict\u001b[39m\u001b[38;5;124m'\u001b[39m):\n\u001b[0;32m    310\u001b[0m         IncrementalDecoder\u001b[38;5;241m.\u001b[39m\u001b[38;5;21m__init__\u001b[39m(\u001b[38;5;28mself\u001b[39m, errors)\n\u001b[0;32m    311\u001b[0m         \u001b[38;5;66;03m# undecoded input that is kept between calls to decode()\u001b[39;00m\n",
      "\u001b[1;31mKeyboardInterrupt\u001b[0m: "
     ]
    }
   ],
   "source": [
    "from datatset import DROZY_EYELANDMARK_Dataset\n",
    "from torch.utils.data import DataLoader\n",
    "from tqdm import tqdm\n",
    "\n",
    "train_dataset = DROZY_EYELANDMARK_Dataset(split_dir=\"G:/DROZY_signals/split_eye_landmark/train\")\n",
    "test_dataset = DROZY_EYELANDMARK_Dataset(split_dir=\"G:/DROZY_signals/split_eye_landmark/test\")\n",
    "\n",
    "train_dataloader = DataLoader(train_dataset, batch_size=64, shuffle=False, pin_memory=True)\n",
    "test_dataloader = DataLoader(test_dataset, batch_size=64, shuffle=False, pin_memory=True)\n",
    "\n",
    "for data in tqdm(train_dataloader):\n",
    "    pass  # 모든 학습 데이터 순회\n"
   ]
  },
  {
   "cell_type": "code",
   "execution_count": null,
   "id": "7eb0e105",
   "metadata": {},
   "outputs": [],
   "source": []
  },
  {
   "cell_type": "code",
   "execution_count": null,
   "id": "30d15170",
   "metadata": {},
   "outputs": [],
   "source": []
  },
  {
   "cell_type": "code",
   "execution_count": null,
   "id": "b3f88f23",
   "metadata": {},
   "outputs": [
    {
     "data": {
      "text/plain": [
       "(tensor([ 8.,  8.,  8.,  8.,  8.,  8.,  8.,  8.,  8.,  8.,  8.,  8.,  8.,  8.,\n",
       "          8.,  8.,  8.,  8.,  8.,  8.,  9.,  9.,  9.,  9.,  9.,  9.,  9.,  9.,\n",
       "          9.,  9.,  9.,  9.,  9.,  9., 10., 10., 10., 10., 10., 10., 10., 10.,\n",
       "         10., 10., 10., 10., 10., 11., 11., 11., 11., 11., 12., 12., 12., 13.,\n",
       "         13., 13., 14., 14., 14., 14., 14., 14., 14., 14., 14., 14., 14., 14.,\n",
       "         14., 15., 15., 15., 15., 15., 15., 15., 16., 16., 16., 16., 16., 16.,\n",
       "         16., 16., 17., 17., 17., 17., 17., 17., 17., 17., 18., 18., 18., 18.,\n",
       "         18., 18., 18., 19., 19., 19., 19., 19., 19., 19., 19., 19., 20., 20.,\n",
       "         20., 20., 20., 20., 20., 20., 20., 21., 21., 21., 21., 21., 21., 21.,\n",
       "         21., 21., 21., 21., 21., 21., 21., 21., 21., 21., 21., 21., 21., 21.,\n",
       "         21., 21., 21., 21., 21., 21., 21., 21., 21., 21., 21., 21., 21., 21.,\n",
       "         21., 21., 21., 21., 21., 21., 21., 21., 21., 21., 21., 21., 21., 21.,\n",
       "         21., 21., 21., 21., 21., 21., 21., 21., 21., 21., 21., 20., 20., 20.,\n",
       "         20., 20., 20., 20., 20., 20., 20., 20., 20., 20., 20., 20., 20., 20.,\n",
       "         20., 20., 20., 20., 20., 20., 20., 20., 20., 20., 20., 20., 20., 20.,\n",
       "         20., 20., 20., 20., 20., 20., 20., 20., 20., 20., 20., 20., 20., 20.,\n",
       "         20., 20., 20., 20., 19., 19., 19., 19., 19., 19., 19., 19., 19., 19.,\n",
       "         19., 19., 19., 19., 19., 19., 19., 19., 19., 19., 19., 19., 19., 19.,\n",
       "         19., 19., 19., 19., 19., 19., 19., 19., 19., 19., 19., 19., 19., 19.,\n",
       "         19., 19., 19., 19., 19., 19., 19., 19., 19., 19., 19., 19., 19., 19.,\n",
       "         19., 19., 19., 19., 19., 19., 19., 19., 19., 19., 19., 19., 19., 19.,\n",
       "         19., 19., 19., 19., 19., 19.]),\n",
       " tensor(0))"
      ]
     },
     "execution_count": 41,
     "metadata": {},
     "output_type": "execute_result"
    }
   ],
   "source": [
    "test_data"
   ]
  },
  {
   "cell_type": "code",
   "execution_count": null,
   "id": "c59923f1",
   "metadata": {},
   "outputs": [
    {
     "name": "stdout",
     "output_type": "stream",
     "text": [
      "sample_path 에서 에러 발생: ./split_samples/train\\1-2\\sample_00165.csv\n"
     ]
    },
    {
     "ename": "KeyError",
     "evalue": "'rrsp_bpm_final'",
     "output_type": "error",
     "traceback": [
      "\u001b[1;31m---------------------------------------------------------------------------\u001b[0m",
      "\u001b[1;31mKeyError\u001b[0m                                  Traceback (most recent call last)",
      "File \u001b[1;32mc:\\Users\\Genius Park\\AppData\\Local\\anaconda3\\envs\\cuda12_1\\lib\\site-packages\\pandas\\core\\indexes\\base.py:3653\u001b[0m, in \u001b[0;36mIndex.get_loc\u001b[1;34m(self, key)\u001b[0m\n\u001b[0;32m   3652\u001b[0m \u001b[38;5;28;01mtry\u001b[39;00m:\n\u001b[1;32m-> 3653\u001b[0m     \u001b[38;5;28;01mreturn\u001b[39;00m \u001b[38;5;28;43mself\u001b[39;49m\u001b[38;5;241;43m.\u001b[39;49m\u001b[43m_engine\u001b[49m\u001b[38;5;241;43m.\u001b[39;49m\u001b[43mget_loc\u001b[49m\u001b[43m(\u001b[49m\u001b[43mcasted_key\u001b[49m\u001b[43m)\u001b[49m\n\u001b[0;32m   3654\u001b[0m \u001b[38;5;28;01mexcept\u001b[39;00m \u001b[38;5;167;01mKeyError\u001b[39;00m \u001b[38;5;28;01mas\u001b[39;00m err:\n",
      "File \u001b[1;32mc:\\Users\\Genius Park\\AppData\\Local\\anaconda3\\envs\\cuda12_1\\lib\\site-packages\\pandas\\_libs\\index.pyx:147\u001b[0m, in \u001b[0;36mpandas._libs.index.IndexEngine.get_loc\u001b[1;34m()\u001b[0m\n",
      "File \u001b[1;32mc:\\Users\\Genius Park\\AppData\\Local\\anaconda3\\envs\\cuda12_1\\lib\\site-packages\\pandas\\_libs\\index.pyx:176\u001b[0m, in \u001b[0;36mpandas._libs.index.IndexEngine.get_loc\u001b[1;34m()\u001b[0m\n",
      "File \u001b[1;32mpandas\\_libs\\hashtable_class_helper.pxi:7080\u001b[0m, in \u001b[0;36mpandas._libs.hashtable.PyObjectHashTable.get_item\u001b[1;34m()\u001b[0m\n",
      "File \u001b[1;32mpandas\\_libs\\hashtable_class_helper.pxi:7088\u001b[0m, in \u001b[0;36mpandas._libs.hashtable.PyObjectHashTable.get_item\u001b[1;34m()\u001b[0m\n",
      "\u001b[1;31mKeyError\u001b[0m: 'rrsp_bpm_final'",
      "\nThe above exception was the direct cause of the following exception:\n",
      "\u001b[1;31mKeyError\u001b[0m                                  Traceback (most recent call last)",
      "Cell \u001b[1;32mIn[2], line 8\u001b[0m\n\u001b[0;32m      5\u001b[0m train_dataset \u001b[38;5;241m=\u001b[39m DROZY_RRSP_Dataset(split_dir\u001b[38;5;241m=\u001b[39m\u001b[38;5;124m\"\u001b[39m\u001b[38;5;124m./split_samples/train\u001b[39m\u001b[38;5;124m\"\u001b[39m)\n\u001b[0;32m      6\u001b[0m test_dataset \u001b[38;5;241m=\u001b[39m DROZY_RRSP_Dataset(split_dir\u001b[38;5;241m=\u001b[39m\u001b[38;5;124m\"\u001b[39m\u001b[38;5;124m./split_samples/test\u001b[39m\u001b[38;5;124m\"\u001b[39m)\n\u001b[1;32m----> 8\u001b[0m \u001b[38;5;28;01mfor\u001b[39;00m test_data \u001b[38;5;129;01min\u001b[39;00m train_dataset:\n\u001b[0;32m      9\u001b[0m     \u001b[38;5;28;01mpass\u001b[39;00m\n",
      "File \u001b[1;32mc:\\Users\\Genius Park\\Desktop\\work\\2025_Summer_Study\\rrsp_drozy\\datatset.py:57\u001b[0m, in \u001b[0;36mDROZY_RRSP_Dataset.__getitem__\u001b[1;34m(self, idx)\u001b[0m\n\u001b[0;32m     55\u001b[0m \u001b[38;5;28;01mexcept\u001b[39;00m \u001b[38;5;167;01mException\u001b[39;00m \u001b[38;5;28;01mas\u001b[39;00m e:\n\u001b[0;32m     56\u001b[0m     \u001b[38;5;28mprint\u001b[39m(\u001b[38;5;124mf\u001b[39m\u001b[38;5;124m\"\u001b[39m\u001b[38;5;124msample_path 에서 에러 발생: \u001b[39m\u001b[38;5;132;01m{\u001b[39;00msample_path\u001b[38;5;132;01m}\u001b[39;00m\u001b[38;5;124m\"\u001b[39m)\n\u001b[1;32m---> 57\u001b[0m     \u001b[38;5;28;01mraise\u001b[39;00m e\n\u001b[0;32m     59\u001b[0m rrsp_bpm_tensor \u001b[38;5;241m=\u001b[39m torch\u001b[38;5;241m.\u001b[39mtensor(rrsp_bpm_list, dtype\u001b[38;5;241m=\u001b[39mtorch\u001b[38;5;241m.\u001b[39mfloat32)\n\u001b[0;32m     60\u001b[0m kss_label_tensor \u001b[38;5;241m=\u001b[39m torch\u001b[38;5;241m.\u001b[39mtensor(kss_label, dtype\u001b[38;5;241m=\u001b[39mtorch\u001b[38;5;241m.\u001b[39mlong)\n",
      "File \u001b[1;32mc:\\Users\\Genius Park\\Desktop\\work\\2025_Summer_Study\\rrsp_drozy\\datatset.py:54\u001b[0m, in \u001b[0;36mDROZY_RRSP_Dataset.__getitem__\u001b[1;34m(self, idx)\u001b[0m\n\u001b[0;32m     52\u001b[0m \u001b[38;5;66;03m# rrsp_bpm_final 컬럼만 추출하여 리스트로 변환\u001b[39;00m\n\u001b[0;32m     53\u001b[0m \u001b[38;5;28;01mtry\u001b[39;00m:\n\u001b[1;32m---> 54\u001b[0m     rrsp_bpm_list \u001b[38;5;241m=\u001b[39m \u001b[43mdf\u001b[49m\u001b[43m[\u001b[49m\u001b[38;5;124;43m'\u001b[39;49m\u001b[38;5;124;43mrrsp_bpm_final\u001b[39;49m\u001b[38;5;124;43m'\u001b[39;49m\u001b[43m]\u001b[49m\u001b[38;5;241m.\u001b[39mtolist()\n\u001b[0;32m     55\u001b[0m \u001b[38;5;28;01mexcept\u001b[39;00m \u001b[38;5;167;01mException\u001b[39;00m \u001b[38;5;28;01mas\u001b[39;00m e:\n\u001b[0;32m     56\u001b[0m     \u001b[38;5;28mprint\u001b[39m(\u001b[38;5;124mf\u001b[39m\u001b[38;5;124m\"\u001b[39m\u001b[38;5;124msample_path 에서 에러 발생: \u001b[39m\u001b[38;5;132;01m{\u001b[39;00msample_path\u001b[38;5;132;01m}\u001b[39;00m\u001b[38;5;124m\"\u001b[39m)\n",
      "File \u001b[1;32mc:\\Users\\Genius Park\\AppData\\Local\\anaconda3\\envs\\cuda12_1\\lib\\site-packages\\pandas\\core\\frame.py:3761\u001b[0m, in \u001b[0;36mDataFrame.__getitem__\u001b[1;34m(self, key)\u001b[0m\n\u001b[0;32m   3759\u001b[0m \u001b[38;5;28;01mif\u001b[39;00m \u001b[38;5;28mself\u001b[39m\u001b[38;5;241m.\u001b[39mcolumns\u001b[38;5;241m.\u001b[39mnlevels \u001b[38;5;241m>\u001b[39m \u001b[38;5;241m1\u001b[39m:\n\u001b[0;32m   3760\u001b[0m     \u001b[38;5;28;01mreturn\u001b[39;00m \u001b[38;5;28mself\u001b[39m\u001b[38;5;241m.\u001b[39m_getitem_multilevel(key)\n\u001b[1;32m-> 3761\u001b[0m indexer \u001b[38;5;241m=\u001b[39m \u001b[38;5;28;43mself\u001b[39;49m\u001b[38;5;241;43m.\u001b[39;49m\u001b[43mcolumns\u001b[49m\u001b[38;5;241;43m.\u001b[39;49m\u001b[43mget_loc\u001b[49m\u001b[43m(\u001b[49m\u001b[43mkey\u001b[49m\u001b[43m)\u001b[49m\n\u001b[0;32m   3762\u001b[0m \u001b[38;5;28;01mif\u001b[39;00m is_integer(indexer):\n\u001b[0;32m   3763\u001b[0m     indexer \u001b[38;5;241m=\u001b[39m [indexer]\n",
      "File \u001b[1;32mc:\\Users\\Genius Park\\AppData\\Local\\anaconda3\\envs\\cuda12_1\\lib\\site-packages\\pandas\\core\\indexes\\base.py:3655\u001b[0m, in \u001b[0;36mIndex.get_loc\u001b[1;34m(self, key)\u001b[0m\n\u001b[0;32m   3653\u001b[0m     \u001b[38;5;28;01mreturn\u001b[39;00m \u001b[38;5;28mself\u001b[39m\u001b[38;5;241m.\u001b[39m_engine\u001b[38;5;241m.\u001b[39mget_loc(casted_key)\n\u001b[0;32m   3654\u001b[0m \u001b[38;5;28;01mexcept\u001b[39;00m \u001b[38;5;167;01mKeyError\u001b[39;00m \u001b[38;5;28;01mas\u001b[39;00m err:\n\u001b[1;32m-> 3655\u001b[0m     \u001b[38;5;28;01mraise\u001b[39;00m \u001b[38;5;167;01mKeyError\u001b[39;00m(key) \u001b[38;5;28;01mfrom\u001b[39;00m \u001b[38;5;21;01merr\u001b[39;00m\n\u001b[0;32m   3656\u001b[0m \u001b[38;5;28;01mexcept\u001b[39;00m \u001b[38;5;167;01mTypeError\u001b[39;00m:\n\u001b[0;32m   3657\u001b[0m     \u001b[38;5;66;03m# If we have a listlike key, _check_indexing_error will raise\u001b[39;00m\n\u001b[0;32m   3658\u001b[0m     \u001b[38;5;66;03m#  InvalidIndexError. Otherwise we fall through and re-raise\u001b[39;00m\n\u001b[0;32m   3659\u001b[0m     \u001b[38;5;66;03m#  the TypeError.\u001b[39;00m\n\u001b[0;32m   3660\u001b[0m     \u001b[38;5;28mself\u001b[39m\u001b[38;5;241m.\u001b[39m_check_indexing_error(key)\n",
      "\u001b[1;31mKeyError\u001b[0m: 'rrsp_bpm_final'"
     ]
    }
   ],
   "source": [
    "from datatset import DROZY_RRSP_Dataset\n",
    "from torch.utils.data import DataLoader\n",
    "from tqdm import tqdm\n",
    "\n",
    "train_dataset = DROZY_RRSP_Dataset(split_dir=\"./split_samples/train\")\n",
    "test_dataset = DROZY_RRSP_Dataset(split_dir=\"./split_samples/test\")\n",
    "\n",
    "for test_data in train_dataset:\n",
    "    pass"
   ]
  },
  {
   "cell_type": "code",
   "execution_count": null,
   "id": "a187de2a",
   "metadata": {},
   "outputs": [
    {
     "name": "stderr",
     "output_type": "stream",
     "text": [
      "Epoch [1/5]: 100%|██████████| 222/222 [00:16<00:00, 13.34it/s, loss=1.09]\n",
      "테스트 진행중: 100%|██████████| 99/99 [00:06<00:00, 15.80it/s, acc=45.45%]\n"
     ]
    },
    {
     "name": "stdout",
     "output_type": "stream",
     "text": [
      "테스트 정확도: 45.45%\n"
     ]
    },
    {
     "name": "stderr",
     "output_type": "stream",
     "text": [
      "Epoch [2/5]: 100%|██████████| 222/222 [00:17<00:00, 12.36it/s, loss=1.09]\n",
      "테스트 진행중: 100%|██████████| 99/99 [00:06<00:00, 15.00it/s, acc=45.45%]\n"
     ]
    },
    {
     "name": "stdout",
     "output_type": "stream",
     "text": [
      "테스트 정확도: 45.45%\n"
     ]
    },
    {
     "name": "stderr",
     "output_type": "stream",
     "text": [
      "Epoch [3/5]: 100%|██████████| 222/222 [00:16<00:00, 13.66it/s, loss=1.09]\n",
      "테스트 진행중: 100%|██████████| 99/99 [00:06<00:00, 16.12it/s, acc=45.45%]\n"
     ]
    },
    {
     "name": "stdout",
     "output_type": "stream",
     "text": [
      "테스트 정확도: 45.45%\n"
     ]
    },
    {
     "name": "stderr",
     "output_type": "stream",
     "text": [
      "Epoch [4/5]: 100%|██████████| 222/222 [00:15<00:00, 14.07it/s, loss=1.09]\n",
      "테스트 진행중: 100%|██████████| 99/99 [00:06<00:00, 16.08it/s, acc=45.45%]\n"
     ]
    },
    {
     "name": "stdout",
     "output_type": "stream",
     "text": [
      "테스트 정확도: 45.45%\n"
     ]
    },
    {
     "name": "stderr",
     "output_type": "stream",
     "text": [
      "Epoch [5/5]: 100%|██████████| 222/222 [00:15<00:00, 14.17it/s, loss=1.09]\n",
      "테스트 진행중: 100%|██████████| 99/99 [00:06<00:00, 15.51it/s, acc=45.45%]"
     ]
    },
    {
     "name": "stdout",
     "output_type": "stream",
     "text": [
      "테스트 정확도: 45.45%\n"
     ]
    },
    {
     "name": "stderr",
     "output_type": "stream",
     "text": [
      "\n"
     ]
    }
   ],
   "source": []
  },
  {
   "cell_type": "code",
   "execution_count": null,
   "id": "92c8e0d6",
   "metadata": {},
   "outputs": [
    {
     "data": {
      "text/plain": [
       "(6335, 2879)"
      ]
     },
     "execution_count": 9,
     "metadata": {},
     "output_type": "execute_result"
    }
   ],
   "source": [
    "total, correct"
   ]
  },
  {
   "cell_type": "code",
   "execution_count": null,
   "id": "cdb724b4",
   "metadata": {},
   "outputs": [
    {
     "name": "stderr",
     "output_type": "stream",
     "text": [
      "Epoch [1/5]:   0%|          | 0/222 [00:00<?, ?it/s]\n"
     ]
    },
    {
     "ename": "RuntimeError",
     "evalue": "permute(sparse_coo): number of dimensions in the tensor input does not match the length of the desired ordering of dimensions i.e. input.dim() = 2 is not equal to len(dims) = 3",
     "output_type": "error",
     "traceback": [
      "\u001b[1;31m---------------------------------------------------------------------------\u001b[0m",
      "\u001b[1;31mRuntimeError\u001b[0m                              Traceback (most recent call last)",
      "Cell \u001b[1;32mIn[2], line 79\u001b[0m\n\u001b[0;32m     77\u001b[0m pbar \u001b[38;5;241m=\u001b[39m tqdm(train_dataloader)\n\u001b[0;32m     78\u001b[0m pbar\u001b[38;5;241m.\u001b[39mset_description(\u001b[38;5;124mf\u001b[39m\u001b[38;5;124m\"\u001b[39m\u001b[38;5;124mEpoch [\u001b[39m\u001b[38;5;132;01m{\u001b[39;00mepoch\u001b[38;5;241m+\u001b[39m\u001b[38;5;241m1\u001b[39m\u001b[38;5;132;01m}\u001b[39;00m\u001b[38;5;124m/\u001b[39m\u001b[38;5;132;01m{\u001b[39;00mnum_epochs\u001b[38;5;132;01m}\u001b[39;00m\u001b[38;5;124m]\u001b[39m\u001b[38;5;124m\"\u001b[39m)\n\u001b[1;32m---> 79\u001b[0m \u001b[38;5;28;01mfor\u001b[39;00m rrsp_bpm, kss_label \u001b[38;5;129;01min\u001b[39;00m pbar:\n\u001b[0;32m     80\u001b[0m     \u001b[38;5;66;03m# 텐서에 nan이 포함되어 있으면 해당 배치는 건너뜀\u001b[39;00m\n\u001b[0;32m     81\u001b[0m     \u001b[38;5;28;01mif\u001b[39;00m torch\u001b[38;5;241m.\u001b[39misnan(rrsp_bpm)\u001b[38;5;241m.\u001b[39many() \u001b[38;5;129;01mor\u001b[39;00m torch\u001b[38;5;241m.\u001b[39misnan(kss_label)\u001b[38;5;241m.\u001b[39many():\n\u001b[0;32m     82\u001b[0m         \u001b[38;5;28;01mcontinue\u001b[39;00m\n",
      "File \u001b[1;32mc:\\Users\\Genius Park\\AppData\\Local\\anaconda3\\envs\\cuda12_1\\lib\\site-packages\\tqdm\\std.py:1181\u001b[0m, in \u001b[0;36mtqdm.__iter__\u001b[1;34m(self)\u001b[0m\n\u001b[0;32m   1178\u001b[0m time \u001b[38;5;241m=\u001b[39m \u001b[38;5;28mself\u001b[39m\u001b[38;5;241m.\u001b[39m_time\n\u001b[0;32m   1180\u001b[0m \u001b[38;5;28;01mtry\u001b[39;00m:\n\u001b[1;32m-> 1181\u001b[0m     \u001b[38;5;28;01mfor\u001b[39;00m obj \u001b[38;5;129;01min\u001b[39;00m iterable:\n\u001b[0;32m   1182\u001b[0m         \u001b[38;5;28;01myield\u001b[39;00m obj\n\u001b[0;32m   1183\u001b[0m         \u001b[38;5;66;03m# Update and possibly print the progressbar.\u001b[39;00m\n\u001b[0;32m   1184\u001b[0m         \u001b[38;5;66;03m# Note: does not call self.update(1) for speed optimisation.\u001b[39;00m\n",
      "File \u001b[1;32mc:\\Users\\Genius Park\\AppData\\Local\\anaconda3\\envs\\cuda12_1\\lib\\site-packages\\torch\\utils\\data\\dataloader.py:630\u001b[0m, in \u001b[0;36m_BaseDataLoaderIter.__next__\u001b[1;34m(self)\u001b[0m\n\u001b[0;32m    627\u001b[0m \u001b[38;5;28;01mif\u001b[39;00m \u001b[38;5;28mself\u001b[39m\u001b[38;5;241m.\u001b[39m_sampler_iter \u001b[38;5;129;01mis\u001b[39;00m \u001b[38;5;28;01mNone\u001b[39;00m:\n\u001b[0;32m    628\u001b[0m     \u001b[38;5;66;03m# TODO(https://github.com/pytorch/pytorch/issues/76750)\u001b[39;00m\n\u001b[0;32m    629\u001b[0m     \u001b[38;5;28mself\u001b[39m\u001b[38;5;241m.\u001b[39m_reset()  \u001b[38;5;66;03m# type: ignore[call-arg]\u001b[39;00m\n\u001b[1;32m--> 630\u001b[0m data \u001b[38;5;241m=\u001b[39m \u001b[38;5;28;43mself\u001b[39;49m\u001b[38;5;241;43m.\u001b[39;49m\u001b[43m_next_data\u001b[49m\u001b[43m(\u001b[49m\u001b[43m)\u001b[49m\n\u001b[0;32m    631\u001b[0m \u001b[38;5;28mself\u001b[39m\u001b[38;5;241m.\u001b[39m_num_yielded \u001b[38;5;241m+\u001b[39m\u001b[38;5;241m=\u001b[39m \u001b[38;5;241m1\u001b[39m\n\u001b[0;32m    632\u001b[0m \u001b[38;5;28;01mif\u001b[39;00m \u001b[38;5;28mself\u001b[39m\u001b[38;5;241m.\u001b[39m_dataset_kind \u001b[38;5;241m==\u001b[39m _DatasetKind\u001b[38;5;241m.\u001b[39mIterable \u001b[38;5;129;01mand\u001b[39;00m \\\n\u001b[0;32m    633\u001b[0m         \u001b[38;5;28mself\u001b[39m\u001b[38;5;241m.\u001b[39m_IterableDataset_len_called \u001b[38;5;129;01mis\u001b[39;00m \u001b[38;5;129;01mnot\u001b[39;00m \u001b[38;5;28;01mNone\u001b[39;00m \u001b[38;5;129;01mand\u001b[39;00m \\\n\u001b[0;32m    634\u001b[0m         \u001b[38;5;28mself\u001b[39m\u001b[38;5;241m.\u001b[39m_num_yielded \u001b[38;5;241m>\u001b[39m \u001b[38;5;28mself\u001b[39m\u001b[38;5;241m.\u001b[39m_IterableDataset_len_called:\n",
      "File \u001b[1;32mc:\\Users\\Genius Park\\AppData\\Local\\anaconda3\\envs\\cuda12_1\\lib\\site-packages\\torch\\utils\\data\\dataloader.py:673\u001b[0m, in \u001b[0;36m_SingleProcessDataLoaderIter._next_data\u001b[1;34m(self)\u001b[0m\n\u001b[0;32m    671\u001b[0m \u001b[38;5;28;01mdef\u001b[39;00m \u001b[38;5;21m_next_data\u001b[39m(\u001b[38;5;28mself\u001b[39m):\n\u001b[0;32m    672\u001b[0m     index \u001b[38;5;241m=\u001b[39m \u001b[38;5;28mself\u001b[39m\u001b[38;5;241m.\u001b[39m_next_index()  \u001b[38;5;66;03m# may raise StopIteration\u001b[39;00m\n\u001b[1;32m--> 673\u001b[0m     data \u001b[38;5;241m=\u001b[39m \u001b[38;5;28;43mself\u001b[39;49m\u001b[38;5;241;43m.\u001b[39;49m\u001b[43m_dataset_fetcher\u001b[49m\u001b[38;5;241;43m.\u001b[39;49m\u001b[43mfetch\u001b[49m\u001b[43m(\u001b[49m\u001b[43mindex\u001b[49m\u001b[43m)\u001b[49m  \u001b[38;5;66;03m# may raise StopIteration\u001b[39;00m\n\u001b[0;32m    674\u001b[0m     \u001b[38;5;28;01mif\u001b[39;00m \u001b[38;5;28mself\u001b[39m\u001b[38;5;241m.\u001b[39m_pin_memory:\n\u001b[0;32m    675\u001b[0m         data \u001b[38;5;241m=\u001b[39m _utils\u001b[38;5;241m.\u001b[39mpin_memory\u001b[38;5;241m.\u001b[39mpin_memory(data, \u001b[38;5;28mself\u001b[39m\u001b[38;5;241m.\u001b[39m_pin_memory_device)\n",
      "File \u001b[1;32mc:\\Users\\Genius Park\\AppData\\Local\\anaconda3\\envs\\cuda12_1\\lib\\site-packages\\torch\\utils\\data\\_utils\\fetch.py:52\u001b[0m, in \u001b[0;36m_MapDatasetFetcher.fetch\u001b[1;34m(self, possibly_batched_index)\u001b[0m\n\u001b[0;32m     50\u001b[0m         data \u001b[38;5;241m=\u001b[39m \u001b[38;5;28mself\u001b[39m\u001b[38;5;241m.\u001b[39mdataset\u001b[38;5;241m.\u001b[39m__getitems__(possibly_batched_index)\n\u001b[0;32m     51\u001b[0m     \u001b[38;5;28;01melse\u001b[39;00m:\n\u001b[1;32m---> 52\u001b[0m         data \u001b[38;5;241m=\u001b[39m [\u001b[38;5;28mself\u001b[39m\u001b[38;5;241m.\u001b[39mdataset[idx] \u001b[38;5;28;01mfor\u001b[39;00m idx \u001b[38;5;129;01min\u001b[39;00m possibly_batched_index]\n\u001b[0;32m     53\u001b[0m \u001b[38;5;28;01melse\u001b[39;00m:\n\u001b[0;32m     54\u001b[0m     data \u001b[38;5;241m=\u001b[39m \u001b[38;5;28mself\u001b[39m\u001b[38;5;241m.\u001b[39mdataset[possibly_batched_index]\n",
      "File \u001b[1;32mc:\\Users\\Genius Park\\AppData\\Local\\anaconda3\\envs\\cuda12_1\\lib\\site-packages\\torch\\utils\\data\\_utils\\fetch.py:52\u001b[0m, in \u001b[0;36m<listcomp>\u001b[1;34m(.0)\u001b[0m\n\u001b[0;32m     50\u001b[0m         data \u001b[38;5;241m=\u001b[39m \u001b[38;5;28mself\u001b[39m\u001b[38;5;241m.\u001b[39mdataset\u001b[38;5;241m.\u001b[39m__getitems__(possibly_batched_index)\n\u001b[0;32m     51\u001b[0m     \u001b[38;5;28;01melse\u001b[39;00m:\n\u001b[1;32m---> 52\u001b[0m         data \u001b[38;5;241m=\u001b[39m [\u001b[38;5;28;43mself\u001b[39;49m\u001b[38;5;241;43m.\u001b[39;49m\u001b[43mdataset\u001b[49m\u001b[43m[\u001b[49m\u001b[43midx\u001b[49m\u001b[43m]\u001b[49m \u001b[38;5;28;01mfor\u001b[39;00m idx \u001b[38;5;129;01min\u001b[39;00m possibly_batched_index]\n\u001b[0;32m     53\u001b[0m \u001b[38;5;28;01melse\u001b[39;00m:\n\u001b[0;32m     54\u001b[0m     data \u001b[38;5;241m=\u001b[39m \u001b[38;5;28mself\u001b[39m\u001b[38;5;241m.\u001b[39mdataset[possibly_batched_index]\n",
      "File \u001b[1;32mc:\\Users\\Genius Park\\Desktop\\work\\2025_Summer_Study\\rrsp_drozy\\datatset.py:111\u001b[0m, in \u001b[0;36mDROZY_EYELANDMARK_Dataset.__getitem__\u001b[1;34m(self, idx)\u001b[0m\n\u001b[0;32m    108\u001b[0m landmark_tensor \u001b[38;5;241m=\u001b[39m torch\u001b[38;5;241m.\u001b[39mtensor(landmark_array, dtype\u001b[38;5;241m=\u001b[39mtorch\u001b[38;5;241m.\u001b[39mfloat32)\n\u001b[0;32m    109\u001b[0m kss_label_tensor \u001b[38;5;241m=\u001b[39m torch\u001b[38;5;241m.\u001b[39mtensor(kss_label, dtype\u001b[38;5;241m=\u001b[39mtorch\u001b[38;5;241m.\u001b[39mlong)\n\u001b[1;32m--> 111\u001b[0m landmark_tensor \u001b[38;5;241m=\u001b[39m \u001b[43mlandmark_tensor\u001b[49m\u001b[38;5;241;43m.\u001b[39;49m\u001b[43mpermute\u001b[49m\u001b[43m(\u001b[49m\u001b[38;5;241;43m0\u001b[39;49m\u001b[43m,\u001b[49m\u001b[43m \u001b[49m\u001b[38;5;241;43m2\u001b[39;49m\u001b[43m,\u001b[49m\u001b[43m \u001b[49m\u001b[38;5;241;43m1\u001b[39;49m\u001b[43m)\u001b[49m\n\u001b[0;32m    112\u001b[0m \u001b[38;5;28;01mreturn\u001b[39;00m landmark_tensor, kss_label_tensor\n",
      "\u001b[1;31mRuntimeError\u001b[0m: permute(sparse_coo): number of dimensions in the tensor input does not match the length of the desired ordering of dimensions i.e. input.dim() = 2 is not equal to len(dims) = 3"
     ]
    }
   ],
   "source": []
  },
  {
   "cell_type": "code",
   "execution_count": null,
   "id": "0c29cd5a",
   "metadata": {},
   "outputs": [
    {
     "ename": "NameError",
     "evalue": "name 'plt' is not defined",
     "output_type": "error",
     "traceback": [
      "\u001b[1;31m---------------------------------------------------------------------------\u001b[0m",
      "\u001b[1;31mNameError\u001b[0m                                 Traceback (most recent call last)",
      "Cell \u001b[1;32mIn[10], line 19\u001b[0m\n\u001b[0;32m     16\u001b[0m         all_labels\u001b[38;5;241m.\u001b[39mextend(kss_label\u001b[38;5;241m.\u001b[39mcpu()\u001b[38;5;241m.\u001b[39mnumpy())\n\u001b[0;32m     18\u001b[0m cm \u001b[38;5;241m=\u001b[39m confusion_matrix(all_labels, all_preds)\n\u001b[1;32m---> 19\u001b[0m \u001b[43mplt\u001b[49m\u001b[38;5;241m.\u001b[39mfigure(figsize\u001b[38;5;241m=\u001b[39m(\u001b[38;5;241m6\u001b[39m,\u001b[38;5;241m5\u001b[39m))\n\u001b[0;32m     20\u001b[0m sns\u001b[38;5;241m.\u001b[39mheatmap(cm, annot\u001b[38;5;241m=\u001b[39m\u001b[38;5;28;01mTrue\u001b[39;00m, fmt\u001b[38;5;241m=\u001b[39m\u001b[38;5;124m\"\u001b[39m\u001b[38;5;124md\u001b[39m\u001b[38;5;124m\"\u001b[39m, cmap\u001b[38;5;241m=\u001b[39m\u001b[38;5;124m\"\u001b[39m\u001b[38;5;124mBlues\u001b[39m\u001b[38;5;124m\"\u001b[39m, xticklabels\u001b[38;5;241m=\u001b[39m[\u001b[38;5;241m0\u001b[39m,\u001b[38;5;241m1\u001b[39m,\u001b[38;5;241m2\u001b[39m], yticklabels\u001b[38;5;241m=\u001b[39m[\u001b[38;5;241m0\u001b[39m,\u001b[38;5;241m1\u001b[39m,\u001b[38;5;241m2\u001b[39m])\n\u001b[0;32m     21\u001b[0m plt\u001b[38;5;241m.\u001b[39mxlabel(\u001b[38;5;124m\"\u001b[39m\u001b[38;5;124m예측값\u001b[39m\u001b[38;5;124m\"\u001b[39m)\n",
      "\u001b[1;31mNameError\u001b[0m: name 'plt' is not defined"
     ]
    }
   ],
   "source": [
    "import seaborn as sns\n",
    "from sklearn.metrics import confusion_matrix\n",
    "\n",
    "# 혼동행렬 계산 및 시각화\n",
    "all_preds = []\n",
    "all_labels = []\n",
    "\n",
    "model.eval()\n",
    "with torch.no_grad():\n",
    "    for rrsp_bpm, kss_label in test_dataloader:\n",
    "        rrsp_bpm = rrsp_bpm.to(device)\n",
    "        kss_label = kss_label.to(device)\n",
    "        outputs = model(rrsp_bpm)\n",
    "        _, predicted = torch.max(outputs, 1)\n",
    "        all_preds.extend(predicted.cpu().numpy())\n",
    "        all_labels.extend(kss_label.cpu().numpy())\n",
    "\n"
   ]
  },
  {
   "cell_type": "code",
   "execution_count": null,
   "id": "ee12d21b",
   "metadata": {},
   "outputs": [
    {
     "name": "stderr",
     "output_type": "stream",
     "text": [
      "Epoch [1/10]: 100%|██████████| 207/207 [06:27<00:00,  1.87s/it, loss=0.671]\n",
      "테스트 진행중: 100%|██████████| 139/139 [04:23<00:00,  1.89s/it, acc=48.52%]\n"
     ]
    },
    {
     "name": "stdout",
     "output_type": "stream",
     "text": [
      "테스트 정확도: 48.52%\n"
     ]
    },
    {
     "name": "stderr",
     "output_type": "stream",
     "text": [
      "Epoch [2/10]: 100%|██████████| 207/207 [06:19<00:00,  1.83s/it, loss=0.321]\n",
      "테스트 진행중: 100%|██████████| 139/139 [04:18<00:00,  1.86s/it, acc=56.76%]\n"
     ]
    },
    {
     "name": "stdout",
     "output_type": "stream",
     "text": [
      "테스트 정확도: 56.76%\n"
     ]
    },
    {
     "name": "stderr",
     "output_type": "stream",
     "text": [
      "Epoch [3/10]: 100%|██████████| 207/207 [06:21<00:00,  1.84s/it, loss=0.191]\n",
      "테스트 진행중: 100%|██████████| 139/139 [04:18<00:00,  1.86s/it, acc=33.06%]\n"
     ]
    },
    {
     "name": "stdout",
     "output_type": "stream",
     "text": [
      "테스트 정확도: 33.06%\n"
     ]
    },
    {
     "name": "stderr",
     "output_type": "stream",
     "text": [
      "Epoch [4/10]: 100%|██████████| 207/207 [06:19<00:00,  1.83s/it, loss=0.124]\n",
      "테스트 진행중: 100%|██████████| 139/139 [04:19<00:00,  1.87s/it, acc=51.09%]\n"
     ]
    },
    {
     "name": "stdout",
     "output_type": "stream",
     "text": [
      "테스트 정확도: 51.09%\n"
     ]
    },
    {
     "name": "stderr",
     "output_type": "stream",
     "text": [
      "Epoch [5/10]: 100%|██████████| 207/207 [06:21<00:00,  1.84s/it, loss=0.0842]\n",
      "테스트 진행중: 100%|██████████| 139/139 [04:20<00:00,  1.87s/it, acc=61.50%]\n"
     ]
    },
    {
     "name": "stdout",
     "output_type": "stream",
     "text": [
      "테스트 정확도: 61.50%\n"
     ]
    },
    {
     "name": "stderr",
     "output_type": "stream",
     "text": [
      "Epoch [6/10]: 100%|██████████| 207/207 [06:18<00:00,  1.83s/it, loss=0.0427]\n",
      "테스트 진행중: 100%|██████████| 139/139 [04:20<00:00,  1.87s/it, acc=52.91%]\n"
     ]
    },
    {
     "name": "stdout",
     "output_type": "stream",
     "text": [
      "테스트 정확도: 52.91%\n"
     ]
    },
    {
     "name": "stderr",
     "output_type": "stream",
     "text": [
      "Epoch [7/10]: 100%|██████████| 207/207 [06:18<00:00,  1.83s/it, loss=0.0494]\n",
      "테스트 진행중: 100%|██████████| 139/139 [04:18<00:00,  1.86s/it, acc=45.10%]\n"
     ]
    },
    {
     "name": "stdout",
     "output_type": "stream",
     "text": [
      "테스트 정확도: 45.10%\n"
     ]
    },
    {
     "name": "stderr",
     "output_type": "stream",
     "text": [
      "Epoch [8/10]: 100%|██████████| 207/207 [06:20<00:00,  1.84s/it, loss=0.0383]\n",
      "테스트 진행중: 100%|██████████| 139/139 [04:17<00:00,  1.85s/it, acc=56.67%]\n"
     ]
    },
    {
     "name": "stdout",
     "output_type": "stream",
     "text": [
      "테스트 정확도: 56.67%\n"
     ]
    },
    {
     "name": "stderr",
     "output_type": "stream",
     "text": [
      "Epoch [9/10]: 100%|██████████| 207/207 [06:19<00:00,  1.83s/it, loss=0.0646]\n",
      "테스트 진행중: 100%|██████████| 139/139 [04:18<00:00,  1.86s/it, acc=60.40%]\n"
     ]
    },
    {
     "name": "stdout",
     "output_type": "stream",
     "text": [
      "테스트 정확도: 60.40%\n"
     ]
    },
    {
     "name": "stderr",
     "output_type": "stream",
     "text": [
      "Epoch [10/10]: 100%|██████████| 207/207 [06:18<00:00,  1.83s/it, loss=0.0264]\n",
      "테스트 진행중: 100%|██████████| 139/139 [04:19<00:00,  1.87s/it, acc=61.50%]"
     ]
    },
    {
     "name": "stdout",
     "output_type": "stream",
     "text": [
      "테스트 정확도: 61.50%\n"
     ]
    },
    {
     "name": "stderr",
     "output_type": "stream",
     "text": [
      "\n"
     ]
    }
   ],
   "source": []
  },
  {
   "cell_type": "code",
   "execution_count": null,
   "id": "f0c99501",
   "metadata": {},
   "outputs": [
    {
     "name": "stderr",
     "output_type": "stream",
     "text": [
      "c:\\Users\\Genius Park\\AppData\\Local\\anaconda3\\envs\\cuda12_1\\lib\\site-packages\\IPython\\core\\pylabtools.py:152: UserWarning: Glyph 49892 (\\N{HANGUL SYLLABLE SIL}) missing from current font.\n",
      "  fig.canvas.print_figure(bytes_io, **kw)\n",
      "c:\\Users\\Genius Park\\AppData\\Local\\anaconda3\\envs\\cuda12_1\\lib\\site-packages\\IPython\\core\\pylabtools.py:152: UserWarning: Glyph 51228 (\\N{HANGUL SYLLABLE JE}) missing from current font.\n",
      "  fig.canvas.print_figure(bytes_io, **kw)\n",
      "c:\\Users\\Genius Park\\AppData\\Local\\anaconda3\\envs\\cuda12_1\\lib\\site-packages\\IPython\\core\\pylabtools.py:152: UserWarning: Glyph 44050 (\\N{HANGUL SYLLABLE GABS}) missing from current font.\n",
      "  fig.canvas.print_figure(bytes_io, **kw)\n",
      "c:\\Users\\Genius Park\\AppData\\Local\\anaconda3\\envs\\cuda12_1\\lib\\site-packages\\IPython\\core\\pylabtools.py:152: UserWarning: Glyph 53580 (\\N{HANGUL SYLLABLE TE}) missing from current font.\n",
      "  fig.canvas.print_figure(bytes_io, **kw)\n",
      "c:\\Users\\Genius Park\\AppData\\Local\\anaconda3\\envs\\cuda12_1\\lib\\site-packages\\IPython\\core\\pylabtools.py:152: UserWarning: Glyph 49828 (\\N{HANGUL SYLLABLE SEU}) missing from current font.\n",
      "  fig.canvas.print_figure(bytes_io, **kw)\n",
      "c:\\Users\\Genius Park\\AppData\\Local\\anaconda3\\envs\\cuda12_1\\lib\\site-packages\\IPython\\core\\pylabtools.py:152: UserWarning: Glyph 53944 (\\N{HANGUL SYLLABLE TEU}) missing from current font.\n",
      "  fig.canvas.print_figure(bytes_io, **kw)\n",
      "c:\\Users\\Genius Park\\AppData\\Local\\anaconda3\\envs\\cuda12_1\\lib\\site-packages\\IPython\\core\\pylabtools.py:152: UserWarning: Glyph 45936 (\\N{HANGUL SYLLABLE DE}) missing from current font.\n",
      "  fig.canvas.print_figure(bytes_io, **kw)\n",
      "c:\\Users\\Genius Park\\AppData\\Local\\anaconda3\\envs\\cuda12_1\\lib\\site-packages\\IPython\\core\\pylabtools.py:152: UserWarning: Glyph 51060 (\\N{HANGUL SYLLABLE I}) missing from current font.\n",
      "  fig.canvas.print_figure(bytes_io, **kw)\n",
      "c:\\Users\\Genius Park\\AppData\\Local\\anaconda3\\envs\\cuda12_1\\lib\\site-packages\\IPython\\core\\pylabtools.py:152: UserWarning: Glyph 53552 (\\N{HANGUL SYLLABLE TEO}) missing from current font.\n",
      "  fig.canvas.print_figure(bytes_io, **kw)\n",
      "c:\\Users\\Genius Park\\AppData\\Local\\anaconda3\\envs\\cuda12_1\\lib\\site-packages\\IPython\\core\\pylabtools.py:152: UserWarning: Glyph 54844 (\\N{HANGUL SYLLABLE HON}) missing from current font.\n",
      "  fig.canvas.print_figure(bytes_io, **kw)\n",
      "c:\\Users\\Genius Park\\AppData\\Local\\anaconda3\\envs\\cuda12_1\\lib\\site-packages\\IPython\\core\\pylabtools.py:152: UserWarning: Glyph 46041 (\\N{HANGUL SYLLABLE DONG}) missing from current font.\n",
      "  fig.canvas.print_figure(bytes_io, **kw)\n",
      "c:\\Users\\Genius Park\\AppData\\Local\\anaconda3\\envs\\cuda12_1\\lib\\site-packages\\IPython\\core\\pylabtools.py:152: UserWarning: Glyph 54665 (\\N{HANGUL SYLLABLE HAENG}) missing from current font.\n",
      "  fig.canvas.print_figure(bytes_io, **kw)\n",
      "c:\\Users\\Genius Park\\AppData\\Local\\anaconda3\\envs\\cuda12_1\\lib\\site-packages\\IPython\\core\\pylabtools.py:152: UserWarning: Glyph 47148 (\\N{HANGUL SYLLABLE RYEOL}) missing from current font.\n",
      "  fig.canvas.print_figure(bytes_io, **kw)\n",
      "c:\\Users\\Genius Park\\AppData\\Local\\anaconda3\\envs\\cuda12_1\\lib\\site-packages\\IPython\\core\\pylabtools.py:152: UserWarning: Glyph 50696 (\\N{HANGUL SYLLABLE YE}) missing from current font.\n",
      "  fig.canvas.print_figure(bytes_io, **kw)\n",
      "c:\\Users\\Genius Park\\AppData\\Local\\anaconda3\\envs\\cuda12_1\\lib\\site-packages\\IPython\\core\\pylabtools.py:152: UserWarning: Glyph 52769 (\\N{HANGUL SYLLABLE CEUG}) missing from current font.\n",
      "  fig.canvas.print_figure(bytes_io, **kw)\n"
     ]
    },
    {
     "data": {
      "image/png": "[encoded data removed]",
      "text/plain": [
       "<Figure size 600x500 with 2 Axes>"
      ]
     },
     "metadata": {},
     "output_type": "display_data"
    }
   ],
   "source": [
    "import matplotlib.pyplot as plt\n",
    "import seaborn as sns\n",
    "from sklearn.metrics import confusion_matrix\n",
    "\n",
    "# 테스트 데이터 전체 예측값과 실제값을 저장할 리스트\n",
    "all_labels = []\n",
    "all_preds = []\n",
    "\n",
    "model.eval()\n",
    "with torch.no_grad():\n",
    "    for rrsp_bpm, kss_label in test_dataloader:\n",
    "        if torch.isnan(rrsp_bpm).any() or torch.isnan(kss_label).any():\n",
    "            continue\n",
    "        rrsp_bpm = rrsp_bpm.to(device, dtype=torch.float32)\n",
    "        kss_label = kss_label.to(device)\n",
    "        outputs = model(rrsp_bpm)\n",
    "        if torch.isnan(outputs).any():\n",
    "            continue\n",
    "        _, predicted = torch.max(outputs, 1)\n",
    "        all_labels.extend(kss_label.cpu().numpy())\n",
    "        all_preds.extend(predicted.cpu().numpy())\n",
    "\n",
    "cm = confusion_matrix(all_labels, all_preds)\n",
    "plt.figure(figsize=(6,5))\n",
    "sns.heatmap(cm, annot=True, fmt=\"d\", cmap=\"Blues\", xticklabels=[0,1,2], yticklabels=[0,1,2])\n",
    "plt.xlabel(\"예측값\")\n",
    "plt.ylabel(\"실제값\")\n",
    "plt.title(\"테스트 데이터 혼동행렬\")\n",
    "plt.show()\n"
   ]
  },
  {
   "cell_type": "code",
   "execution_count": null,
   "id": "dd3e5185",
   "metadata": {},
   "outputs": [],
   "source": []
  },
  {
   "cell_type": "code",
   "execution_count": null,
   "id": "f8c75ae9",
   "metadata": {},
   "outputs": [],
   "source": []
  },
  {
   "cell_type": "code",
   "execution_count": null,
   "id": "db0792e5",
   "metadata": {},
   "outputs": [
    {
     "data": {
      "image/png": "[encoded data removed]",
      "text/plain": [
       "<Figure size 600x500 with 2 Axes>"
      ]
     },
     "metadata": {},
     "output_type": "display_data"
    }
   ],
   "source": [
    "import matplotlib.pyplot as plt\n",
    "\n",
    "cm = confusion_matrix(all_labels, all_preds)\n",
    "plt.figure(figsize=(6,5))\n",
    "sns.heatmap(cm, annot=True, fmt=\"d\", cmap=\"Blues\", xticklabels=[0,1,2], yticklabels=[0,1,2])\n",
    "plt.xlabel(\"Predicted\")\n",
    "plt.ylabel(\"Actual\")\n",
    "plt.title(\"Confusion Matrix on Test Data\")\n",
    "plt.show()"
   ]
  },
  {
   "cell_type": "code",
   "execution_count": null,
   "id": "85c6f9c5",
   "metadata": {},
   "outputs": [],
   "source": [
    "\n",
    "\n",
    "model = ResNet1D(\n",
    "    in_channels=96,\n",
    "    base_filters=16,\n",
    "    kernel_size=7,\n",
    "    stride=1,\n",
    "    groups=1,\n",
    "    n_block=5,\n",
    "    n_classes=3,\n",
    "    downsample_gap=2,\n",
    "    increasefilter_gap=4,\n",
    "    use_bn=True,\n",
    "    use_do=True,\n",
    "    verbose=False\n",
    ")"
   ]
  },
  {
   "cell_type": "code",
   "execution_count": null,
   "id": "d4421741",
   "metadata": {},
   "outputs": [
    {
     "ename": "NameError",
     "evalue": "name 'confusion_matrix' is not defined",
     "output_type": "error",
     "traceback": [
      "\u001b[1;31m---------------------------------------------------------------------------\u001b[0m",
      "\u001b[1;31mNameError\u001b[0m                                 Traceback (most recent call last)",
      "Cell \u001b[1;32mIn[5], line 3\u001b[0m\n\u001b[0;32m      1\u001b[0m \u001b[38;5;28;01mimport\u001b[39;00m \u001b[38;5;21;01mmatplotlib\u001b[39;00m\u001b[38;5;21;01m.\u001b[39;00m\u001b[38;5;21;01mpyplot\u001b[39;00m \u001b[38;5;28;01mas\u001b[39;00m \u001b[38;5;21;01mplt\u001b[39;00m\n\u001b[1;32m----> 3\u001b[0m cm \u001b[38;5;241m=\u001b[39m \u001b[43mconfusion_matrix\u001b[49m(all_labels, all_preds)\n\u001b[0;32m      4\u001b[0m plt\u001b[38;5;241m.\u001b[39mfigure(figsize\u001b[38;5;241m=\u001b[39m(\u001b[38;5;241m6\u001b[39m,\u001b[38;5;241m5\u001b[39m))\n\u001b[0;32m      5\u001b[0m sns\u001b[38;5;241m.\u001b[39mheatmap(cm, annot\u001b[38;5;241m=\u001b[39m\u001b[38;5;28;01mTrue\u001b[39;00m, fmt\u001b[38;5;241m=\u001b[39m\u001b[38;5;124m\"\u001b[39m\u001b[38;5;124md\u001b[39m\u001b[38;5;124m\"\u001b[39m, cmap\u001b[38;5;241m=\u001b[39m\u001b[38;5;124m\"\u001b[39m\u001b[38;5;124mBlues\u001b[39m\u001b[38;5;124m\"\u001b[39m, xticklabels\u001b[38;5;241m=\u001b[39m[\u001b[38;5;241m0\u001b[39m,\u001b[38;5;241m1\u001b[39m,\u001b[38;5;241m2\u001b[39m], yticklabels\u001b[38;5;241m=\u001b[39m[\u001b[38;5;241m0\u001b[39m,\u001b[38;5;241m1\u001b[39m,\u001b[38;5;241m2\u001b[39m])\n",
      "\u001b[1;31mNameError\u001b[0m: name 'confusion_matrix' is not defined"
     ]
    }
   ],
   "source": [
    "import matplotlib.pyplot as plt\n",
    "\n",
    "cm = confusion_matrix(all_labels, all_preds)\n",
    "plt.figure(figsize=(6,5))\n",
    "sns.heatmap(cm, annot=True, fmt=\"d\", cmap=\"Blues\", xticklabels=[0,1,2], yticklabels=[0,1,2])\n",
    "plt.xlabel(\"Predicted\")\n",
    "plt.ylabel(\"Actual\")\n",
    "plt.title(\"Confusion Matrix on Test Data\")\n",
    "plt.show()"
   ]
  },
  {
   "cell_type": "code",
   "execution_count": null,
   "id": "a5c05087",
   "metadata": {},
   "outputs": [
    {
     "data": {
      "image/png": "[encoded data removed]",
      "text/plain": [
       "<Figure size 640x480 with 1 Axes>"
      ]
     },
     "metadata": {},
     "output_type": "display_data"
    }
   ],
   "source": [
    "import pandas as pd\n",
    "import matplotlib.pyplot as plt\n",
    "\n",
    "file_path = \"./split_samples/train/1-1/sample_00630.csv\"\n",
    "df = pd.read_csv(file_path)\n",
    "\n",
    "# rrsp_bpm_final 컬럼만 추출하여 리스트로 변환\n",
    "rrsp_bpm_list = df['rrsp_bpm_final'].tolist()\n",
    "\n",
    "plt.plot(rrsp_bpm_list)\n",
    "plt.show()"
   ]
  },
  {
   "cell_type": "code",
   "execution_count": null,
   "id": "7f4fef24",
   "metadata": {},
   "outputs": [],
   "source": [
    "kss_path = \"./DROZY/KSS.txt\"\n",
    "kss_dict = {}\n",
    "key_list = []\n",
    "for i in range(1, 15):\n",
    "    for j in range(1, 4):\n",
    "        key_list.append(f\"{i}-{j}\")\n",
    "\n",
    "with open(kss_path, 'r') as f:\n",
    "    kss_values = []\n",
    "    for line in f:\n",
    "        kss_values.extend(line.strip().split())\n",
    "\n",
    "# KSS 값을 1~3은 0, 4~6은 1, 7~9는 3으로 치환\n",
    "def map_kss_value(val):\n",
    "    v = int(val)\n",
    "    if 1 <= v <= 3:\n",
    "        return 0\n",
    "    elif 4 <= v <= 6:\n",
    "        return 1\n",
    "    elif 7 <= v <= 9:\n",
    "        return 3\n",
    "    else:\n",
    "        return v  # 혹시 모를 예외 처리\n",
    "\n",
    "for idx, key in enumerate(key_list):\n",
    "    kss_dict[key] = map_kss_value(kss_values[idx])"
   ]
  },
  {
   "cell_type": "code",
   "execution_count": null,
   "id": "1c9e553b",
   "metadata": {},
   "outputs": [
    {
     "data": {
      "text/plain": [
       "{'1-1': 0,\n",
       " '1-2': 1,\n",
       " '1-3': 3,\n",
       " '2-1': 0,\n",
       " '2-2': 3,\n",
       " '2-3': 1,\n",
       " '3-1': 0,\n",
       " '3-2': 0,\n",
       " '3-3': 1,\n",
       " '4-1': 1,\n",
       " '4-2': 3,\n",
       " '4-3': 3,\n",
       " '5-1': 0,\n",
       " '5-2': 3,\n",
       " '5-3': 3,\n",
       " '6-1': 0,\n",
       " '6-2': 0,\n",
       " '6-3': 3,\n",
       " '7-1': 0,\n",
       " '7-2': 1,\n",
       " '7-3': 3,\n",
       " '8-1': 0,\n",
       " '8-2': 1,\n",
       " '8-3': 3,\n",
       " '9-1': 0,\n",
       " '9-2': 1,\n",
       " '9-3': 3,\n",
       " '10-1': 0,\n",
       " '10-2': 1,\n",
       " '10-3': 3,\n",
       " '11-1': 1,\n",
       " '11-2': 3,\n",
       " '11-3': 3,\n",
       " '12-1': 0,\n",
       " '12-2': 1,\n",
       " '12-3': 1,\n",
       " '13-1': 1,\n",
       " '13-2': 0,\n",
       " '13-3': 3,\n",
       " '14-1': 1,\n",
       " '14-2': 3,\n",
       " '14-3': 3}"
      ]
     },
     "execution_count": 17,
     "metadata": {},
     "output_type": "execute_result"
    }
   ],
   "source": [
    "kss_dict"
   ]
  },
  {
   "cell_type": "markdown",
   "id": "691cbf2b",
   "metadata": {},
   "source": [
    "### 신호 데이터 확인"
   ]
  },
  {
   "cell_type": "code",
   "execution_count": null,
   "id": "18eb976f",
   "metadata": {},
   "outputs": [],
   "source": [
    "# import pandas as pd\n",
    "# # import numpy as np\n",
    "# # import cv2\n",
    "\n",
    "# # # CSV 파일 경로\n",
    "# # df_path = \"G:/DROZY_signals/split_eye_landmark/train/5-2/sample_00300.csv\"\n",
    "# # df = pd.read_csv(df_path)\n",
    "\n",
    "# # # 전체 프레임 수\n",
    "# # num_frames = len(df)\n",
    "\n",
    "# # # 랜드마크 키 추출\n",
    "# # landmark_keys = sorted(set(col[:-2] for col in df.columns if col.endswith(\"_x\")))\n",
    "\n",
    "# # # 프레임 사이즈 키우기\n",
    "# # canvas_size = (1024, 1024)\n",
    "\n",
    "# # frame_index = 0\n",
    "# # while True:\n",
    "# #     # 흰색 배경 캔버스\n",
    "# #     canvas = np.ones((canvas_size[1], canvas_size[0], 3), dtype=np.uint8) * 255\n",
    "\n",
    "# #     frame = df.iloc[frame_index]\n",
    "# #     for i, key in enumerate(landmark_keys):\n",
    "# #         x = int(frame[f\"{key}_x\"] * canvas_size[0])\n",
    "# #         y = int(frame[f\"{key}_y\"] * canvas_size[1])\n",
    "# #         cv2.circle(canvas, (x, y), 6, (255, 0, 0), -1)  # 점 크게\n",
    "# #         cv2.putText(canvas, str(i), (x + 4, y - 4), cv2.FONT_HERSHEY_SIMPLEX, 0.6, (0, 0, 0), 2)\n",
    "\n",
    "# #     cv2.putText(canvas, f\"Frame {frame_index}\", (30, 50), cv2.FONT_HERSHEY_SIMPLEX, 1, (0, 0, 255), 2)\n",
    "# #     cv2.imshow(\"Landmark Viewer\", canvas)\n",
    "\n",
    "# #     key = cv2.waitKey(0) & 0xFF\n",
    "# #     if key == ord('d'):\n",
    "# #         frame_index += 1\n",
    "# #         if frame_index >= num_frames:\n",
    "# #             print(\"마지막 프레임입니다.\")\n",
    "# #             break\n",
    "# #     elif key == ord('q'):\n",
    "# #         print(\"종료합니다.\")\n",
    "# #         break\n",
    "\n",
    "# # cv2.destroyAllWindows()\n"
   ]
  },
  {
   "cell_type": "code",
   "execution_count": null,
   "id": "a84a73e5",
   "metadata": {},
   "outputs": [
    {
     "name": "stderr",
     "output_type": "stream",
     "text": [
      "NaN 검사 중: 100%|██████████| 9167/9167 [01:45<00:00, 86.79it/s] "
     ]
    },
    {
     "name": "stdout",
     "output_type": "stream",
     "text": [
      "NaN 값이 있는 파일 목록:\n"
     ]
    },
    {
     "name": "stderr",
     "output_type": "stream",
     "text": [
      "\n"
     ]
    }
   ],
   "source": [
    "import pandas as pd\n",
    "import glob\n",
    "import concurrent.futures\n",
    "from tqdm import tqdm\n",
    "\n",
    "csv_paths = glob.glob(\"G:/DROZY_signals/split_eye_landmark/test/*/*.csv\")\n",
    "nan_file_list = []\n",
    "\n",
    "def check_nan(path):\n",
    "    try:\n",
    "        df = pd.read_csv(path)\n",
    "        if df.isnull().values.any():\n",
    "            return path\n",
    "    except Exception as e:\n",
    "        print(f\"파일 읽기 오류: {path}, 에러: {e}\")\n",
    "    return None\n",
    "\n",
    "with concurrent.futures.ThreadPoolExecutor() as executor:\n",
    "    results = list(tqdm(executor.map(check_nan, csv_paths), total=len(csv_paths), desc=\"NaN 검사 중\"))\n",
    "\n",
    "nan_file_list = [r for r in results if r is not None]\n",
    "\n",
    "print(\"NaN 값이 있는 파일 목록:\")\n",
    "for file in nan_file_list:\n",
    "    print(file)\n"
   ]
  },
  {
   "cell_type": "code",
   "execution_count": null,
   "id": "fd384112",
   "metadata": {},
   "outputs": [
    {
     "data": {
      "text/plain": [
       "[]"
      ]
     },
     "execution_count": 16,
     "metadata": {},
     "output_type": "execute_result"
    }
   ],
   "source": [
    "nan_file_list"
   ]
  },
  {
   "cell_type": "code",
   "execution_count": null,
   "id": "eca0ad63",
   "metadata": {},
   "outputs": [
    {
     "name": "stdout",
     "output_type": "stream",
     "text": [
      "Collecting send2trash\n",
      "  Downloading Send2Trash-1.8.3-py3-none-any.whl.metadata (4.0 kB)\n",
      "Downloading Send2Trash-1.8.3-py3-none-any.whl (18 kB)\n",
      "Installing collected packages: send2trash\n",
      "Successfully installed send2trash-1.8.3\n"
     ]
    }
   ],
   "source": [
    "!pip install send2trash"
   ]
  },
  {
   "cell_type": "code",
   "execution_count": null,
   "id": "aac152da",
   "metadata": {},
   "outputs": [],
   "source": [
    "from send2trash import send2trash\n",
    "import os\n",
    "\n",
    "trash_dir = \"G:/DROZY_signals/split_eye_landmark/trashbin\"\n",
    "os.makedirs(trash_dir, exist_ok=True)\n",
    "\n",
    "for file_path in nan_file_list:\n",
    "    try:\n",
    "        file_name = os.path.basename(file_path)\n",
    "        dest_path = os.path.join(trash_dir, file_name)\n",
    "        os.rename(file_path, dest_path)\n",
    "        print(f\"{file_path} → {dest_path}로 이동 완료\")\n",
    "    except Exception as e:\n",
    "        print(f\"{file_path} 이동 실패: {e}\")\n"
   ]
  },
  {
   "cell_type": "code",
   "execution_count": null,
   "id": "4721f555",
   "metadata": {},
   "outputs": [],
   "source": []
  },
  {
   "cell_type": "code",
   "execution_count": null,
   "metadata": {},
   "outputs": [],
   "source": []
  },
  {
   "cell_type": "code",
   "execution_count": 21,
   "id": "a68282d3",
   "metadata": {},
   "outputs": [
    {
     "name": "stderr",
     "output_type": "stream",
     "text": [
      "전체 파일 진행 상황:   0%|          | 0/36 [00:00<?, ?it/s]"
     ]
    },
    {
     "name": "stdout",
     "output_type": "stream",
     "text": [
      "npy_path ./DROZY/gaeMuRan/interpolated_videos\\1-1_interp_30fps.mp4\n"
     ]
    },
    {
     "name": "stderr",
     "output_type": "stream",
     "text": [
      "전체 파일 진행 상황:   3%|▎         | 1/36 [01:38<57:14, 98.14s/it]"
     ]
    },
    {
     "name": "stdout",
     "output_type": "stream",
     "text": [
      "npy_path ./DROZY/gaeMuRan/interpolated_videos\\1-2_interp_30fps.mp4\n"
     ]
    },
    {
     "name": "stderr",
     "output_type": "stream",
     "text": [
      "전체 파일 진행 상황:   3%|▎         | 1/36 [02:37<1:31:48, 157.38s/it]"
     ]
    },
    {
     "name": "stdout",
     "output_type": "stream",
     "text": [
      "[INFO] First frame is None, searching previous files for ./DROZY/gaeMuRan/interpolated_videos\\1-2_interp_30fps.mp4\n"
     ]
    },
    {
     "name": "stderr",
     "output_type": "stream",
     "text": [
      "\n"
     ]
    },
    {
     "ename": "ValueError",
     "evalue": "invalid literal for int() with base 10: '1-2_interp_30fps'",
     "output_type": "error",
     "traceback": [
      "\u001b[1;31m---------------------------------------------------------------------------\u001b[0m",
      "\u001b[1;31mValueError\u001b[0m                                Traceback (most recent call last)",
      "Cell \u001b[1;32mIn[21], line 122\u001b[0m\n\u001b[0;32m    119\u001b[0m     \u001b[38;5;28;01melse\u001b[39;00m:\n\u001b[0;32m    120\u001b[0m         face_landmarks\u001b[38;5;241m.\u001b[39mappend(\u001b[38;5;28;01mNone\u001b[39;00m)\n\u001b[1;32m--> 122\u001b[0m face_landmarks \u001b[38;5;241m=\u001b[39m \u001b[43minterpolate_landmarks_ffill\u001b[49m\u001b[43m(\u001b[49m\u001b[43mface_landmarks\u001b[49m\u001b[43m,\u001b[49m\u001b[43m \u001b[49m\u001b[43mnpy_path\u001b[49m\u001b[43m,\u001b[49m\u001b[43m \u001b[49m\u001b[43mface_mesh\u001b[49m\u001b[43m,\u001b[49m\u001b[43m \u001b[49m\u001b[43mall_indices\u001b[49m\u001b[43m)\u001b[49m\n\u001b[0;32m    123\u001b[0m face_landmarks \u001b[38;5;241m=\u001b[39m np\u001b[38;5;241m.\u001b[39marray(face_landmarks)\n\u001b[0;32m    125\u001b[0m \u001b[38;5;66;03m# 1분 window, 1초 stride로 split\u001b[39;00m\n",
      "Cell \u001b[1;32mIn[21], line 37\u001b[0m, in \u001b[0;36minterpolate_landmarks_ffill\u001b[1;34m(landmarks_list, npy_path, face_mesh, all_indices)\u001b[0m\n\u001b[0;32m     35\u001b[0m \u001b[38;5;28;01mif\u001b[39;00m interpolated[\u001b[38;5;241m0\u001b[39m] \u001b[38;5;129;01mis\u001b[39;00m \u001b[38;5;28;01mNone\u001b[39;00m:\n\u001b[0;32m     36\u001b[0m     \u001b[38;5;28mprint\u001b[39m(\u001b[38;5;124mf\u001b[39m\u001b[38;5;124m\"\u001b[39m\u001b[38;5;124m[INFO] First frame is None, searching previous files for \u001b[39m\u001b[38;5;132;01m{\u001b[39;00mnpy_path\u001b[38;5;132;01m}\u001b[39;00m\u001b[38;5;124m\"\u001b[39m)\n\u001b[1;32m---> 37\u001b[0m     current_idx \u001b[38;5;241m=\u001b[39m \u001b[38;5;28;43mint\u001b[39;49m\u001b[43m(\u001b[49m\u001b[43mos\u001b[49m\u001b[38;5;241;43m.\u001b[39;49m\u001b[43mpath\u001b[49m\u001b[38;5;241;43m.\u001b[39;49m\u001b[43mbasename\u001b[49m\u001b[43m(\u001b[49m\u001b[43mnpy_path\u001b[49m\u001b[43m)\u001b[49m\u001b[38;5;241;43m.\u001b[39;49m\u001b[43msplit\u001b[49m\u001b[43m(\u001b[49m\u001b[38;5;124;43m'\u001b[39;49m\u001b[38;5;124;43m.\u001b[39;49m\u001b[38;5;124;43m'\u001b[39;49m\u001b[43m)\u001b[49m\u001b[43m[\u001b[49m\u001b[38;5;241;43m0\u001b[39;49m\u001b[43m]\u001b[49m\u001b[43m)\u001b[49m  \u001b[38;5;66;03m# e.g., 4200\u001b[39;00m\n\u001b[0;32m     38\u001b[0m     step \u001b[38;5;241m=\u001b[39m \u001b[38;5;241m150\u001b[39m  \u001b[38;5;66;03m# overlap step size\u001b[39;00m\n\u001b[0;32m     39\u001b[0m     base_dir \u001b[38;5;241m=\u001b[39m os\u001b[38;5;241m.\u001b[39mpath\u001b[38;5;241m.\u001b[39mdirname(npy_path)\n",
      "\u001b[1;31mValueError\u001b[0m: invalid literal for int() with base 10: '1-2_interp_30fps'"
     ]
    }
   ],
   "source": [
    "import numpy as np\n",
    "from pyts.image import MarkovTransitionField\n",
    "import mediapipe as mp\n",
    "from sklearn.decomposition import PCA\n",
    "import cv2\n",
    "import glob\n",
    "import os\n",
    "from tqdm import tqdm  # tqdm 추가\n",
    "\n",
    "def extract_landmarks_from_frame(frame, face_mesh, all_indices):\n",
    "    \"\"\"\n",
    "    Mediapipe를 이용해 frame에서 all_indices에 해당하는 landmark를 추출\n",
    "    \"\"\"\n",
    "    import cv2\n",
    "    image_rgb = cv2.cvtColor(frame[:, :, :3], cv2.COLOR_BGR2RGB)\n",
    "    results = face_mesh.process(image_rgb)\n",
    "    if results.multi_face_landmarks:\n",
    "        face = results.multi_face_landmarks[0]\n",
    "        coords = [[face.landmark[i].x, face.landmark[i].y, face.landmark[i].z] for i in all_indices]\n",
    "        return coords\n",
    "    else:\n",
    "        return None\n",
    "\n",
    "def interpolate_landmarks_ffill(landmarks_list, npy_path, face_mesh, all_indices):\n",
    "    total_frames = len(landmarks_list)\n",
    "    interpolated = [None] * total_frames\n",
    "    # Step 1: Convert list to array with NaNs\n",
    "    for i, landmarks in enumerate(landmarks_list):\n",
    "        if landmarks is not None:\n",
    "            interpolated[i] = landmarks\n",
    "        else:\n",
    "            interpolated[i] = None\n",
    "        \n",
    "        # [NEW] If first frame is None and search_prev is enabled\n",
    "        if interpolated[0] is None:\n",
    "            print(f\"[INFO] First frame is None, searching previous files for {npy_path}\")\n",
    "            current_idx = int(os.path.basename(npy_path).split('.')[0])  # e.g., 4200\n",
    "            step = 150  # overlap step size\n",
    "            base_dir = os.path.dirname(npy_path)\n",
    "            \n",
    "\n",
    "            for prev_start in range(current_idx - step, -1, -step):  # 4050 → 3900 → 3750 ...\n",
    "                prev_path = os.path.join(base_dir, f\"{prev_start}.npy\")\n",
    "                if os.path.exists(prev_path):\n",
    "                    try:\n",
    "\n",
    "                        prev_data = np.load(prev_path, allow_pickle=True)\n",
    "                        prev_target_idx = current_idx - 1 - prev_start  # e.g., 4199 - 4050 = 149\n",
    "\n",
    "                        # [NEW] 역순으로 landmark가 있는 가장 최근 프레임 탐색\n",
    "                        for idx in range(prev_target_idx, -1, -1):\n",
    "                            frame = prev_data[idx]\n",
    "                            if frame is not None:\n",
    "                                landmarks_prev = extract_landmarks_from_frame(frame, face_mesh, all_indices)\n",
    "                                if landmarks_prev is not None:\n",
    "                                    interpolated[0] = np.array(landmarks_prev)\n",
    "                                    break\n",
    "                                \n",
    "                        if interpolated[0] is not None:\n",
    "                            break  # break for-loop over files\n",
    "                    except Exception as e:\n",
    "                        print(f\"[WARN] Failed to load previous file {prev_path}: {e}\")\n",
    "\n",
    "    # Step 2: Forward fill\n",
    "    last_valid = None\n",
    "    for i in range(total_frames):\n",
    "        if interpolated[i] is not None:\n",
    "            last_valid = interpolated[i]\n",
    "        else:\n",
    "            if last_valid is not None:\n",
    "                interpolated[i] = np.array(last_valid)\n",
    "\n",
    "    interpolated_array = np.stack(interpolated)  # shape: (frames, landmarks, 3)\n",
    "    return interpolated_array\n",
    "\n",
    "face_landmarks_indices = {\n",
    "    \"right_eyebrow\": [46, 53, 52, 65, 55, 107, 66, 105, 63, 70],\n",
    "    \"left_eyebrow\": [276, 283, 282, 295, 285, 336, 296, 334, 293, 300],\n",
    "    \"right_eye\": [33, 133, 160, 158, 144, 153, 145, 362, 385, 387, 263, 373, 380, 374],\n",
    "    \"left_eye\": [263, 362, 385, 387, 373, 380, 374, 33, 133, 160, 158, 144, 153, 145],\n",
    "    \"nose\": [6, 197, 195, 5, 4, 45, 220, 115, 48],\n",
    "    \"nose_tip\": [1],\n",
    "    \"nostrils\": [49, 279, 309, 458],\n",
    "    \"outer_lips\": [61, 146, 91, 181, 84, 17, 314, 405, 321, 375, 291, 308],\n",
    "    \"inner_lips\": [78, 95, 88, 178, 87, 14, 317, 402, 318, 324, 308]\n",
    "}\n",
    "all_indices = sorted(list(set([idx for group in face_landmarks_indices.values() for idx in group])))\n",
    "\n",
    "mp_face_mesh = mp.solutions.face_mesh\n",
    "face_mesh = mp_face_mesh.FaceMesh(static_image_mode=True, max_num_faces=1)\n",
    "\n",
    "face_landmarks = []\n",
    "\n",
    "## 경로 설정해야합니다\n",
    "avi_path_list = glob.glob(\"./DROZY/gaeMuRan/interpolated_videos/*.mp4\")\n",
    "# base_path = \n",
    "\n",
    "for npy_path in tqdm(avi_path_list, desc=\"전체 파일 진행 상황\"):  # tqdm으로 전체 파일 진행률 표시\n",
    "    print('npy_path',npy_path)\n",
    "    # npy_path는 avi 파일 경로이므로, np.load로 불러올 수 없습니다.\n",
    "    # avi 파일을 프레임 단위로 읽어서 face_npy에 저장해야 합니다.\n",
    "    cap = cv2.VideoCapture(npy_path)\n",
    "    face_npy = []\n",
    "    while True:\n",
    "        ret, frame = cap.read()\n",
    "        if not ret:\n",
    "            break\n",
    "        face_npy.append(frame)\n",
    "    cap.release()\n",
    "    face_npy = np.array(face_npy)\n",
    "    face_landmarks = []\n",
    "    for frame in tqdm(face_npy, desc=f\"{os.path.basename(npy_path)} 프레임 처리\", leave=False):  # tqdm으로 프레임 진행률 표시\n",
    "        image_rgb = cv2.cvtColor(frame[:, :, :3], cv2.COLOR_BGR2RGB)\n",
    "        results = face_mesh.process(image_rgb)\n",
    "        if results.multi_face_landmarks:\n",
    "            face = results.multi_face_landmarks[0]\n",
    "            coords = [[face.landmark[i].x, face.landmark[i].y, face.landmark[i].z] for i in all_indices]\n",
    "            face_landmarks.append(coords)\n",
    "        else:\n",
    "            face_landmarks.append(None)\n",
    "\n",
    "    face_landmarks = interpolate_landmarks_ffill(face_landmarks, npy_path, face_mesh, all_indices)\n",
    "    face_landmarks = np.array(face_landmarks)\n",
    "\n",
    "    # 1분 window, 1초 stride로 split\n",
    "    fps = 30  # FPS를 실제 영상에 맞게 지정하세요\n",
    "    window_size = 60 * fps  # 1분 window\n",
    "    stride = 1 * fps        # 1초 stride\n",
    "\n",
    "    total_frames = face_landmarks.shape[0]\n",
    "    window_idx = 0\n",
    "\n",
    "    for start in range(0, total_frames - window_size + 1, stride):\n",
    "        end = start + window_size\n",
    "        window_landmarks = face_landmarks[start:end]\n",
    "\n",
    "        # PCA 적용\n",
    "        pca = PCA(n_components=1)\n",
    "        x_landmarks_pca = pca.fit_transform(window_landmarks[:, :, 0].T).T\n",
    "        y_landmarks_pca = pca.fit_transform(window_landmarks[:, :, 1].T).T\n",
    "        z_landmarks_pca = pca.fit_transform(window_landmarks[:, :, 2].T).T\n",
    "\n",
    "        window_landmarks_pca = np.stack((x_landmarks_pca, y_landmarks_pca, z_landmarks_pca), axis=-1)\n",
    "\n",
    "        mtf = MarkovTransitionField(image_size=70)\n",
    "        mtf_images = []\n",
    "\n",
    "        for i in tqdm(range(window_landmarks_pca.shape[-1]), desc=f\"MTF 변환 (window {window_idx})\", leave=False):\n",
    "            mtf_image = mtf.fit_transform(window_landmarks_pca[:, :, i])\n",
    "            mtf_images.append(mtf_image)\n",
    "\n",
    "        mtf_images = np.stack(mtf_images, axis=-1)\n",
    "\n",
    "        # 저장 경로 생성 및 저장\n",
    "        save_path = npy_path.replace('interpolated_videos', 'interpolated_videos_mtf')\n",
    "        save_dir = os.path.dirname(save_path)\n",
    "        if not os.path.exists(save_dir):\n",
    "            os.makedirs(save_dir)\n",
    "        # 파일명에 window index 추가\n",
    "        base, ext = os.path.splitext(save_path)\n",
    "        save_path_window = f\"{base}_window{window_idx}{ext}\"\n",
    "\n",
    "        np.save(save_path_window, mtf_images)\n",
    "        window_idx += 1\n"
   ]
  },
  {
   "cell_type": "code",
   "execution_count": 19,
   "id": "ce829f60",
   "metadata": {},
   "outputs": [
    {
     "name": "stdout",
     "output_type": "stream",
     "text": [
      "None 값 개수: 383\n",
      "None 값 인덱스: [58, 59, 60, 62, 77, 79, 81, 84, 85, 106, 108, 109, 319, 320, 321, 322, 323, 324, 325, 326, 327, 328, 329, 330, 331, 332, 333, 334, 335, 336, 1914, 1938, 1939, 1940, 1941, 1942, 1945, 1955, 1956, 1957, 1981, 4377, 4379, 4380, 4381, 4382, 4383, 4386, 8481, 8482, 8483, 8484, 8485, 8486, 8619, 8620, 8622, 8623, 8624, 8635, 8639, 8640, 8641, 8642, 8643, 8644, 8645, 8646, 8647, 8648, 8649, 8650, 8651, 8652, 8653, 8654, 8655, 9517, 9520, 9521, 9522, 9523, 9524, 9525, 9526, 9528, 9529, 9531, 9535, 9536, 9537, 9538, 9539, 9540, 9550, 9551, 9552, 9553, 9554, 9555, 9574, 9576, 9577, 9578, 9579, 9580, 9581, 9582, 9583, 9584, 9585, 9586, 9587, 9588, 9589, 9590, 9591, 9599, 9607, 9608, 9609, 9610, 9611, 9612, 9613, 9614, 9615, 9616, 9617, 9618, 9619, 9620, 9827, 9828, 9829, 9830, 9831, 9832, 9833, 9845, 9846, 10273, 10274, 10326, 10327, 10328, 10329, 10330, 10338, 10340, 10341, 10344, 10345, 10346, 10347, 10348, 10349, 10350, 10351, 10352, 10353, 10354, 10355, 10356, 10357, 10358, 10359, 10360, 10361, 10362, 10363, 10364, 10365, 10366, 10367, 10368, 10369, 10370, 10371, 10372, 10373, 10374, 10375, 10376, 10377, 10378, 10379, 10380, 10381, 10382, 10384, 10385, 10386, 10387, 10388, 10389, 10390, 10391, 10392, 10393, 10394, 10398, 10399, 10400, 10401, 10402, 10403, 10404, 10405, 10406, 10407, 10408, 10409, 10410, 10411, 10412, 10413, 10414, 10415, 10417, 10421, 10443, 10444, 10447, 10604, 10643, 10644, 10645, 10680, 10681, 10682, 10683, 10684, 10685, 10686, 10687, 10688, 10689, 10690, 10691, 10695, 10696, 10697, 10698, 10699, 10700, 10701, 10702, 10703, 10704, 10705, 10706, 10708, 10712, 10713, 10714, 10715, 10716, 10717, 10718, 10719, 10720, 10721, 10722, 10723, 10724, 10725, 10726, 10727, 10728, 10729, 10730, 10731, 10732, 10733, 10734, 10735, 10736, 10739, 10740, 10741, 10742, 10743, 10744, 10745, 10746, 10747, 10748, 10749, 10750, 10752, 10753, 10754, 10755, 10756, 10757, 10758, 10759, 10760, 10761, 10762, 10763, 10765, 10766, 10767, 10768, 10769, 10770, 10771, 10776, 10777, 10778, 10781, 10783, 10786, 10787, 10791, 10792, 10793, 10794, 10795, 10796, 10797, 10798, 10799, 10800, 10801, 10802, 10803, 10804, 10805, 10806, 10807, 10808, 10809, 10810, 10811, 10824, 10825, 10834, 10835, 10836, 10837, 10883, 10908, 10909, 10910, 10916, 10917, 10918, 10919, 10922, 10953, 10954, 10955, 11005, 11006, 11007, 11043, 11044, 11045, 11377, 11378, 12555, 12556, 12566, 12567, 12568, 12569, 12570, 12571, 12572, 12573, 12574, 12575, 13871, 13873, 13875, 13876, 13879, 15405, 15406, 15407]\n"
     ]
    }
   ],
   "source": [
    "# None 값이 있는지 탐색\n",
    "\n",
    "import numpy as np\n",
    "\n",
    "print(\"None 값 개수:\", np.sum([x is None for x in face_landmarks]))\n",
    "print(\"None 값 인덱스:\", [i for i, x in enumerate(face_landmarks) if x is None])"
   ]
  },
  {
   "cell_type": "code",
   "execution_count": 17,
   "id": "ef004251",
   "metadata": {},
   "outputs": [
    {
     "data": {
      "text/plain": [
       "17999"
      ]
     },
     "execution_count": 17,
     "metadata": {},
     "output_type": "execute_result"
    }
   ],
   "source": [
    "len(face_landmarks)"
   ]
  },
  {
   "cell_type": "code",
   "execution_count": null,
   "id": "e22a597a",
   "metadata": {},
   "outputs": [],
   "source": []
  }
 ],
 "metadata": {
  "kernelspec": {
   "display_name": "cuda12_1",
   "language": "python",
   "name": "python3"
  },
  "language_info": {
   "codemirror_mode": {
    "name": "ipython",
    "version": 3
   },
   "file_extension": ".py",
   "mimetype": "text/x-python",
   "name": "python",
   "nbconvert_exporter": "python",
   "pygments_lexer": "ipython3",
   "version": "3.8.19"
  }
 },
 "nbformat": 4,
 "nbformat_minor": 5
}
